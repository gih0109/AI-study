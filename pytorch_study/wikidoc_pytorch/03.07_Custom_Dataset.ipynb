{
 "cells": [
  {
   "cell_type": "code",
   "execution_count": 1,
   "metadata": {},
   "outputs": [],
   "source": [
    "# 커스텀 데이터셋(Custom Dataset)\n",
    "\n",
    "# torch.utils.data.Dataset 을 상속받아 직접 커스텀셋(Custom Dataset) 을 만들수 있다.\n",
    "# Dataset 을 상속받아 메소드를 오버라이드 해 커스텀 데이터셋을 만들기"
   ]
  },
  {
   "cell_type": "code",
   "execution_count": 2,
   "metadata": {},
   "outputs": [],
   "source": [
    "# 기본적인 뼈대\n",
    "class CustomDataset():\n",
    "    def __init__(self):\n",
    "        # 데이터셋 전처리\n",
    "        pass\n",
    "\n",
    "    def __len__(self):\n",
    "        # 데이터셋 길이. 즉, 총 샘플의 수를 적어주는 부분\n",
    "        pass\n",
    "\n",
    "    def __getitem__(self, idx):\n",
    "        # 데이터셋에서 특정 '1'개의 샘플을 가져오는 함수\n",
    "        pass\n",
    "\n",
    "# len(dataset) 을 했을 때 데이터셋의 크기를 리턴함\n",
    "# dataset[i] 을 했을 때 i 번째 샘플을 가져오도록 하는 인덱싱을 위한 get_item"
   ]
  },
  {
   "cell_type": "code",
   "execution_count": 11,
   "metadata": {},
   "outputs": [],
   "source": [
    "# 커스텀 데이터셋(Custom Dataset)으로 선형 회귀 구현\n",
    "\n",
    "import torch\n",
    "import torch.nn as nn\n",
    "import torch.nn.functional as F\n",
    "from torch.utils.data import Dataset\n",
    "from torch.utils.data import DataLoader"
   ]
  },
  {
   "cell_type": "code",
   "execution_count": 12,
   "metadata": {},
   "outputs": [],
   "source": [
    "# Dataset 상속\n",
    "\n",
    "class CustomDataset(Dataset):\n",
    "    def __init__(self):\n",
    "        self.x_data = [\n",
    "            [73, 80, 75],\n",
    "            [93, 88, 93],\n",
    "            [89, 91, 90],\n",
    "            [96, 98, 100],\n",
    "            [73, 66, 70]\n",
    "        ]\n",
    "        self.y_data = [[152], [185], [180], [196], [142]]\n",
    "\n",
    "    # 총 데이터의 개수를 리턴\n",
    "    def __len__(self):\n",
    "        return len(self.x_data)\n",
    "\n",
    "    # 인덱스를 입력받아 그에 맵핑되는 입출력 데이터를 파이토치의 Tensor 형태로 리턴\n",
    "    def __getitem__(self, idx):\n",
    "        x = torch.FloatTensor(self.x_data[idx])\n",
    "        y = torch.FloatTensor(self.y_data[idx])\n",
    "        return x, y"
   ]
  },
  {
   "cell_type": "code",
   "execution_count": 13,
   "metadata": {},
   "outputs": [],
   "source": [
    "dataset = CustomDataset()\n",
    "dataloader = DataLoader(dataset, batch_size=2, shuffle=True)"
   ]
  },
  {
   "cell_type": "code",
   "execution_count": 15,
   "metadata": {},
   "outputs": [
    {
     "name": "stdout",
     "output_type": "stream",
     "text": [
      "Epoch    0/20 Batch 1/3 Cost: 39625.890625\n",
      "Epoch    0/20 Batch 2/3 Cost: 7168.277832\n",
      "Epoch    0/20 Batch 3/3 Cost: 1767.496338\n",
      "Epoch    1/20 Batch 1/3 Cost: 1329.626465\n",
      "Epoch    1/20 Batch 2/3 Cost: 355.538086\n",
      "Epoch    1/20 Batch 3/3 Cost: 23.325085\n",
      "Epoch    2/20 Batch 1/3 Cost: 44.694160\n",
      "Epoch    2/20 Batch 2/3 Cost: 15.895956\n",
      "Epoch    2/20 Batch 3/3 Cost: 34.398647\n",
      "Epoch    3/20 Batch 1/3 Cost: 6.919528\n",
      "Epoch    3/20 Batch 2/3 Cost: 5.323868\n",
      "Epoch    3/20 Batch 3/3 Cost: 13.036402\n",
      "Epoch    4/20 Batch 1/3 Cost: 11.388925\n",
      "Epoch    4/20 Batch 2/3 Cost: 11.900665\n",
      "Epoch    4/20 Batch 3/3 Cost: 3.719102\n",
      "Epoch    5/20 Batch 1/3 Cost: 5.560445\n",
      "Epoch    5/20 Batch 2/3 Cost: 9.852584\n",
      "Epoch    5/20 Batch 3/3 Cost: 0.994484\n",
      "Epoch    6/20 Batch 1/3 Cost: 7.170414\n",
      "Epoch    6/20 Batch 2/3 Cost: 4.737676\n",
      "Epoch    6/20 Batch 3/3 Cost: 13.608912\n",
      "Epoch    7/20 Batch 1/3 Cost: 5.447923\n",
      "Epoch    7/20 Batch 2/3 Cost: 10.164292\n",
      "Epoch    7/20 Batch 3/3 Cost: 1.839199\n",
      "Epoch    8/20 Batch 1/3 Cost: 10.379683\n",
      "Epoch    8/20 Batch 2/3 Cost: 12.340708\n",
      "Epoch    8/20 Batch 3/3 Cost: 0.169558\n",
      "Epoch    9/20 Batch 1/3 Cost: 9.930192\n",
      "Epoch    9/20 Batch 2/3 Cost: 6.143957\n",
      "Epoch    9/20 Batch 3/3 Cost: 0.757449\n",
      "Epoch   10/20 Batch 1/3 Cost: 8.749408\n",
      "Epoch   10/20 Batch 2/3 Cost: 5.794302\n",
      "Epoch   10/20 Batch 3/3 Cost: 4.314229\n",
      "Epoch   11/20 Batch 1/3 Cost: 6.793212\n",
      "Epoch   11/20 Batch 2/3 Cost: 4.521229\n",
      "Epoch   11/20 Batch 3/3 Cost: 15.229716\n",
      "Epoch   12/20 Batch 1/3 Cost: 6.602469\n",
      "Epoch   12/20 Batch 2/3 Cost: 3.534039\n",
      "Epoch   12/20 Batch 3/3 Cost: 13.045218\n",
      "Epoch   13/20 Batch 1/3 Cost: 9.171402\n",
      "Epoch   13/20 Batch 2/3 Cost: 7.093661\n",
      "Epoch   13/20 Batch 3/3 Cost: 0.573378\n",
      "Epoch   14/20 Batch 1/3 Cost: 5.358407\n",
      "Epoch   14/20 Batch 2/3 Cost: 9.702910\n",
      "Epoch   14/20 Batch 3/3 Cost: 3.784122\n",
      "Epoch   15/20 Batch 1/3 Cost: 9.168140\n",
      "Epoch   15/20 Batch 2/3 Cost: 1.066632\n",
      "Epoch   15/20 Batch 3/3 Cost: 14.747095\n",
      "Epoch   16/20 Batch 1/3 Cost: 9.897087\n",
      "Epoch   16/20 Batch 2/3 Cost: 3.614529\n",
      "Epoch   16/20 Batch 3/3 Cost: 5.948326\n",
      "Epoch   17/20 Batch 1/3 Cost: 12.007381\n",
      "Epoch   17/20 Batch 2/3 Cost: 9.031324\n",
      "Epoch   17/20 Batch 3/3 Cost: 2.163641\n",
      "Epoch   18/20 Batch 1/3 Cost: 9.576233\n",
      "Epoch   18/20 Batch 2/3 Cost: 0.827777\n",
      "Epoch   18/20 Batch 3/3 Cost: 15.065689\n",
      "Epoch   19/20 Batch 1/3 Cost: 9.803062\n",
      "Epoch   19/20 Batch 2/3 Cost: 3.632157\n",
      "Epoch   19/20 Batch 3/3 Cost: 5.857277\n",
      "Epoch   20/20 Batch 1/3 Cost: 7.255453\n",
      "Epoch   20/20 Batch 2/3 Cost: 8.393761\n",
      "Epoch   20/20 Batch 3/3 Cost: 0.632168\n"
     ]
    }
   ],
   "source": [
    "# 모델과 옵티마이저 선언\n",
    "model = nn.Linear(3, 1)\n",
    "optimizer = torch.optim.SGD(model.parameters(), lr=1e-5)\n",
    "\n",
    "# 훈련 진행\n",
    "nb_epochs = 20\n",
    "for epoch in range(nb_epochs + 1):\n",
    "    for batch_idx, samples in enumerate(dataloader):\n",
    "        # print(batch_idx)\n",
    "        # print(samples)\n",
    "        x_train, y_train = samples\n",
    "        # H(x) 계산\n",
    "        prediction = model(x_train)\n",
    "\n",
    "        # cost\n",
    "        cost = F.mse_loss(prediction, y_train)\n",
    "\n",
    "        # cost 로 H(x) 개선\n",
    "        optimizer.zero_grad()\n",
    "        cost.backward()\n",
    "        optimizer.step()\n",
    "\n",
    "        print('Epoch {:4d}/{} Batch {}/{} Cost: {:.6f}'.format(epoch, nb_epochs, batch_idx+1, len(dataloader), cost.item()))\n"
   ]
  },
  {
   "cell_type": "code",
   "execution_count": 16,
   "metadata": {},
   "outputs": [
    {
     "name": "stdout",
     "output_type": "stream",
     "text": [
      "훈련 후 입력값이 73, 80, 75 일 때의 예측값 :  tensor([[154.6142]], grad_fn=<AddmmBackward0>)\n"
     ]
    }
   ],
   "source": [
    "# 임의의 입력 [73, 80, 75] 선언\n",
    "new_val = torch.FloatTensor([[73, 80, 75]])\n",
    "# 입력한 값 [73, 80, 75] 에 대해 예측값 y를 리턴받아서 pred_y 에 저장\n",
    "pred_y = model(new_val)\n",
    "\n",
    "print(\"훈련 후 입력값이 73, 80, 75 일 때의 예측값 : \", pred_y)"
   ]
  }
 ],
 "metadata": {
  "interpreter": {
   "hash": "48bde174e9cd0039e04545d8ab8de3430bce749efc257b14db65b6584328569a"
  },
  "kernelspec": {
   "display_name": "Python 3.9.7 ('pytorch_learning')",
   "language": "python",
   "name": "python3"
  },
  "language_info": {
   "codemirror_mode": {
    "name": "ipython",
    "version": 3
   },
   "file_extension": ".py",
   "mimetype": "text/x-python",
   "name": "python",
   "nbconvert_exporter": "python",
   "pygments_lexer": "ipython3",
   "version": "3.9.7"
  },
  "orig_nbformat": 4
 },
 "nbformat": 4,
 "nbformat_minor": 2
}
