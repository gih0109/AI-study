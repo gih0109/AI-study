{
 "cells": [
  {
   "cell_type": "code",
   "execution_count": null,
   "metadata": {},
   "outputs": [],
   "source": [
    "# 02. CNN으로 MNIST 분류하기\n",
    "\n",
    "# 이 챕터에서는 합성곱 + 활성화함수 + 맥스풀링을 하나의 합성곱으로 본다."
   ]
  },
  {
   "cell_type": "code",
   "execution_count": null,
   "metadata": {},
   "outputs": [],
   "source": [
    "# 모델의 아키텍쳐 : 3개의 층으로 구성\n",
    "\n",
    "# 1번 레이어 : 합성곱층(Convolutional layer)\n",
    "# 합성곱(in_channel = 1, out_channel = 32, kernel_size = 3, stride = 1, padding = 1) + 활성화 함수 ReRU\n",
    "# 맥스풀링(kernel_size = 2, stride = 2)\n",
    "\n",
    "# 2번 레이어 : 합성곱층(Convolutional layer)\n",
    "# 합성곱(in_channel = 32, out_channel = 64, kernel_size = 3, stride = 1, padding = 1) + 활성화 함수 ReRU\n",
    "# 맥스풀링(kernel_size = 2, stride = 2)\n",
    "\n",
    "# 3번 레이어 : 전결합층(Fully-Connected layer)\n",
    "# 특성맵을 펼친다 : batch_size * 7 * 7 * 64 -> batch_size * 3136\n",
    "# 전결합층(뉴런 10개) + 활성화 함수 softmax"
   ]
  },
  {
   "cell_type": "code",
   "execution_count": null,
   "metadata": {},
   "outputs": [],
   "source": [
    "# 모델 구현하기\n",
    "\n",
    "# 위 아키텍쳐 구현"
   ]
  },
  {
   "cell_type": "code",
   "execution_count": 1,
   "metadata": {},
   "outputs": [
    {
     "name": "stdout",
     "output_type": "stream",
     "text": [
      "텐서의 크기 : torch.Size([1, 1, 28, 28])\n"
     ]
    }
   ],
   "source": [
    "# 필요한 도구 임포트와 입력의 정의\n",
    "\n",
    "import torch\n",
    "import torch.nn as nn\n",
    "\n",
    "# 임의의 텐서 생성, 텐서의 크기는 1 X 1 X 28 X 28\n",
    "# 배치크기 X 채널 X 높이 X 너비 \n",
    "inputs = torch.Tensor(1, 1, 28, 28)\n",
    "print('텐서의 크기 : {}'.format(inputs.shape))"
   ]
  },
  {
   "cell_type": "code",
   "execution_count": 2,
   "metadata": {},
   "outputs": [
    {
     "name": "stdout",
     "output_type": "stream",
     "text": [
      "Conv2d(1, 32, kernel_size=(3, 3), stride=(1, 1), padding=(1, 1))\n"
     ]
    }
   ],
   "source": [
    "# 합성곱층과 풀링 선언\n",
    "# 첫번째 합성곱 층 구현 : 1채널 입력받아 32채널 출력, 커널 사이즈 3, 패딩 1\n",
    "\n",
    "conv1 = nn.Conv2d(1, 32, 3, padding= 1)\n",
    "print(conv1)"
   ]
  },
  {
   "cell_type": "code",
   "execution_count": 3,
   "metadata": {},
   "outputs": [
    {
     "name": "stdout",
     "output_type": "stream",
     "text": [
      "Conv2d(32, 64, kernel_size=(3, 3), stride=(1, 1), padding=(1, 1))\n"
     ]
    }
   ],
   "source": [
    "# 두 번째 합성곱 층 구현 : 3채널 입력받아 64채널 출력, 커널 사이즈 3, 패딩 1\n",
    "\n",
    "conv2 = nn.Conv2d(32, 64, kernel_size= 3, padding= 1)\n",
    "print(conv2)"
   ]
  },
  {
   "cell_type": "code",
   "execution_count": 4,
   "metadata": {},
   "outputs": [
    {
     "name": "stdout",
     "output_type": "stream",
     "text": [
      "MaxPool2d(kernel_size=2, stride=2, padding=0, dilation=1, ceil_mode=False)\n"
     ]
    }
   ],
   "source": [
    "# 맥스풀링 구현 : 정수 하나를 인자로 넣으면 커널 사이즈와 스트라이더가 둘 다 해당값으로 지정된다\n",
    "\n",
    "pool = nn.MaxPool2d(2)\n",
    "print(pool)"
   ]
  },
  {
   "cell_type": "code",
   "execution_count": 8,
   "metadata": {},
   "outputs": [
    {
     "name": "stdout",
     "output_type": "stream",
     "text": [
      "torch.Size([1, 32, 28, 28])\n",
      "torch.Size([1, 32, 14, 14])\n",
      "torch.Size([1, 64, 14, 14])\n",
      "torch.Size([1, 64, 7, 7])\n"
     ]
    }
   ],
   "source": [
    "# 3. 구현체를 연결하여 모델 만들기\n",
    "\n",
    "# 입력을 첫번째 합성곱층을 통과시키고 난 후 텐서의 크기\n",
    "out = conv1(inputs)\n",
    "print(out.shape) # 32채널 28너비 28높이 텐서가 된다. 32가 나온 이유는 conv1의 out_channel로 32를 지정해주었기 때문\n",
    "\n",
    "# 이를 맥스풀링을 통과시키고 난 후 텐서의 크기\n",
    "out = pool(out)\n",
    "print(out.shape) # 32채널 14넓이 14높이 텐서가 된다\n",
    "\n",
    "# 두 번째 합성곱층에 통과한 이후 텐서의 크기\n",
    "out = conv2(out)\n",
    "print(out.shape) # 64채널 14너비 14높이 텐서가 된다.\n",
    "\n",
    "# 맥스풀링에 통과\n",
    "out = pool(out)\n",
    "print(out.shape)"
   ]
  },
  {
   "cell_type": "code",
   "execution_count": 10,
   "metadata": {},
   "outputs": [
    {
     "data": {
      "text/plain": [
       "7"
      ]
     },
     "execution_count": 10,
     "metadata": {},
     "output_type": "execute_result"
    }
   ],
   "source": [
    "# 텐서를 펼치는 작업\n",
    "# .size(n) : 텐서의 n번째 차원에 접근하게 해준다\n",
    "out.size(0) # out의 첫번째 차원은 1"
   ]
  },
  {
   "cell_type": "code",
   "execution_count": 11,
   "metadata": {},
   "outputs": [
    {
     "data": {
      "text/plain": [
       "64"
      ]
     },
     "execution_count": 11,
     "metadata": {},
     "output_type": "execute_result"
    }
   ],
   "source": [
    "out.size(1) "
   ]
  },
  {
   "cell_type": "code",
   "execution_count": 12,
   "metadata": {},
   "outputs": [
    {
     "data": {
      "text/plain": [
       "7"
      ]
     },
     "execution_count": 12,
     "metadata": {},
     "output_type": "execute_result"
    }
   ],
   "source": [
    "out.size(2) "
   ]
  },
  {
   "cell_type": "code",
   "execution_count": 13,
   "metadata": {},
   "outputs": [
    {
     "data": {
      "text/plain": [
       "7"
      ]
     },
     "execution_count": 13,
     "metadata": {},
     "output_type": "execute_result"
    }
   ],
   "source": [
    "out.size(3) "
   ]
  },
  {
   "cell_type": "code",
   "execution_count": 14,
   "metadata": {},
   "outputs": [
    {
     "name": "stdout",
     "output_type": "stream",
     "text": [
      "torch.Size([1, 3136])\n"
     ]
    }
   ],
   "source": [
    "# .view() 를 사용하여 텐서를 펼치는 작업\n",
    "# 첫번째 차원인 배치 차원은 그대로 두고 나머지를 펼친다\n",
    "\n",
    "out = out.view(out.size(0), -1)\n",
    "print(out.shape) # 배치 차원을 제외하고 하나의 차원으로 통합되었다"
   ]
  },
  {
   "cell_type": "code",
   "execution_count": 15,
   "metadata": {},
   "outputs": [
    {
     "name": "stdout",
     "output_type": "stream",
     "text": [
      "torch.Size([1, 10])\n"
     ]
    }
   ],
   "source": [
    "# 전결합층(Fully-Connteced layer) 통과 : 출력층으로 10개의 뉴런을 배치하여 10개 차원의 텐서로 변환\n",
    "fc = nn.Linear(3136, 10) # Input_dim = 3136, Output_dim = 10\n",
    "out = fc(out)\n",
    "print(out.shape)"
   ]
  }
 ],
 "metadata": {
  "interpreter": {
   "hash": "48bde174e9cd0039e04545d8ab8de3430bce749efc257b14db65b6584328569a"
  },
  "kernelspec": {
   "display_name": "Python 3.9.7 ('pytorch_learning')",
   "language": "python",
   "name": "python3"
  },
  "language_info": {
   "codemirror_mode": {
    "name": "ipython",
    "version": 3
   },
   "file_extension": ".py",
   "mimetype": "text/x-python",
   "name": "python",
   "nbconvert_exporter": "python",
   "pygments_lexer": "ipython3",
   "version": "3.9.7"
  },
  "orig_nbformat": 4
 },
 "nbformat": 4,
 "nbformat_minor": 2
}
