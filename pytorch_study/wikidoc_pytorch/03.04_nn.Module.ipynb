{
 "cells": [
  {
   "cell_type": "code",
   "execution_count": 1,
   "metadata": {},
   "outputs": [],
   "source": [
    "# 04 nn.Module 로 구현하는 선형 회귀\n",
    "\n",
    "# 파이토치에서 제공하는 함수를 불러오는 것으로 더 쉽게 선형 회귀 모델을 구현\n",
    "# 선형 회귀 모델 : nn.Linear(), 평균 제곱오차 : nn.functional.mse_loss()"
   ]
  },
  {
   "cell_type": "code",
   "execution_count": 2,
   "metadata": {},
   "outputs": [
    {
     "data": {
      "text/plain": [
       "<torch._C.Generator at 0x2b2154ec090>"
      ]
     },
     "execution_count": 2,
     "metadata": {},
     "output_type": "execute_result"
    }
   ],
   "source": [
    "# 단순 선형 회귀 구현\n",
    "\n",
    "# 필요 도구 임포트\n",
    "import torch\n",
    "import torch.nn as nn\n",
    "import torch.nn.functional as F\n",
    "\n",
    "torch.manual_seed(1)"
   ]
  },
  {
   "cell_type": "code",
   "execution_count": 3,
   "metadata": {},
   "outputs": [],
   "source": [
    "# 데이터 선언 ( y = 2x 가정 )\n",
    "x_train = torch.FloatTensor([[1], [2], [3]])\n",
    "y_trian = torch.FloatTensor([[2], [4], [6]])"
   ]
  },
  {
   "cell_type": "code",
   "execution_count": 5,
   "metadata": {},
   "outputs": [
    {
     "name": "stdout",
     "output_type": "stream",
     "text": [
      "[Parameter containing:\n",
      "tensor([[0.5153]], requires_grad=True), Parameter containing:\n",
      "tensor([-0.4414], requires_grad=True)]\n"
     ]
    }
   ],
   "source": [
    "# 선형 회귀 모델 구현\n",
    "# 모델을 선언 및 초기화. 단순 선형 회귀이므로 input_dim=1, output_dim = 1 : 하나의 입력 x 에 대해 하나의 출력 y 를 가짐 -> 입력, 출력 차원 1\n",
    "model = nn.Linear(1, 1)\n",
    "\n",
    "# model 에는 가중치 W 와 편향 b 가 저장되어 있음. model.parameters() 함수를 통해 불어올 수 있음, 두 파라미터는 랜덤 초기화 상태\n",
    "print(list(model.parameters()))"
   ]
  },
  {
   "cell_type": "code",
   "execution_count": 6,
   "metadata": {},
   "outputs": [],
   "source": [
    "# 옵티마이저 정의. model.parameters() 를 사용하여 W 와 b를 전달, 학습률은 0.01로 정한다\n",
    "# optimizer 설정. 경사 하강법 SGD를 사용하고 learning rate를 의미하는 lr은 0.01\n",
    "optimizer = torch.optim.SGD(model.parameters(), lr=0.01)"
   ]
  },
  {
   "cell_type": "code",
   "execution_count": 7,
   "metadata": {},
   "outputs": [
    {
     "name": "stdout",
     "output_type": "stream",
     "text": [
      "Epoch    0/2000 Cost: 13.103541\n",
      "Epoch  100/2000 Cost: 0.002791\n",
      "Epoch  200/2000 Cost: 0.001724\n",
      "Epoch  300/2000 Cost: 0.001066\n",
      "Epoch  400/2000 Cost: 0.000658\n",
      "Epoch  500/2000 Cost: 0.000407\n",
      "Epoch  600/2000 Cost: 0.000251\n",
      "Epoch  700/2000 Cost: 0.000155\n",
      "Epoch  800/2000 Cost: 0.000096\n",
      "Epoch  900/2000 Cost: 0.000059\n",
      "Epoch 1000/2000 Cost: 0.000037\n",
      "Epoch 1100/2000 Cost: 0.000023\n",
      "Epoch 1200/2000 Cost: 0.000014\n",
      "Epoch 1300/2000 Cost: 0.000009\n",
      "Epoch 1400/2000 Cost: 0.000005\n",
      "Epoch 1500/2000 Cost: 0.000003\n",
      "Epoch 1600/2000 Cost: 0.000002\n",
      "Epoch 1700/2000 Cost: 0.000001\n",
      "Epoch 1800/2000 Cost: 0.000001\n",
      "Epoch 1900/2000 Cost: 0.000000\n",
      "Epoch 2000/2000 Cost: 0.000000\n"
     ]
    }
   ],
   "source": [
    "# 전체 훈련 데이터에 대해 경사 하강법을 2000 회 반복\n",
    "nb_epochs = 2000\n",
    "for epoch in range(nb_epochs+1):\n",
    "\n",
    "    # H(x) 계산\n",
    "    prediction = model(x_train)\n",
    "\n",
    "    # cost 계산\n",
    "    cost = F.mse_loss(prediction, y_trian) # 파이토치에서 제공하는 평균 제곱 오차 함수\n",
    "\n",
    "    # cost 로 H(x) 개선\n",
    "    # gradient 를 0 으로 초기화\n",
    "    optimizer.zero_grad()\n",
    "    # 비용 함수를 미분하여 gradient 계산\n",
    "    cost.backward()\n",
    "    # W 와 b 를 업데이트\n",
    "    optimizer.step()\n",
    "\n",
    "    # 100번 마다 로그 출력\n",
    "    if epoch % 100 == 0:\n",
    "        print('Epoch {:4d}/{} Cost: {:.6f}'.format(epoch, nb_epochs, cost.item()))"
   ]
  },
  {
   "cell_type": "code",
   "execution_count": 8,
   "metadata": {},
   "outputs": [
    {
     "name": "stdout",
     "output_type": "stream",
     "text": [
      "훈련 후 입력이 4일 때 예측 값 :  tensor([[7.9989]], grad_fn=<AddmmBackward0>)\n"
     ]
    }
   ],
   "source": [
    "# 학습 완료 후 W 와 b 값이 최적화가 되었는지 확인\n",
    "# x 에 임의의 값 4를 넣어 모델이 예측하는 y 의 값을 확인\n",
    "\n",
    "# 임의의 입력값 4를 선언\n",
    "new_var = torch.FloatTensor([[4.0]])\n",
    "\n",
    "# 입력한 값 4에 대해 예측값 y를 리턴받아 pred_y 에 저장\n",
    "pred_y = model(new_var) # forward 연산\n",
    "\n",
    "# y = 2x 이므로 입력이 4라면 y가 8에 가까운 값이 나와야 제대로 학습된 것\n",
    "print(\"훈련 후 입력이 4일 때 예측 값 : \", pred_y)"
   ]
  },
  {
   "cell_type": "code",
   "execution_count": 9,
   "metadata": {},
   "outputs": [
    {
     "name": "stdout",
     "output_type": "stream",
     "text": [
      "[Parameter containing:\n",
      "tensor([[1.9994]], requires_grad=True), Parameter containing:\n",
      "tensor([0.0014], requires_grad=True)]\n"
     ]
    }
   ],
   "source": [
    "# 학습 후 W 와 b 출력\n",
    "print(list(model.parameters()))"
   ]
  },
  {
   "cell_type": "code",
   "execution_count": 10,
   "metadata": {},
   "outputs": [],
   "source": [
    "# 다중 선형 회귀 구현하기\n",
    "# 코드 자체는 거의 같다"
   ]
  },
  {
   "cell_type": "code",
   "execution_count": 24,
   "metadata": {},
   "outputs": [],
   "source": [
    "# 데이터 선언, 3개의 x로부터 하나의 y를 예측하는 문제\n",
    "# 가설 수식은 H(x) = w1*x1 + w2*x2 + w3*x3 + b\n",
    "\n",
    "# 데이터 선언\n",
    "x_train = torch.FloatTensor([[73, 80, 75],\n",
    "                            [93, 88, 93],\n",
    "                            [89, 91, 90],\n",
    "                            [96, 98, 100],\n",
    "                            [73, 66, 70]])\n",
    "y_train = torch.FloatTensor([[152], [185], [180], [196], [142]])"
   ]
  },
  {
   "cell_type": "code",
   "execution_count": 25,
   "metadata": {},
   "outputs": [
    {
     "name": "stdout",
     "output_type": "stream",
     "text": [
      "[Parameter containing:\n",
      "tensor([[ 0.5047,  0.1797, -0.2150]], requires_grad=True), Parameter containing:\n",
      "tensor([-0.3487], requires_grad=True)]\n"
     ]
    }
   ],
   "source": [
    "# 모델을 선언 및 초기화. 다중 선형 회귀이므로 input_dim = 3, output_dim = 1\n",
    "model = nn.Linear(3, 1)\n",
    "print(list(model.parameters()))"
   ]
  },
  {
   "cell_type": "code",
   "execution_count": 26,
   "metadata": {},
   "outputs": [
    {
     "name": "stdout",
     "output_type": "stream",
     "text": [
      "Epoch    0/2000 Cost: 17620.488281\n",
      "Epoch  100/2000 Cost: 0.574603\n",
      "Epoch  200/2000 Cost: 0.554116\n",
      "Epoch  300/2000 Cost: 0.534724\n",
      "Epoch  400/2000 Cost: 0.516340\n",
      "Epoch  500/2000 Cost: 0.498923\n",
      "Epoch  600/2000 Cost: 0.482425\n",
      "Epoch  700/2000 Cost: 0.466791\n",
      "Epoch  800/2000 Cost: 0.451984\n",
      "Epoch  900/2000 Cost: 0.437960\n",
      "Epoch 1000/2000 Cost: 0.424665\n",
      "Epoch 1100/2000 Cost: 0.412076\n",
      "Epoch 1200/2000 Cost: 0.400147\n",
      "Epoch 1300/2000 Cost: 0.388840\n",
      "Epoch 1400/2000 Cost: 0.378133\n",
      "Epoch 1500/2000 Cost: 0.367990\n",
      "Epoch 1600/2000 Cost: 0.358375\n",
      "Epoch 1700/2000 Cost: 0.349267\n",
      "Epoch 1800/2000 Cost: 0.340636\n",
      "Epoch 1900/2000 Cost: 0.332464\n",
      "Epoch 2000/2000 Cost: 0.324713\n"
     ]
    }
   ],
   "source": [
    "# \n",
    "optimizer = torch.optim.SGD(model.parameters(), lr=1e-5)\n",
    "\n",
    "nb_epochs = 2000\n",
    "for epoch in range(nb_epochs+1):\n",
    "\n",
    "    # H(x)\n",
    "    prediction = model(x_train)\n",
    "    # model(x_train) 은 model.forward(x_train) 과 동일\n",
    "\n",
    "    # cost\n",
    "    cost = F.mse_loss(prediction, y_train)\n",
    "\n",
    "    # cost 로 H(x) 계산\n",
    "    optimizer.zero_grad()\n",
    "    cost.backward()\n",
    "    optimizer.step()\n",
    "\n",
    "    # 100번 마다 로그 출력\n",
    "    if epoch % 100 == 0:\n",
    "        print('Epoch {:4d}/{} Cost: {:.6f}'.format(epoch, nb_epochs, cost.item()))"
   ]
  },
  {
   "cell_type": "code",
   "execution_count": 27,
   "metadata": {},
   "outputs": [
    {
     "name": "stdout",
     "output_type": "stream",
     "text": [
      "훈련 후 입력이 73, 80, 75일 때 예측 값 :  tensor([[152.1337]], grad_fn=<AddmmBackward0>)\n"
     ]
    }
   ],
   "source": [
    "# 학습 완료 후 W 와 b 값이 최적화가 되었는지 확인\n",
    "# x 에 임의의 값 4를 넣어 모델이 예측하는 y 의 값을 확인\n",
    "\n",
    "# 임의의 입력값 [73, 80, 75]를 선언\n",
    "new_var = torch.FloatTensor([[73, 80, 75]])\n",
    "\n",
    "# 입력한 값 4에 대해 예측값 y를 리턴받아 pred_y 에 저장\n",
    "pred_y = model(new_var) # forward 연산\n",
    "\n",
    "# y = 2x 이므로 입력이 4라면 y가 8에 가까운 값이 나와야 제대로 학습된 것\n",
    "print(\"훈련 후 입력이 73, 80, 75일 때 예측 값 : \", pred_y)"
   ]
  },
  {
   "cell_type": "code",
   "execution_count": 28,
   "metadata": {},
   "outputs": [
    {
     "name": "stdout",
     "output_type": "stream",
     "text": [
      "[Parameter containing:\n",
      "tensor([[1.0619, 0.6366, 0.3205]], requires_grad=True), Parameter containing:\n",
      "tensor([-0.3422], requires_grad=True)]\n"
     ]
    }
   ],
   "source": [
    "# 학습 후 W 와 b 값\n",
    "print(list(model.parameters()))"
   ]
  }
 ],
 "metadata": {
  "interpreter": {
   "hash": "48bde174e9cd0039e04545d8ab8de3430bce749efc257b14db65b6584328569a"
  },
  "kernelspec": {
   "display_name": "Python 3.9.7 ('pytorch_learning')",
   "language": "python",
   "name": "python3"
  },
  "language_info": {
   "codemirror_mode": {
    "name": "ipython",
    "version": 3
   },
   "file_extension": ".py",
   "mimetype": "text/x-python",
   "name": "python",
   "nbconvert_exporter": "python",
   "pygments_lexer": "ipython3",
   "version": "3.9.7"
  },
  "orig_nbformat": 4
 },
 "nbformat": 4,
 "nbformat_minor": 2
}
