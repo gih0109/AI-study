{
 "cells": [
  {
   "cell_type": "code",
   "execution_count": null,
   "metadata": {},
   "outputs": [],
   "source": []
  },
  {
   "cell_type": "code",
   "execution_count": 1,
   "metadata": {},
   "outputs": [],
   "source": [
    "import torch\n",
    "import torchvision.datasets as dsets\n",
    "import torchvision.transforms as transforms\n",
    "from torch.utils.data import DataLoader\n",
    "import torch.nn as nn\n",
    "import matplotlib.pyplot as plt\n",
    "import random"
   ]
  },
  {
   "cell_type": "code",
   "execution_count": 2,
   "metadata": {},
   "outputs": [
    {
     "name": "stdout",
     "output_type": "stream",
     "text": [
      "다음 기기로 학습합니다: cpu\n"
     ]
    }
   ],
   "source": [
    "USE_CUDA = torch.cuda.is_available() # GPU를 사용가능하면 True, 아니라면 False를 리턴\n",
    "device = torch.device(\"cuda\" if USE_CUDA else \"cpu\") # GPU 사용 가능하면 사용하고 아니면 CPU 사용\n",
    "print(\"다음 기기로 학습합니다:\", device)"
   ]
  },
  {
   "cell_type": "code",
   "execution_count": 3,
   "metadata": {},
   "outputs": [],
   "source": [
    "# 랜덤 시드 고정\n",
    "# for reproducibility\n",
    "random.seed(777)\n",
    "torch.manual_seed(777)\n",
    "if device == 'cuda':\n",
    "    torch.cuda.manual_seed_all(777)"
   ]
  },
  {
   "cell_type": "code",
   "execution_count": 4,
   "metadata": {},
   "outputs": [],
   "source": [
    "# hyperparameters : 하이퍼파라메터 변수 선언\n",
    "training_epochs = 100\n",
    "batch_size = 100"
   ]
  },
  {
   "cell_type": "code",
   "execution_count": 5,
   "metadata": {},
   "outputs": [],
   "source": [
    "# MNIST dataset\n",
    "mnist_train = dsets.MNIST(root='C:/Users/gih54/Documents/MNIST_data/', # 데이터 다운로드 경로\n",
    "                          train=True, # train 인자 true : 훈련 데이터, false : 테스트 데이터\n",
    "                          transform=transforms.ToTensor(), # transform 은 현재 데이터를 파이토치 텐서로 변환\n",
    "                          download=True)\n",
    "\n",
    "mnist_test = dsets.MNIST(root='C:/Users/gih54/Documents/MNIST_data/',\n",
    "                         train=False,\n",
    "                         transform=transforms.ToTensor(),\n",
    "                         download=True)"
   ]
  },
  {
   "cell_type": "code",
   "execution_count": 6,
   "metadata": {},
   "outputs": [],
   "source": [
    "# 데이터로더(DataLoader) 사용\n",
    "data_loader = DataLoader(\n",
    "    dataset=mnist_train,\n",
    "    batch_size=batch_size, # 배치 크기\n",
    "    shuffle=True,\n",
    "    drop_last=True # 마지막 배치 버릴 것인지 확인\n",
    ")"
   ]
  },
  {
   "cell_type": "code",
   "execution_count": 25,
   "metadata": {},
   "outputs": [],
   "source": [
    "# Drop_last 를 하는 이유 : \n",
    "# 마지막 배치가 다른 배치보다 작으면 학습 시 경사하강법을 사용할 때 마지막 배치가 상대적으로 과대평가 되기 때문"
   ]
  },
  {
   "cell_type": "code",
   "execution_count": 7,
   "metadata": {},
   "outputs": [],
   "source": [
    "# 모델 설계 : input_dim = 784, output_dim = 10\n",
    "# MNIST data image of shape 28 * 28 = 784\n",
    "linear = nn.Linear(784, 10, bias=True).to(device) # bias : 편향 사용 여부, to 함수 : 연산을 어디서 수행할지 정한다"
   ]
  },
  {
   "cell_type": "code",
   "execution_count": 8,
   "metadata": {},
   "outputs": [],
   "source": [
    "# 비용 함수 및 옵티마이저 정의\n",
    "criterion = nn.CrossEntropyLoss().to(device) # 내부적으로 소프트맥스 함수 포함\n",
    "optimizer = torch.optim.SGD(linear.parameters(), lr=0.1)"
   ]
  },
  {
   "cell_type": "code",
   "execution_count": 28,
   "metadata": {},
   "outputs": [
    {
     "name": "stdout",
     "output_type": "stream",
     "text": [
      "Epoch:    1 cost =  0.535544574\n",
      "Epoch:    2 cost =  0.359057993\n",
      "Epoch:    3 cost =  0.331079751\n",
      "Epoch:    4 cost =  0.316525728\n",
      "Epoch:    5 cost =  0.306948930\n",
      "Epoch:    6 cost =  0.300137699\n",
      "Epoch:    7 cost =  0.294947743\n",
      "Epoch:    8 cost =  0.290830970\n",
      "Epoch:    9 cost =  0.287210494\n",
      "Epoch:   10 cost =  0.284448504\n",
      "Epoch:   11 cost =  0.281921238\n",
      "Epoch:   12 cost =  0.279632837\n",
      "Epoch:   13 cost =  0.277613372\n",
      "Epoch:   14 cost =  0.276087880\n",
      "Epoch:   15 cost =  0.274483055\n",
      "Epoch:   16 cost =  0.272694856\n",
      "Epoch:   17 cost =  0.271565616\n",
      "Epoch:   18 cost =  0.270498157\n",
      "Epoch:   19 cost =  0.269309670\n",
      "Epoch:   20 cost =  0.268043190\n",
      "Epoch:   21 cost =  0.267293990\n",
      "Epoch:   22 cost =  0.266353637\n",
      "Epoch:   23 cost =  0.265478343\n",
      "Epoch:   24 cost =  0.264733255\n",
      "Epoch:   25 cost =  0.263967007\n",
      "Epoch:   26 cost =  0.263162106\n",
      "Epoch:   27 cost =  0.262511343\n",
      "Epoch:   28 cost =  0.261694133\n",
      "Epoch:   29 cost =  0.261295915\n",
      "Epoch:   30 cost =  0.260573596\n",
      "Epoch:   31 cost =  0.260140061\n",
      "Epoch:   32 cost =  0.259381622\n",
      "Epoch:   33 cost =  0.259154022\n",
      "Epoch:   34 cost =  0.258467108\n",
      "Epoch:   35 cost =  0.258121073\n",
      "Epoch:   36 cost =  0.257633179\n",
      "Epoch:   37 cost =  0.257068813\n",
      "Epoch:   38 cost =  0.256590158\n",
      "Epoch:   39 cost =  0.256130248\n",
      "Epoch:   40 cost =  0.255948275\n",
      "Epoch:   41 cost =  0.255393147\n",
      "Epoch:   42 cost =  0.255087286\n",
      "Epoch:   43 cost =  0.254648387\n",
      "Epoch:   44 cost =  0.254252255\n",
      "Epoch:   45 cost =  0.253844917\n",
      "Epoch:   46 cost =  0.253654927\n",
      "Epoch:   47 cost =  0.253445178\n",
      "Epoch:   48 cost =  0.252958775\n",
      "Epoch:   49 cost =  0.252643853\n",
      "Epoch:   50 cost =  0.252293646\n",
      "Epoch:   51 cost =  0.252085567\n",
      "Epoch:   52 cost =  0.251811713\n",
      "Epoch:   53 cost =  0.251443624\n",
      "Epoch:   54 cost =  0.251035333\n",
      "Epoch:   55 cost =  0.251004785\n",
      "Epoch:   56 cost =  0.250614047\n",
      "Epoch:   57 cost =  0.250356466\n",
      "Epoch:   58 cost =  0.250234634\n",
      "Epoch:   59 cost =  0.249870479\n",
      "Epoch:   60 cost =  0.249694392\n",
      "Epoch:   61 cost =  0.249448583\n",
      "Epoch:   62 cost =  0.249163479\n",
      "Epoch:   63 cost =  0.248960286\n",
      "Epoch:   64 cost =  0.248860359\n",
      "Epoch:   65 cost =  0.248495087\n",
      "Epoch:   66 cost =  0.248218149\n",
      "Epoch:   67 cost =  0.248220086\n",
      "Epoch:   68 cost =  0.247890353\n",
      "Epoch:   69 cost =  0.247625887\n",
      "Epoch:   70 cost =  0.247383371\n",
      "Epoch:   71 cost =  0.247335687\n",
      "Epoch:   72 cost =  0.247198954\n",
      "Epoch:   73 cost =  0.246971473\n",
      "Epoch:   74 cost =  0.246720776\n",
      "Epoch:   75 cost =  0.246455580\n",
      "Epoch:   76 cost =  0.246502250\n",
      "Epoch:   77 cost =  0.246286497\n",
      "Epoch:   78 cost =  0.246094629\n",
      "Epoch:   79 cost =  0.245768815\n",
      "Epoch:   80 cost =  0.245717645\n",
      "Epoch:   81 cost =  0.245460585\n",
      "Epoch:   82 cost =  0.245373100\n",
      "Epoch:   83 cost =  0.245152503\n",
      "Epoch:   84 cost =  0.244978204\n",
      "Epoch:   85 cost =  0.244903713\n",
      "Epoch:   86 cost =  0.244835392\n",
      "Epoch:   87 cost =  0.244445100\n",
      "Epoch:   88 cost =  0.244532451\n",
      "Epoch:   89 cost =  0.244022161\n",
      "Epoch:   90 cost =  0.244030550\n",
      "Epoch:   91 cost =  0.243993908\n",
      "Epoch:   92 cost =  0.243786037\n",
      "Epoch:   93 cost =  0.243646160\n",
      "Epoch:   94 cost =  0.243335932\n",
      "Epoch:   95 cost =  0.243219882\n",
      "Epoch:   96 cost =  0.243099049\n",
      "Epoch:   97 cost =  0.243074194\n",
      "Epoch:   98 cost =  0.243046984\n",
      "Epoch:   99 cost =  0.242865309\n",
      "Epoch:  100 cost =  0.242713183\n",
      "Learning Finished\n"
     ]
    }
   ],
   "source": [
    "for epoch in range(training_epochs): # 앞서 training_epochs의 값은 15로 정함\n",
    "    avg_cost = 0\n",
    "    total_batch = len(data_loader)\n",
    "\n",
    "    for X, Y in data_loader:\n",
    "        # 배치 크기가 100 이므로 아래 연산에서 X는 (100, 784)의 텐서가 된다\n",
    "        X = X.view(-1, 28 * 28).to(device)\n",
    "        # 레이블은 원-핫 인코딩이 된 상태가 아니라 0 ~ 9 의 정수\n",
    "        Y = Y.to(device)\n",
    "\n",
    "        optimizer.zero_grad()\n",
    "        hypothesis = linear(X)\n",
    "        cost = criterion(hypothesis, Y)\n",
    "        cost.backward()\n",
    "        optimizer.step()\n",
    "\n",
    "        avg_cost += cost / total_batch\n",
    "\n",
    "    print(\"Epoch:\", \"%4d\" % (epoch + 1), \"cost = \", \"{:.9f}\".format(avg_cost))\n",
    "\n",
    "print(\"Learning Finished\")"
   ]
  },
  {
   "cell_type": "code",
   "execution_count": 107,
   "metadata": {},
   "outputs": [
    {
     "name": "stdout",
     "output_type": "stream",
     "text": [
      "Accuracy: 0.8711999654769897\n",
      "Label:  5\n",
      "Prediction:  5\n"
     ]
    },
    {
     "data": {
      "image/png": "[encoded data removed]",
      "text/plain": [
       "<Figure size 432x288 with 1 Axes>"
      ]
     },
     "metadata": {
      "needs_background": "light"
     },
     "output_type": "display_data"
    }
   ],
   "source": [
    "# 테스트 데이터를 사용하여 모델을 테스트한다.\n",
    "with torch.no_grad(): # torch.no_grad()를 하면 gradient 계산을 수행하지 않는다.\n",
    "    X_test = mnist_test.test_data.view(-1, 28 * 28).float().to(device)\n",
    "    Y_test = mnist_test.test_labels.to(device)\n",
    "\n",
    "    prediction = linear(X_test)\n",
    "    correct_prediction = torch.argmax(prediction, 1) == Y_test\n",
    "    accuracy = correct_prediction.float().mean()\n",
    "    print('Accuracy:', accuracy.item())\n",
    "\n",
    "    # MNIST 테스트 데이터에서 무작위로 하나를 뽑아서 예측을 해본다\n",
    "    r = random.randint(0, len(mnist_test) - 1)\n",
    "    X_single_data = mnist_test.test_data[r:r + 1].view(-1, 28 * 28).float().to(device)\n",
    "    Y_single_data = mnist_test.test_labels[r:r + 1].to(device)\n",
    "\n",
    "    print('Label: ', Y_single_data.item())\n",
    "    single_prediction = linear(X_single_data)\n",
    "    print('Prediction: ', torch.argmax(single_prediction, 1).item())\n",
    "\n",
    "    plt.imshow(mnist_test.test_data[r:r + 1].view(28, 28), cmap='Greys', interpolation='nearest')\n",
    "    plt.show()"
   ]
  }
 ],
 "metadata": {
  "interpreter": {
   "hash": "48bde174e9cd0039e04545d8ab8de3430bce749efc257b14db65b6584328569a"
  },
  "kernelspec": {
   "display_name": "Python 3.9.7 ('pytorch_learning')",
   "language": "python",
   "name": "python3"
  },
  "language_info": {
   "codemirror_mode": {
    "name": "ipython",
    "version": 3
   },
   "file_extension": ".py",
   "mimetype": "text/x-python",
   "name": "python",
   "nbconvert_exporter": "python",
   "pygments_lexer": "ipython3",
   "version": "3.9.7"
  },
  "orig_nbformat": 4
 },
 "nbformat": 4,
 "nbformat_minor": 2
}
