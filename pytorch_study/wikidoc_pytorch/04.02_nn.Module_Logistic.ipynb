{
 "cells": [
  {
   "cell_type": "code",
   "execution_count": 1,
   "metadata": {},
   "outputs": [],
   "source": [
    "# nn.Module 로 구현하는 로지스틱 회귀\n",
    "\n",
    "# nn.Sigmoid()를 통하여 시그모이드 함수 구현"
   ]
  },
  {
   "cell_type": "code",
   "execution_count": 5,
   "metadata": {},
   "outputs": [
    {
     "data": {
      "text/plain": [
       "<torch._C.Generator at 0x24458069110>"
      ]
     },
     "execution_count": 5,
     "metadata": {},
     "output_type": "execute_result"
    }
   ],
   "source": [
    "import torch\n",
    "import torch.nn as nn\n",
    "import torch.nn.functional as F\n",
    "import torch.optim as optim\n",
    "\n",
    "torch.manual_seed(1)"
   ]
  },
  {
   "cell_type": "code",
   "execution_count": 6,
   "metadata": {},
   "outputs": [],
   "source": [
    "# 훈련 데이터 텐서로 선언\n",
    "x_data = [[1, 2], [2, 3], [3, 1], [4, 3], [5, 3], [6, 2]]\n",
    "y_data = [[0], [0], [0], [1], [1], [1]]\n",
    "x_train = torch.FloatTensor(x_data)\n",
    "y_train = torch.FloatTensor(y_data)"
   ]
  },
  {
   "cell_type": "code",
   "execution_count": 7,
   "metadata": {},
   "outputs": [],
   "source": [
    "# nn.Sequential() : nn.Module 층을 차례로 쌓을 수 있다\n",
    "# 이를 이용하여 인공 신겨앙 구현 -> nn.Sequential 은 여러 함수들을 연결해주는 역할\n",
    "\n",
    "model = nn.Sequential(\n",
    "    nn.Linear(2, 1), # input_dim = 2, output_dim = 1\n",
    "    nn.Sigmoid() # 출력은 시그모이드 함수를 거친다\n",
    ")"
   ]
  },
  {
   "cell_type": "code",
   "execution_count": 8,
   "metadata": {},
   "outputs": [
    {
     "data": {
      "text/plain": [
       "tensor([[0.4020],\n",
       "        [0.4147],\n",
       "        [0.6556],\n",
       "        [0.5948],\n",
       "        [0.6788],\n",
       "        [0.8061]], grad_fn=<SigmoidBackward0>)"
      ]
     },
     "execution_count": 8,
     "metadata": {},
     "output_type": "execute_result"
    }
   ],
   "source": [
    "# W 와 b 는 랜덤 초기화가 된 상태, 훈련 데이터를 넣어 예측값 확인 \n",
    "model(x_train)"
   ]
  },
  {
   "cell_type": "code",
   "execution_count": 12,
   "metadata": {},
   "outputs": [
    {
     "name": "stdout",
     "output_type": "stream",
     "text": [
      "Epoch    0/1000 Cost: 0.006957 Accuracy 100.00\n",
      "Epoch   20/1000 Cost: 0.006912 Accuracy 100.00\n",
      "Epoch   40/1000 Cost: 0.006868 Accuracy 100.00\n",
      "Epoch   60/1000 Cost: 0.006824 Accuracy 100.00\n",
      "Epoch   80/1000 Cost: 0.006781 Accuracy 100.00\n",
      "Epoch  100/1000 Cost: 0.006739 Accuracy 100.00\n",
      "Epoch  120/1000 Cost: 0.006697 Accuracy 100.00\n",
      "Epoch  140/1000 Cost: 0.006655 Accuracy 100.00\n",
      "Epoch  160/1000 Cost: 0.006614 Accuracy 100.00\n",
      "Epoch  180/1000 Cost: 0.006574 Accuracy 100.00\n",
      "Epoch  200/1000 Cost: 0.006534 Accuracy 100.00\n",
      "Epoch  220/1000 Cost: 0.006494 Accuracy 100.00\n",
      "Epoch  240/1000 Cost: 0.006455 Accuracy 100.00\n",
      "Epoch  260/1000 Cost: 0.006417 Accuracy 100.00\n",
      "Epoch  280/1000 Cost: 0.006379 Accuracy 100.00\n",
      "Epoch  300/1000 Cost: 0.006341 Accuracy 100.00\n",
      "Epoch  320/1000 Cost: 0.006304 Accuracy 100.00\n",
      "Epoch  340/1000 Cost: 0.006267 Accuracy 100.00\n",
      "Epoch  360/1000 Cost: 0.006231 Accuracy 100.00\n",
      "Epoch  380/1000 Cost: 0.006195 Accuracy 100.00\n",
      "Epoch  400/1000 Cost: 0.006159 Accuracy 100.00\n",
      "Epoch  420/1000 Cost: 0.006124 Accuracy 100.00\n",
      "Epoch  440/1000 Cost: 0.006090 Accuracy 100.00\n",
      "Epoch  460/1000 Cost: 0.006055 Accuracy 100.00\n",
      "Epoch  480/1000 Cost: 0.006021 Accuracy 100.00\n",
      "Epoch  500/1000 Cost: 0.005988 Accuracy 100.00\n",
      "Epoch  520/1000 Cost: 0.005955 Accuracy 100.00\n",
      "Epoch  540/1000 Cost: 0.005922 Accuracy 100.00\n",
      "Epoch  560/1000 Cost: 0.005889 Accuracy 100.00\n",
      "Epoch  580/1000 Cost: 0.005857 Accuracy 100.00\n",
      "Epoch  600/1000 Cost: 0.005826 Accuracy 100.00\n",
      "Epoch  620/1000 Cost: 0.005794 Accuracy 100.00\n",
      "Epoch  640/1000 Cost: 0.005763 Accuracy 100.00\n",
      "Epoch  660/1000 Cost: 0.005732 Accuracy 100.00\n",
      "Epoch  680/1000 Cost: 0.005702 Accuracy 100.00\n",
      "Epoch  700/1000 Cost: 0.005672 Accuracy 100.00\n",
      "Epoch  720/1000 Cost: 0.005642 Accuracy 100.00\n",
      "Epoch  740/1000 Cost: 0.005613 Accuracy 100.00\n",
      "Epoch  760/1000 Cost: 0.005584 Accuracy 100.00\n",
      "Epoch  780/1000 Cost: 0.005555 Accuracy 100.00\n",
      "Epoch  800/1000 Cost: 0.005526 Accuracy 100.00\n",
      "Epoch  820/1000 Cost: 0.005498 Accuracy 100.00\n",
      "Epoch  840/1000 Cost: 0.005470 Accuracy 100.00\n",
      "Epoch  860/1000 Cost: 0.005442 Accuracy 100.00\n",
      "Epoch  880/1000 Cost: 0.005415 Accuracy 100.00\n",
      "Epoch  900/1000 Cost: 0.005388 Accuracy 100.00\n",
      "Epoch  920/1000 Cost: 0.005361 Accuracy 100.00\n",
      "Epoch  940/1000 Cost: 0.005334 Accuracy 100.00\n",
      "Epoch  960/1000 Cost: 0.005308 Accuracy 100.00\n",
      "Epoch  980/1000 Cost: 0.005282 Accuracy 100.00\n",
      "Epoch 1000/1000 Cost: 0.005256 Accuracy 100.00\n"
     ]
    }
   ],
   "source": [
    "# 경사 하강법을 이용해 훈련, 100 번의 에포크\n",
    "\n",
    "# optimizer 설정\n",
    "optimizer = optim.SGD(model.parameters(), lr=1)\n",
    "\n",
    "nb_epochs = 1000\n",
    "for epoch in range(nb_epochs+1):\n",
    "\n",
    "    # H(x) 계산\n",
    "    hypothesis = model(x_train)\n",
    "\n",
    "    # cost 계산\n",
    "    cost = F.binary_cross_entropy(hypothesis, y_train)\n",
    "\n",
    "    # cost 로 H(x) 계산\n",
    "    optimizer.zero_grad()\n",
    "    cost.backward()\n",
    "    optimizer.step()\n",
    "\n",
    "    # 20번 마다 로그 출력\n",
    "    if epoch % 20 == 0:\n",
    "        prediction = hypothesis >= torch.FloatTensor([0.5]) # 예측값이 0.5를 넘으면 True 로 간주\n",
    "        correct_prediction = prediction.float() == y_train # 실제값과 일치하는 경우에만 True 로 간주\n",
    "        accuracy = correct_prediction.sum().item() / len(correct_prediction) # 정확도를 계산\n",
    "\n",
    "        print('Epoch {:4d}/{} Cost: {:.6f} Accuracy {:2.2f}'.format(epoch, nb_epochs, cost.item(), accuracy * 100))"
   ]
  },
  {
   "cell_type": "code",
   "execution_count": 13,
   "metadata": {},
   "outputs": [
    {
     "data": {
      "text/plain": [
       "tensor([[1.0163e-05],\n",
       "        [8.7004e-03],\n",
       "        [1.0270e-02],\n",
       "        [9.8776e-01],\n",
       "        [9.9987e-01],\n",
       "        [9.9999e-01]], grad_fn=<SigmoidBackward0>)"
      ]
     },
     "execution_count": 13,
     "metadata": {},
     "output_type": "execute_result"
    }
   ],
   "source": [
    "# 기존의 훈련 데이터를 입력하여 예측값 확인\n",
    "model(x_train)"
   ]
  },
  {
   "cell_type": "code",
   "execution_count": 14,
   "metadata": {},
   "outputs": [
    {
     "name": "stdout",
     "output_type": "stream",
     "text": [
      "[Parameter containing:\n",
      "tensor([[4.5632, 2.1979]], requires_grad=True), Parameter containing:\n",
      "tensor([-20.4557], requires_grad=True)]\n"
     ]
    }
   ],
   "source": [
    "# 훈련 후 W 와 b의 값 출력\n",
    "print(list(model.parameters()))"
   ]
  }
 ],
 "metadata": {
  "interpreter": {
   "hash": "48bde174e9cd0039e04545d8ab8de3430bce749efc257b14db65b6584328569a"
  },
  "kernelspec": {
   "display_name": "Python 3.9.7 ('pytorch_learning')",
   "language": "python",
   "name": "python3"
  },
  "language_info": {
   "codemirror_mode": {
    "name": "ipython",
    "version": 3
   },
   "file_extension": ".py",
   "mimetype": "text/x-python",
   "name": "python",
   "nbconvert_exporter": "python",
   "pygments_lexer": "ipython3",
   "version": "3.9.7"
  },
  "orig_nbformat": 4
 },
 "nbformat": 4,
 "nbformat_minor": 2
}
