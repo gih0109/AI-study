{
 "cells": [
  {
   "cell_type": "code",
   "execution_count": 1,
   "metadata": {},
   "outputs": [],
   "source": [
    "# 퍼셉트론(Perceptron)\n",
    "\n",
    "# 초기 인공 신경망\n",
    "# 다수의 입력으로부터 하나의 결과를 내보내는 알고리즘\n",
    "\n",
    "# 단층 퍼셉트론, 다층 퍼셉트론으로 나뉜다"
   ]
  },
  {
   "cell_type": "code",
   "execution_count": 2,
   "metadata": {},
   "outputs": [],
   "source": [
    "# 단층 퍼셉트론(Single-Layer Perceptron)\n",
    "\n",
    "# 입력층(Input layer) 와 출력층(output layer) 두 단계로 이루어져 있다\n",
    "# AND, NAND, OR 게이트로 쉽게 구현 가능"
   ]
  },
  {
   "cell_type": "code",
   "execution_count": 7,
   "metadata": {},
   "outputs": [],
   "source": [
    "# AND 게이트를 구현하기 위한 단층 퍼셉트론 식\n",
    "def AND_gate(x1, x2):\n",
    "    w1 = 0.5\n",
    "    w2 = 0.5\n",
    "    b = -0.7\n",
    "    result = x1 * w1 + x2 * w2 + b\n",
    "    if result <= 0:\n",
    "        return 0\n",
    "    else:\n",
    "        return 1"
   ]
  },
  {
   "cell_type": "code",
   "execution_count": 8,
   "metadata": {},
   "outputs": [
    {
     "data": {
      "text/plain": [
       "(0, 0, 0, 1)"
      ]
     },
     "execution_count": 8,
     "metadata": {},
     "output_type": "execute_result"
    }
   ],
   "source": [
    "AND_gate(0, 0), AND_gate(1, 0), AND_gate(0, 1), AND_gate(1, 1)"
   ]
  },
  {
   "cell_type": "code",
   "execution_count": 9,
   "metadata": {},
   "outputs": [],
   "source": [
    "# NAND 게이트를 구현하기 위한 단층 퍼셉트론 식\n",
    "def NAND_gate(x1, x2):\n",
    "    w1 = -0.5\n",
    "    w2 = -0.5\n",
    "    b = 0.7\n",
    "    result = x1 * w1 + x2 * w2 + b\n",
    "    if result <= 0:\n",
    "        return 0\n",
    "    else:\n",
    "        return 1"
   ]
  },
  {
   "cell_type": "code",
   "execution_count": 10,
   "metadata": {},
   "outputs": [
    {
     "data": {
      "text/plain": [
       "(1, 1, 1, 0)"
      ]
     },
     "execution_count": 10,
     "metadata": {},
     "output_type": "execute_result"
    }
   ],
   "source": [
    "NAND_gate(0, 0), NAND_gate(1, 0), NAND_gate(0, 1), NAND_gate(1, 1)"
   ]
  },
  {
   "cell_type": "code",
   "execution_count": 11,
   "metadata": {},
   "outputs": [],
   "source": [
    "# OR 게이트를 구현하기 위한 단층 퍼셉트론 식\n",
    "def OR_gate(x1, x2):\n",
    "    w1 = 0.6\n",
    "    w2 = 0.6\n",
    "    b = -0.5\n",
    "    result = x1 * w1 + x2 * w2 + b\n",
    "    if result <= 0:\n",
    "        return 0\n",
    "    else:\n",
    "        return 1"
   ]
  },
  {
   "cell_type": "code",
   "execution_count": 12,
   "metadata": {},
   "outputs": [
    {
     "data": {
      "text/plain": [
       "(0, 1, 1, 1)"
      ]
     },
     "execution_count": 12,
     "metadata": {},
     "output_type": "execute_result"
    }
   ],
   "source": [
    "OR_gate(0, 0), OR_gate(1, 0), OR_gate(0, 1), OR_gate(1, 1)"
   ]
  },
  {
   "cell_type": "code",
   "execution_count": null,
   "metadata": {},
   "outputs": [],
   "source": [
    "# 단층 퍼셉트론으로는 XOR 게이트를 구현 불가능"
   ]
  },
  {
   "cell_type": "code",
   "execution_count": null,
   "metadata": {},
   "outputs": [],
   "source": [
    "# 다층 퍼셉트론(MultiLayer Perceptron, MLP)\n",
    "\n",
    "# 다층 퍼셉트론은 단층 퍼셉트론 중간에 층을 더 추가 -> 은닉층(hiddon layer)\n",
    "# 은닉층이 2개 이상인 신경망을 심층 신경망(Deep Neural Network, DNN) 이라 한다.\n",
    "# 학습을 시키는 인공 신경망이 심층 신경망일 경우 심층 신경망을 학습시킨다고 하여 딥 러닝(Deep Learning) 이라고 한다"
   ]
  }
 ],
 "metadata": {
  "interpreter": {
   "hash": "48bde174e9cd0039e04545d8ab8de3430bce749efc257b14db65b6584328569a"
  },
  "kernelspec": {
   "display_name": "Python 3.9.7 ('pytorch_learning')",
   "language": "python",
   "name": "python3"
  },
  "language_info": {
   "codemirror_mode": {
    "name": "ipython",
    "version": 3
   },
   "file_extension": ".py",
   "mimetype": "text/x-python",
   "name": "python",
   "nbconvert_exporter": "python",
   "pygments_lexer": "ipython3",
   "version": "3.9.7"
  },
  "orig_nbformat": 4
 },
 "nbformat": 4,
 "nbformat_minor": 2
}
