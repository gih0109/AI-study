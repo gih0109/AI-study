{
 "cells": [
  {
   "cell_type": "code",
   "execution_count": 1,
   "metadata": {},
   "outputs": [],
   "source": [
    "# 3. CNN으로 MNIST 분류하기"
   ]
  },
  {
   "cell_type": "code",
   "execution_count": 1,
   "metadata": {},
   "outputs": [],
   "source": [
    "import torch\n",
    "import torchvision.datasets as dsets\n",
    "import torchvision.transforms as transforms\n",
    "import torch.nn.init"
   ]
  },
  {
   "cell_type": "code",
   "execution_count": 2,
   "metadata": {},
   "outputs": [
    {
     "name": "stdout",
     "output_type": "stream",
     "text": [
      "cuda\n"
     ]
    }
   ],
   "source": [
    "device = 'cuda' if torch.cuda.is_available() else 'cpu'\n",
    "print(device)\n",
    "\n",
    "# 랜덤 시드 고정\n",
    "torch.manual_seed(777)\n",
    "\n",
    "# GPU사용 가능할 경우 랜덤 시드 고정\n",
    "if device == 'cuda':\n",
    "    torch.cuda.manual_seed_all(777)"
   ]
  },
  {
   "cell_type": "code",
   "execution_count": 3,
   "metadata": {},
   "outputs": [],
   "source": [
    "# 학습에 사용될 파라미터\n",
    "\n",
    "learning_rate = 0.001\n",
    "training_epochs = 15\n",
    "batch_size = 100"
   ]
  },
  {
   "cell_type": "code",
   "execution_count": 4,
   "metadata": {},
   "outputs": [],
   "source": [
    "# 데이터로더를 사용하여 데이터를 다루기 위해서 데이터셋 정의\n",
    "\n",
    "mnist_train = dsets.MNIST(root='C:/Users/gih54/Documents/MNIST_data/', # 데이터 다운로드 경로\n",
    "                          train=True, # train 인자 true : 훈련 데이터, false : 테스트 데이터\n",
    "                          transform=transforms.ToTensor(), # transform 은 현재 데이터를 파이토치 텐서로 변환\n",
    "                          download=False)\n",
    "\n",
    "mnist_test = dsets.MNIST(root='C:/Users/gih54/Documents/MNIST_data/',\n",
    "                         train=False,\n",
    "                         transform=transforms.ToTensor(),\n",
    "                         download=False)"
   ]
  },
  {
   "cell_type": "code",
   "execution_count": 5,
   "metadata": {},
   "outputs": [],
   "source": [
    "# 데이터로더를 사용해서 배치 크기 지정\n",
    "\n",
    "data_loader = torch.utils.data.DataLoader(\n",
    "    dataset= mnist_train,\n",
    "    batch_size= batch_size,\n",
    "    shuffle= True,\n",
    "    drop_last= True)"
   ]
  },
  {
   "cell_type": "code",
   "execution_count": 6,
   "metadata": {},
   "outputs": [],
   "source": [
    "# 클래스로 모델을 설계\n",
    "\n",
    "class CNN(torch.nn.Module):\n",
    "\n",
    "    def __init__(self):\n",
    "        super(CNN, self).__init__()\n",
    "        # 첫번째층\n",
    "        # ImgIn shape = (?, 28, 28, 1)\n",
    "        # Conv -> (?, 28, 28, 32)\n",
    "        # Pool -> (?, 14, 14, 32)\n",
    "        self.layer1 = torch.nn.Sequential(\n",
    "            torch.nn.Conv2d(1, 32, kernel_size= 3, stride= 1, padding= 1),\n",
    "            torch.nn.ReLU(),\n",
    "            torch.nn.MaxPool2d(kernel_size= 2, stride= 2)\n",
    "        )\n",
    "\n",
    "        # 두번째층\n",
    "        # ImgIn shape = (?, 28, 28, 1)\n",
    "        # Conv -> (?, 28, 28, 64)\n",
    "        # Pool -> (?, 14, 14, 64)\n",
    "        self.layer2 = torch.nn.Sequential(\n",
    "            torch.nn.Conv2d(32, 64, kernel_size= 3, stride= 1, padding= 1),\n",
    "            torch.nn.ReLU(),\n",
    "            torch.nn.MaxPool2d(kernel_size= 2, stride= 2)\n",
    "        )\n",
    "\n",
    "        # 전결합층 7 X 7 X 64 inputs -> 10 outputs\n",
    "        self.fc = torch.nn.Linear(7 * 7 * 64, 10, bias= True)\n",
    "\n",
    "        # 전결합층 한정으로 가중치 초기화\n",
    "        torch.nn.init.xavier_uniform_(self.fc.weight)\n",
    "\n",
    "    def forward(self, x):\n",
    "        out = self.layer1(x)\n",
    "        out = self.layer2(out)\n",
    "        out = out.view(out.size(0), -1) # 전결합층을 위해서 Flatten\n",
    "        out = self.fc(out)\n",
    "        return out"
   ]
  },
  {
   "cell_type": "code",
   "execution_count": 7,
   "metadata": {},
   "outputs": [],
   "source": [
    "# 모델 정의\n",
    "# CNN 모델 정의\n",
    "\n",
    "model = CNN().to(device)"
   ]
  },
  {
   "cell_type": "code",
   "execution_count": 8,
   "metadata": {},
   "outputs": [],
   "source": [
    "# 비용함수 및 옵티마이저 정의\n",
    "\n",
    "criterion = torch.nn.CrossEntropyLoss().to(device)\n",
    "optimizer = torch.optim.Adam(model.parameters(), lr= learning_rate)"
   ]
  },
  {
   "cell_type": "code",
   "execution_count": 9,
   "metadata": {},
   "outputs": [
    {
     "name": "stdout",
     "output_type": "stream",
     "text": [
      "총 배치의 수 : 600\n"
     ]
    }
   ],
   "source": [
    "# 총 배치의 수 출력\n",
    "\n",
    "total_batch = len(data_loader)\n",
    "print(f\"총 배치의 수 : {total_batch}\")"
   ]
  },
  {
   "cell_type": "code",
   "execution_count": 10,
   "metadata": {},
   "outputs": [
    {
     "name": "stdout",
     "output_type": "stream",
     "text": [
      "[Epoch:    1] cost = 0.22568120062351227\n",
      "[Epoch:    2] cost = 0.06312915682792664\n",
      "[Epoch:    3] cost = 0.04635269194841385\n",
      "[Epoch:    4] cost = 0.03754287585616112\n",
      "[Epoch:    5] cost = 0.031568095088005066\n",
      "[Epoch:    6] cost = 0.026179123669862747\n",
      "[Epoch:    7] cost = 0.02203834243118763\n",
      "[Epoch:    8] cost = 0.0186180230230093\n",
      "[Epoch:    9] cost = 0.01626327447593212\n",
      "[Epoch:   10] cost = 0.013573218137025833\n",
      "[Epoch:   11] cost = 0.00987319741398096\n",
      "[Epoch:   12] cost = 0.010237324051558971\n",
      "[Epoch:   13] cost = 0.008427703753113747\n",
      "[Epoch:   14] cost = 0.00642367685213685\n",
      "[Epoch:   15] cost = 0.007604363840073347\n"
     ]
    }
   ],
   "source": [
    "# 모델 훈련\n",
    "for epoch in range(training_epochs):\n",
    "    avg_cost = 0\n",
    "\n",
    "    for X, Y in data_loader: # 미니 배치 단위로 꺼내온다. X는 미니배치, Y는 레이블\n",
    "        # image is already size of (28 X 28), no reshape\n",
    "        # label is not one-hot encoded\n",
    "        X = X.to(device)\n",
    "        Y = Y.to(device)\n",
    "\n",
    "        optimizer.zero_grad()\n",
    "        hypothesis = model(X)\n",
    "        cost = criterion(hypothesis, Y)\n",
    "        cost.backward()\n",
    "        optimizer.step()\n",
    "\n",
    "        avg_cost += cost / total_batch\n",
    "\n",
    "    print(\"[Epoch: {:>4}] cost = {:>9}\".format(epoch+1, avg_cost))"
   ]
  },
  {
   "cell_type": "code",
   "execution_count": 13,
   "metadata": {},
   "outputs": [
    {
     "name": "stdout",
     "output_type": "stream",
     "text": [
      "Accuracy:  0.9872999787330627\n"
     ]
    }
   ],
   "source": [
    "# 테스트\n",
    "# 학습을 진행하지 않을 것이므로 torch.no_grad()\n",
    "\n",
    "with torch.no_grad():\n",
    "    X_test = mnist_test.test_data.view(len(mnist_test), 1, 28, 28).float().to(device)\n",
    "    Y_test = mnist_test.test_labels.to(device)\n",
    "\n",
    "    prediction = model(X_test)\n",
    "    correct_prediction = torch.argmax(prediction, 1) == Y_test\n",
    "    accuracy = correct_prediction.float().mean()\n",
    "    print(\"Accuracy: \", accuracy.item())"
   ]
  }
 ],
 "metadata": {
  "interpreter": {
   "hash": "a4d44527b82321a8d7dfeedaed88760032a7ba5afaaaf7e3c710c51c79bf8d6d"
  },
  "kernelspec": {
   "display_name": "Python 3.9.7 ('pytorch_learning')",
   "language": "python",
   "name": "python3"
  },
  "language_info": {
   "codemirror_mode": {
    "name": "ipython",
    "version": 3
   },
   "file_extension": ".py",
   "mimetype": "text/x-python",
   "name": "python",
   "nbconvert_exporter": "python",
   "pygments_lexer": "ipython3",
   "version": "3.9.7"
  },
  "orig_nbformat": 4
 },
 "nbformat": 4,
 "nbformat_minor": 2
}
