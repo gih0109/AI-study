{
 "cells": [
  {
   "cell_type": "code",
   "execution_count": null,
   "metadata": {},
   "outputs": [],
   "source": [
    "# 소프트맥스 회귀(Softmax Regression) 이해하기\n",
    "\n",
    "# 소프트맥스 회귀를 통해 3개 이상의 선택지 중 1개를 고르는 다중 클래스 분류(Multi-Class Classification) 실습"
   ]
  },
  {
   "cell_type": "code",
   "execution_count": null,
   "metadata": {},
   "outputs": [],
   "source": [
    "# 입력 X, 가중치 W, 편향 B, 출력 Y\n",
    "\n",
    "# 로지스틱 회귀\n",
    "# 로지스틱 회귀에서 시그모이드 함수는 예측값을 0 과 1 사이의 값으로 만든다. True 및 False 확률의 합은 1\n",
    "# 가설 H(x) = sigmoid(WX + B)\n",
    "\n",
    "# 소프트맥스 회귀\n",
    "# 소프트맥스 회귀는 각 클래스, 선택지마다 소수 확률 할당, 이 확률의 총 합은 1 -> 각 선택지가 정답인 확률로 표시\n",
    "# 선택지의 개수만큼 차원을 가지는 벡터를 만들고, 해당 벡터가 벡터의 모든 원소의 합이 1이 되게 하는 함수\n",
    "# 가설 H(x) = softmax(WX + B)"
   ]
  }
 ],
 "metadata": {
  "interpreter": {
   "hash": "48bde174e9cd0039e04545d8ab8de3430bce749efc257b14db65b6584328569a"
  },
  "kernelspec": {
   "display_name": "Python 3.9.7 ('pytorch_learning')",
   "language": "python",
   "name": "python3"
  },
  "language_info": {
   "name": "python",
   "version": "3.9.7"
  },
  "orig_nbformat": 4
 },
 "nbformat": 4,
 "nbformat_minor": 2
}
