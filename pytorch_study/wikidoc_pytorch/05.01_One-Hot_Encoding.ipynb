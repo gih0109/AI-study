{
 "cells": [
  {
   "cell_type": "code",
   "execution_count": null,
   "metadata": {},
   "outputs": [],
   "source": [
    "# 소프트맥스 회귀(Softmax Regression)\n",
    "\n",
    "# 3개 이상의 선택지로부터 1개를 선택하는 문제인 다중 클래스 분류(Multi-Class classification)"
   ]
  },
  {
   "cell_type": "code",
   "execution_count": null,
   "metadata": {},
   "outputs": [],
   "source": [
    "# 원-핫 인코딩(One-Hot encording)\n",
    "\n",
    "# 선택해야 하는 선택지의 개수만큼의 차원을 가지면서, 각 선택지의 인덱스에 해당하는 원소에는 1, 나머지 원소는 0의 값을 가지도록 하는 표현 방법\n",
    "# 예) 강아지, 고양이, 냉장고 - 3개의 선택지\n",
    "\n",
    "# 각 선택지에 대해서 원-핫 인코딩이 된 벡터\n",
    "# 강아지 = [1, 0, 0]\n",
    "# 고양이 = [0, 1, 0]\n",
    "# 냉장고 = [0, 0, 1]\n",
    "\n",
    "# 각 선택지의 벡터를 보면 해당 선택지의 인덱스에만 1 값을 가지고, 나머지 원소들은 0 값을 가진다\n",
    "# 이와 같이 원-핫 인코딩으로 표현된 벡터를 원-핫 벡터(one-hot vector) 라고 한다"
   ]
  }
 ],
 "metadata": {
  "interpreter": {
   "hash": "48bde174e9cd0039e04545d8ab8de3430bce749efc257b14db65b6584328569a"
  },
  "kernelspec": {
   "display_name": "Python 3.9.7 ('pytorch_learning')",
   "language": "python",
   "name": "python3"
  },
  "language_info": {
   "name": "python",
   "version": "3.9.7"
  },
  "orig_nbformat": 4
 },
 "nbformat": 4,
 "nbformat_minor": 2
}
