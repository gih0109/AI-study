{
 "cells": [
  {
   "cell_type": "code",
   "execution_count": 5,
   "metadata": {},
   "outputs": [],
   "source": [
    "# 선형 회귀 (Linear Regression)\n",
    "# 파이토치(pytorch)를 이용하여 선형 회귀 모델을 만들어보기"
   ]
  },
  {
   "cell_type": "code",
   "execution_count": 6,
   "metadata": {},
   "outputs": [],
   "source": [
    "# 훈련 데이터셋의 구성\n",
    "# 모델을 학습시키기 위한 데이터는 파이토치의 텐서의 형태(torch.tensor) 를 가지고 있어야 한다\n",
    "# 입력과 출력을 각기 다른 텐서에 저장할 필요가 있다\n",
    "# 입력 : x , 출력 : y"
   ]
  },
  {
   "cell_type": "code",
   "execution_count": 7,
   "metadata": {},
   "outputs": [],
   "source": [
    "# x_train 은 공부한 시간, y_train 은 그에 맵핑되는 점수\n",
    "\n",
    "# x_train = torch.FloatTensor([[1], [2], [3]])\n",
    "# y_train = torch.FloatTensor([[2], [4], [6]])"
   ]
  },
  {
   "cell_type": "code",
   "execution_count": 8,
   "metadata": {},
   "outputs": [],
   "source": [
    "# 가설(Hypothesis) 수립\n",
    "# 머신 러닝에서 식을 세울 때 이 식을 가설(Hypothesis) 라고 한다. 임의로 추측하거나 경험적으로 알고 있는 식일수 있음, 계속 수정하게 된다\n",
    "\n",
    "# 선형 회귀 가설\n",
    "# y = Wx + b\n",
    "# H(x) = Wx + b\n",
    "\n",
    "# W : 가중치(Weight), b : 편향(bias)"
   ]
  },
  {
   "cell_type": "code",
   "execution_count": 9,
   "metadata": {},
   "outputs": [],
   "source": [
    "# 비용 함수(Cost funtion)\n",
    "# 비용 함수(Cost funtion) = 손실 함수(loss function) = 오차 함수(error funtion) = 목적 함수(objective funtion)\n",
    "\n",
    "# 어떠한 가설 직선이 가장 적절한 직선인지를 수학적인 근거로 판단 -> 오차(error) 도입"
   ]
  },
  {
   "cell_type": "code",
   "execution_count": 10,
   "metadata": {},
   "outputs": [],
   "source": [
    "# 옵티마이저 - 경사 하강법(Gradient Descent)\n",
    "\n",
    "# 비용 함수(Cost Funtion) 의 값을 최소로 하는 W 와 b 를 찾는 방법 : 옵티마이저(Optimizer) 알고리즘 또는 최적화 알고리즘\n",
    "# 적절한 W 와 b를 찾아내는 과정을 머신 러닝에서 학습(training) 이라고 한다\n",
    "# 가장 기본적인 옵티마이저 알고리즘인 경사 하강법(Gradient Descent)"
   ]
  },
  {
   "cell_type": "code",
   "execution_count": 11,
   "metadata": {},
   "outputs": [],
   "source": [
    "# 파이토치로 선형 회귀 구현하기"
   ]
  },
  {
   "cell_type": "code",
   "execution_count": 12,
   "metadata": {},
   "outputs": [
    {
     "data": {
      "text/plain": [
       "<torch._C.Generator at 0x228a6193150>"
      ]
     },
     "execution_count": 12,
     "metadata": {},
     "output_type": "execute_result"
    }
   ],
   "source": [
    "# 기본 세팅\n",
    "import torch\n",
    "import torch.nn as nn\n",
    "import torch.nn.functional as F\n",
    "import torch.optim as optim\n",
    "\n",
    "# 현재 실습하고 있는 파이썬 코드를 재실행해도 다음에도 같은 결과가 나오도록 랜덤 시드(random seed) 를 준다\n",
    "torch.manual_seed(1)"
   ]
  },
  {
   "cell_type": "code",
   "execution_count": 13,
   "metadata": {},
   "outputs": [
    {
     "name": "stdout",
     "output_type": "stream",
     "text": [
      "tensor([[1.],\n",
      "        [2.],\n",
      "        [3.]])\n",
      "tensor([[2.],\n",
      "        [4.],\n",
      "        [6.]])\n",
      "torch.Size([3, 1])\n",
      "torch.Size([3, 1])\n"
     ]
    }
   ],
   "source": [
    "# 훈련 데이터 선언\n",
    "x_train = torch.FloatTensor([[1], [2], [3]])\n",
    "y_train = torch.FloatTensor([[2], [4], [6]])\n",
    "\n",
    "# x_train 과 y_train 의 크기(shape) 출력\n",
    "print(x_train)\n",
    "print(y_train)\n",
    "print(x_train.shape)\n",
    "print(y_train.shape)"
   ]
  },
  {
   "cell_type": "code",
   "execution_count": 14,
   "metadata": {},
   "outputs": [
    {
     "name": "stdout",
     "output_type": "stream",
     "text": [
      "tensor([0.], requires_grad=True)\n"
     ]
    }
   ],
   "source": [
    "# 가중치와 편향의 초기화\n",
    "# 선형 회귀 : 학습 데이터와 가장 잘 맞는 하나의 직선을 찾는 것 ; 알맞는 값을 가지는 W 와 b 찾기\n",
    "\n",
    "# 가중치 W 을 0 으로 초기화 및 값 출력\n",
    "# 학습을 통해 값이 변경되는 변수임을 명시\n",
    "W = torch.zeros(1, requires_grad=True)\n",
    "\n",
    "# 가중치 W 출력\n",
    "print(W)"
   ]
  },
  {
   "cell_type": "code",
   "execution_count": 15,
   "metadata": {},
   "outputs": [
    {
     "name": "stdout",
     "output_type": "stream",
     "text": [
      "tensor([0.], requires_grad=True)\n"
     ]
    }
   ],
   "source": [
    "# 편향 b 를 0 으로 초기화 및 값이 변경되는 변수임을 명시\n",
    "b = torch.zeros(1, requires_grad=True)\n",
    "print(b)"
   ]
  },
  {
   "cell_type": "code",
   "execution_count": null,
   "metadata": {},
   "outputs": [],
   "source": [
    "# 현재 가중치 W 와 b 모두 0 이므로 현 직선의 방정식은 y = 0 * x + 0"
   ]
  },
  {
   "cell_type": "code",
   "execution_count": 16,
   "metadata": {},
   "outputs": [
    {
     "name": "stdout",
     "output_type": "stream",
     "text": [
      "tensor([[0.],\n",
      "        [0.],\n",
      "        [0.]], grad_fn=<AddBackward0>)\n"
     ]
    }
   ],
   "source": [
    "# 가설 세우기\n",
    "# 파이토치 코드 상으로 직선의 방정식에 해당되는 가설 선언\n",
    "# H(x) = Wx + b\n",
    "hypothesis = x_train * W + b\n",
    "print(hypothesis)"
   ]
  },
  {
   "cell_type": "code",
   "execution_count": 17,
   "metadata": {},
   "outputs": [
    {
     "name": "stdout",
     "output_type": "stream",
     "text": [
      "tensor(18.6667, grad_fn=<MeanBackward0>)\n"
     ]
    }
   ],
   "source": [
    "# 비용 함수 선언하기\n",
    "# 파이토치 코드 상으로 선형 회귀의 비용 함수에 해당되는 평균 제곱 오차를 선언\n",
    "# Cost(W, b) = 1/n * sigma(i=1, n) [y**(i) - H(x**(i))]**2\n",
    "\n",
    "# 앞서 배운 torch.mean 으로 평균을 구한다\n",
    "cost = torch.mean((hypothesis - y_train) ** 2)\n",
    "print(cost)"
   ]
  },
  {
   "cell_type": "code",
   "execution_count": 18,
   "metadata": {},
   "outputs": [],
   "source": [
    "# 경사 하강법 구현하기\n",
    "# SDG : 경사 하강법의 일종, lr : 학습률(learning rate)\n",
    "# 학습 대상인 W 와 b 가 SGD 의 입력이 된다\n",
    "\n",
    "optimizer = optim.SGD([W, b], lr=0.01)"
   ]
  },
  {
   "cell_type": "code",
   "execution_count": null,
   "metadata": {},
   "outputs": [],
   "source": [
    "# Optimizer.zero_grad() 를 실행하여 미분을 통해 얻은 기울기를 0 으로 초기화한다\n",
    "# 기울기를 초기화 해야 새로운 가중치 편향에 대해 새로운 기울기를 구할 수 있다\n",
    "\n",
    "# cost.backward() 함수를 호출하여 가중치 W 와 편향 b 에 대한 기울기 계산\n",
    "\n",
    "# 경사하강법 최적화 함수 opimizer 의 .step() 함수를 호출하여 인수로 들어갔던 W 와 b 에서 리턴되는 변수들의 기울기에\n",
    "# 학습률(learning rate) 0.01을 곱하여 빼줌으로서 업데이트 "
   ]
  },
  {
   "cell_type": "code",
   "execution_count": 19,
   "metadata": {},
   "outputs": [],
   "source": [
    "# gradient 를 0 으로 초기화\n",
    "optimizer.zero_grad()\n",
    "# 비용 함수를 미분하여 gradient 계산\n",
    "cost.backward()\n",
    "# W 와 b 를 업데이트\n",
    "optimizer.step()"
   ]
  },
  {
   "cell_type": "code",
   "execution_count": null,
   "metadata": {},
   "outputs": [],
   "source": [
    "# Epoch : 전체 훈련 데이터가 학습에 한 번 사용된 주기\n",
    "# 실습의 경우 2000번 수행"
   ]
  },
  {
   "cell_type": "code",
   "execution_count": 21,
   "metadata": {},
   "outputs": [
    {
     "name": "stdout",
     "output_type": "stream",
     "text": [
      "Epoch    0/2000 W: 0.186667, b: 0.080000 Cost: 18.666666\n",
      "Epoch  100/2000 W: 1.745691, b: 0.578072 Cost: 0.048171\n",
      "Epoch  200/2000 W: 1.800099, b: 0.454421 Cost: 0.029767\n",
      "Epoch  300/2000 W: 1.842860, b: 0.357217 Cost: 0.018394\n",
      "Epoch  400/2000 W: 1.876473, b: 0.280805 Cost: 0.011366\n",
      "Epoch  500/2000 W: 1.902897, b: 0.220738 Cost: 0.007024\n",
      "Epoch  600/2000 W: 1.923668, b: 0.173520 Cost: 0.004340\n",
      "Epoch  700/2000 W: 1.939996, b: 0.136403 Cost: 0.002682\n",
      "Epoch  800/2000 W: 1.952832, b: 0.107225 Cost: 0.001657\n",
      "Epoch  900/2000 W: 1.962921, b: 0.084289 Cost: 0.001024\n",
      "Epoch 1000/2000 W: 1.970853, b: 0.066259 Cost: 0.000633\n",
      "Epoch 1100/2000 W: 1.977087, b: 0.052085 Cost: 0.000391\n",
      "Epoch 1200/2000 W: 1.981989, b: 0.040944 Cost: 0.000242\n",
      "Epoch 1300/2000 W: 1.985842, b: 0.032185 Cost: 0.000149\n",
      "Epoch 1400/2000 W: 1.988870, b: 0.025301 Cost: 0.000092\n",
      "Epoch 1500/2000 W: 1.991251, b: 0.019889 Cost: 0.000057\n",
      "Epoch 1600/2000 W: 1.993122, b: 0.015634 Cost: 0.000035\n",
      "Epoch 1700/2000 W: 1.994594, b: 0.012290 Cost: 0.000022\n",
      "Epoch 1800/2000 W: 1.995750, b: 0.009661 Cost: 0.000013\n",
      "Epoch 1900/2000 W: 1.996659, b: 0.007595 Cost: 0.000008\n",
      "Epoch 2000/2000 W: 1.997374, b: 0.005970 Cost: 0.000005\n"
     ]
    }
   ],
   "source": [
    "# 전체 코드\n",
    "\n",
    "# 데이터\n",
    "x_train = torch.FloatTensor([[1], [2], [3]])\n",
    "y_train = torch.FloatTensor([[2], [4], [6]])\n",
    "\n",
    "# 모델 초기화\n",
    "W = torch.zeros(1, requires_grad=True)\n",
    "b = torch.zeros(1, requires_grad=True)\n",
    "\n",
    "# optimizer 설정\n",
    "optimizer = optim.SGD([W, b], lr=0.01)\n",
    "\n",
    "nb_epochs = 2000 # 원하는 값 만큼 경사 하강법 반복\n",
    "for epoch in range(nb_epochs + 1):\n",
    "\n",
    "    # H(x) 계산\n",
    "    hypothesis = x_train * W + b\n",
    "\n",
    "    # cost 계산\n",
    "    cost = torch.mean((hypothesis - y_train) ** 2)\n",
    "\n",
    "    # cost 로 H(x) 개선\n",
    "    optimizer.zero_grad() # 미분값 초기화\n",
    "    cost.backward()\n",
    "    optimizer.step()\n",
    "\n",
    "    # 100번 마다 로그 출력\n",
    "    if epoch % 100 == 0:\n",
    "        print('Epoch {:4d}/{} W: {:3f}, b: {:3f} Cost: {:6f}'.format(epoch, nb_epochs, W.item(), b.item(), cost.item()))\n"
   ]
  },
  {
   "cell_type": "code",
   "execution_count": null,
   "metadata": {},
   "outputs": [],
   "source": [
    "# 최종 훈련 결과를 보면 최적의 기울기 W 는 2 d에 가깝고, b 는 0 에 가까운 것을 볼 수 있다"
   ]
  },
  {
   "cell_type": "code",
   "execution_count": 22,
   "metadata": {},
   "outputs": [
    {
     "name": "stdout",
     "output_type": "stream",
     "text": [
      "수식을 w 로 미분한 값 : 2.0\n",
      "수식을 w 로 미분한 값 : 4.0\n",
      "수식을 w 로 미분한 값 : 6.0\n",
      "수식을 w 로 미분한 값 : 8.0\n",
      "수식을 w 로 미분한 값 : 10.0\n",
      "수식을 w 로 미분한 값 : 12.0\n",
      "수식을 w 로 미분한 값 : 14.0\n",
      "수식을 w 로 미분한 값 : 16.0\n",
      "수식을 w 로 미분한 값 : 18.0\n",
      "수식을 w 로 미분한 값 : 20.0\n",
      "수식을 w 로 미분한 값 : 22.0\n",
      "수식을 w 로 미분한 값 : 24.0\n",
      "수식을 w 로 미분한 값 : 26.0\n",
      "수식을 w 로 미분한 값 : 28.0\n",
      "수식을 w 로 미분한 값 : 30.0\n",
      "수식을 w 로 미분한 값 : 32.0\n",
      "수식을 w 로 미분한 값 : 34.0\n",
      "수식을 w 로 미분한 값 : 36.0\n",
      "수식을 w 로 미분한 값 : 38.0\n",
      "수식을 w 로 미분한 값 : 40.0\n",
      "수식을 w 로 미분한 값 : 42.0\n"
     ]
    }
   ],
   "source": [
    "# optimizer.zero_grad() 가 필요한 이유\n",
    "# 파이토치는 미분을 통해 얻은 기울기를 이전에 계산된 기울기 값에 누적시키는 특징이 있다\n",
    "\n",
    "w = torch.tensor(2.0, requires_grad=True)\n",
    "\n",
    "nb_epochs = 20\n",
    "for epoch in range(nb_epochs+1):\n",
    "    z = 2 * w\n",
    "    z.backward()\n",
    "    print('수식을 w 로 미분한 값 : {}'.format(w.grad))"
   ]
  },
  {
   "cell_type": "code",
   "execution_count": null,
   "metadata": {},
   "outputs": [],
   "source": [
    "# 미분 값인 2가 누적된다. 따라서 미분값을 계속 초기화 시켜줘야한다"
   ]
  }
 ],
 "metadata": {
  "interpreter": {
   "hash": "48bde174e9cd0039e04545d8ab8de3430bce749efc257b14db65b6584328569a"
  },
  "kernelspec": {
   "display_name": "Python 3.9.7 ('pytorch_learning')",
   "language": "python",
   "name": "python3"
  },
  "language_info": {
   "codemirror_mode": {
    "name": "ipython",
    "version": 3
   },
   "file_extension": ".py",
   "mimetype": "text/x-python",
   "name": "python",
   "nbconvert_exporter": "python",
   "pygments_lexer": "ipython3",
   "version": "3.9.7"
  },
  "orig_nbformat": 4
 },
 "nbformat": 4,
 "nbformat_minor": 2
}
