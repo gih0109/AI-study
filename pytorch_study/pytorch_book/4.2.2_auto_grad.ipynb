{
 "cells": [
  {
   "cell_type": "code",
   "execution_count": 1,
   "metadata": {},
   "outputs": [],
   "source": [
    "# 자동 미분\n",
    "# 파이토치는 Tensor 를 바로 이용"
   ]
  },
  {
   "cell_type": "code",
   "execution_count": 2,
   "metadata": {},
   "outputs": [],
   "source": [
    "import torch\n",
    "from matplotlib import pyplot as plt\n",
    "\n",
    "# 일변수 데이터 생성(2차원)\n",
    "x = torch.FloatTensor(range(5)).unsqueeze(1)\n",
    "# torch.FloatTensor(range(5)) : 리스트 range(5)를 이용해 텐서 생성(원래 크기 1차원; torch.Size(5))\n",
    "# -> unsqueeze(1) 는 1번째 위치의 차원 늘려준다 -> 최종 x 크기 : torch.Size(5, 1)\n",
    "\n",
    "y = 2 * x + torch.rand(5, 1) # 임의의 실제값 5개\n",
    "\n",
    "num_features = x.shape[1] # 변수의 개수 저장용 변수\n",
    "# x의 크기는 torch.Size([5, 1]) 이므로 인스턴수의 개수가 5개이고 변수(피쳐)의 개수가 1개인 데이터\n",
    "# x.shape[1]은 변수의 크기가 된다"
   ]
  },
  {
   "cell_type": "code",
   "execution_count": 3,
   "metadata": {},
   "outputs": [],
   "source": [
    "# 선형식 y = xw + b 로 표현됨 -> w 는 5x1 데이터와 곱할 수 있어야 하며 예측값이 하나여야 한다\n",
    "# w : 크기가 1(피쳐수) x 1(출력값 크기) 인 배열로 정의 \n",
    "# wx = 5 x 1 이 된다\n",
    "w = torch.randn(num_features, 1, requires_grad=True)\n",
    "b = torch.randn(1, requires_grad=True) # 편향 b : 모든 인스턴스에 동일한 숫자를 더해주는 것 ; 크기 1인 텐서로 정의\n",
    "\n",
    "# 목표 : xw + b 가 잘 예측 할수 있는 식이 되도록 하는 w 와 b를 찾는 것\n",
    "# 모르는 경우 무작위값 -> torch.randn 이용\n",
    "# x, y : 데이터 ; 변하지 않는 값, w, b : 역전파를 통해 최적화값 찾음 -> requires_grad=True 로 활성화 "
   ]
  },
  {
   "cell_type": "code",
   "execution_count": 4,
   "metadata": {},
   "outputs": [],
   "source": [
    "# torch.optim.SGD 내부에 변수를 리스트로 무꺼 주고 적절한 학습률(learning rate)을 정하여 자동으로 가중치 및 편향을 업데이트\n",
    "learning_rate = 1e-3\n",
    "optimizer = torch.optim.SGD([w, b], lr=learning_rate)"
   ]
  },
  {
   "cell_type": "code",
   "execution_count": 5,
   "metadata": {},
   "outputs": [
    {
     "name": "stdout",
     "output_type": "stream",
     "text": [
      "Epoch 0:32.33287811279297\n",
      "Epoch 100:2.8052377700805664\n",
      "Epoch 200:0.7629342675209045\n",
      "Epoch 300:0.57634037733078\n",
      "Epoch 400:0.5201510787010193\n",
      "Epoch 500:0.4776475429534912\n",
      "Epoch 600:0.4404233992099762\n",
      "Epoch 700:0.4074229300022125\n",
      "Epoch 800:0.3781389594078064\n",
      "Epoch 900:0.35215112566947937\n",
      "Epoch 1000:0.3290881812572479\n"
     ]
    }
   ],
   "source": [
    "loss_stack = [] # 매 에폭(epoch) 마다 손실 함수값 저장하기 위한 빈 리스트\n",
    "\n",
    "for epoch in range(1001): # 학습 반복수\n",
    "    optimizer.zero_grad() # 최적화는 계산을 누적시키기 때문에 매 에폭마다 누적된 값을 optimizer.zero_grad() 로 초기화\n",
    "    y_hat = torch.matmul(x, w) + b # 회귀식 모델 이용 예측값 산출\n",
    "    loss = torch.mean((y_hat - y) ** 2) # 예측값과 실제값을 이용하여 손실 함수 계산 ; Mean Square Error(MSE) 함수 사용\n",
    "    loss.backward() # 역전파의 기준을 손실 함수로 정한다\n",
    "    optimizer.step() # 미리 정의한 optimizer를 이용하여 최적화 시행\n",
    "    loss_stack.append(loss.item()) # 그래프를 그리기 위해 손실 함수값만 loss_stack 에 넣는다. item()을 사용하지 않으면 loss 텐서 전체를 저장\n",
    "\n",
    "    if epoch % 100 == 0:\n",
    "        print(f'Epoch {epoch}:{loss.item()}') # 에폭이 100 으로 나눠 떨어질때마다 손실 함수값 출력"
   ]
  },
  {
   "cell_type": "code",
   "execution_count": 6,
   "metadata": {},
   "outputs": [],
   "source": [
    "with torch.no_grad():\n",
    "    y_hat = torch.matmul(x, w) + b # 최종 학습된 w, b 로 예측값 산출\n",
    "# 최적화를 사용하지 않으므로 requires_grad를 비활성화. 이 때 with torch.no_grad() 를 이용하여 구문 내부에 있는 requires_grad 가 작동하지 않게 가능"
   ]
  },
  {
   "cell_type": "code",
   "execution_count": 7,
   "metadata": {},
   "outputs": [
    {
     "data": {
      "image/png": "[encoded data removed]",
      "text/plain": [
       "<Figure size 720x360 with 2 Axes>"
      ]
     },
     "metadata": {
      "needs_background": "light"
     },
     "output_type": "display_data"
    }
   ],
   "source": [
    "plt.figure(figsize=(10, 5))\n",
    "plt.subplot(121)\n",
    "plt.plot(loss_stack)\n",
    "plt.title(\"Loss\")\n",
    "plt.subplot(122)\n",
    "plt.plot(x, y, '.b')\n",
    "plt.plot(x, y_hat, 'r-')\n",
    "plt.legend(['ground truth', 'prediction'])\n",
    "plt.title(\"Prediction\")\n",
    "plt.show()"
   ]
  }
 ],
 "metadata": {
  "interpreter": {
   "hash": "48bde174e9cd0039e04545d8ab8de3430bce749efc257b14db65b6584328569a"
  },
  "kernelspec": {
   "display_name": "Python 3.9.7 ('pytorch_learning')",
   "language": "python",
   "name": "python3"
  },
  "language_info": {
   "codemirror_mode": {
    "name": "ipython",
    "version": 3
   },
   "file_extension": ".py",
   "mimetype": "text/x-python",
   "name": "python",
   "nbconvert_exporter": "python",
   "pygments_lexer": "ipython3",
   "version": "3.9.7"
  },
  "orig_nbformat": 4
 },
 "nbformat": 4,
 "nbformat_minor": 2
}
