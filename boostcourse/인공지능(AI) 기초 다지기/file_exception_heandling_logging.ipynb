{
 "cells": [
  {
   "cell_type": "code",
   "execution_count": 11,
   "metadata": {},
   "outputs": [],
   "source": [
    "# Exception / File / Log Handling\n",
    "# 예외 처리 및 파일 다루기"
   ]
  },
  {
   "cell_type": "code",
   "execution_count": 12,
   "metadata": {},
   "outputs": [],
   "source": [
    "# Exception\n",
    "# 1) 예상 가능한 예외\n",
    "# 2) 예상 불가능한 예외"
   ]
  },
  {
   "cell_type": "code",
   "execution_count": 13,
   "metadata": {},
   "outputs": [],
   "source": [
    "# 예상 가능한 예외\n",
    "# - 발생 여부를 사전에 인지할 수 있는 예외\n",
    "# - 사용자의 잘못된 입력, 파일 호출 시 파일 없음\n",
    "# - 개발자가 반드시 명시적으로 정의해야함"
   ]
  },
  {
   "cell_type": "code",
   "execution_count": 14,
   "metadata": {},
   "outputs": [],
   "source": [
    "# 예상 불가능한 예외\n",
    "# - 인터프리터 과정에서 발생하는 예외, 개발자 실수\n",
    "# - 리스트의 범위를 넘어가는 값 호출, 정수 0 으로 나눔\n",
    "# - 수행 불가 시 인터프리터가 자동으로 호출\n",
    "\n",
    "# 모든 잘못된 상황에 대처가 필요\n",
    "# Exception Handling"
   ]
  },
  {
   "cell_type": "code",
   "execution_count": 15,
   "metadata": {},
   "outputs": [],
   "source": [
    "# Exception Handling\n",
    "\n",
    "# ~try ~except 문법\n",
    "# try:\n",
    "# 예외 발생 가능 코드\n",
    "# except <Excetion Type>\n",
    "# 예외 발생 시 대응하는 코드"
   ]
  },
  {
   "cell_type": "code",
   "execution_count": 16,
   "metadata": {},
   "outputs": [
    {
     "name": "stdout",
     "output_type": "stream",
     "text": [
      "Error\n",
      "Not divided by 0\n",
      "10.0\n",
      "5.0\n",
      "3.3333333333333335\n",
      "2.5\n",
      "2.0\n",
      "1.6666666666666667\n",
      "1.4285714285714286\n",
      "1.25\n",
      "1.1111111111111112\n"
     ]
    }
   ],
   "source": [
    "# 0으로 숫자로 나눌 때 예외처리하기\n",
    "for i in range(10):\n",
    "    try:\n",
    "        print(10/i)\n",
    "    except ZeroDivisionError: # built in error (미리 정의된 에러)\n",
    "        print(\"Error\")\n",
    "        print(\"Not divided by 0\")"
   ]
  },
  {
   "cell_type": "code",
   "execution_count": 17,
   "metadata": {},
   "outputs": [
    {
     "ename": "ZeroDivisionError",
     "evalue": "division by zero",
     "output_type": "error",
     "traceback": [
      "\u001b[1;31m---------------------------------------------------------------------------\u001b[0m",
      "\u001b[1;31mZeroDivisionError\u001b[0m                         Traceback (most recent call last)",
      "\u001b[1;32mc:\\Users\\gih54\\Documents\\ai study\\boostcourse\\인공지능(AI) 기초 다지기\\file_exception_heandling_logging.ipynb Cell 7'\u001b[0m in \u001b[0;36m<cell line: 2>\u001b[1;34m()\u001b[0m\n\u001b[0;32m      <a href='vscode-notebook-cell:/c%3A/Users/gih54/Documents/ai%20study/boostcourse/%EC%9D%B8%EA%B3%B5%EC%A7%80%EB%8A%A5%28AI%29%20%EA%B8%B0%EC%B4%88%20%EB%8B%A4%EC%A7%80%EA%B8%B0/file_exception_heandling_logging.ipynb#ch0000006?line=1'>2</a>\u001b[0m \u001b[39mfor\u001b[39;00m i \u001b[39min\u001b[39;00m \u001b[39mrange\u001b[39m(\u001b[39m10\u001b[39m):\n\u001b[0;32m      <a href='vscode-notebook-cell:/c%3A/Users/gih54/Documents/ai%20study/boostcourse/%EC%9D%B8%EA%B3%B5%EC%A7%80%EB%8A%A5%28AI%29%20%EA%B8%B0%EC%B4%88%20%EB%8B%A4%EC%A7%80%EA%B8%B0/file_exception_heandling_logging.ipynb#ch0000006?line=2'>3</a>\u001b[0m     \u001b[39mtry\u001b[39;00m:\n\u001b[1;32m----> <a href='vscode-notebook-cell:/c%3A/Users/gih54/Documents/ai%20study/boostcourse/%EC%9D%B8%EA%B3%B5%EC%A7%80%EB%8A%A5%28AI%29%20%EA%B8%B0%EC%B4%88%20%EB%8B%A4%EC%A7%80%EA%B8%B0/file_exception_heandling_logging.ipynb#ch0000006?line=3'>4</a>\u001b[0m         \u001b[39mprint\u001b[39m(\u001b[39m10\u001b[39;49m\u001b[39m/\u001b[39;49mi)\n\u001b[0;32m      <a href='vscode-notebook-cell:/c%3A/Users/gih54/Documents/ai%20study/boostcourse/%EC%9D%B8%EA%B3%B5%EC%A7%80%EB%8A%A5%28AI%29%20%EA%B8%B0%EC%B4%88%20%EB%8B%A4%EC%A7%80%EA%B8%B0/file_exception_heandling_logging.ipynb#ch0000006?line=4'>5</a>\u001b[0m     \u001b[39mexcept\u001b[39;00m \u001b[39mValueError\u001b[39;00m: \u001b[39m# 에러 발생\u001b[39;00m\n\u001b[0;32m      <a href='vscode-notebook-cell:/c%3A/Users/gih54/Documents/ai%20study/boostcourse/%EC%9D%B8%EA%B3%B5%EC%A7%80%EB%8A%A5%28AI%29%20%EA%B8%B0%EC%B4%88%20%EB%8B%A4%EC%A7%80%EA%B8%B0/file_exception_heandling_logging.ipynb#ch0000006?line=5'>6</a>\u001b[0m         \u001b[39mprint\u001b[39m(\u001b[39m\"\u001b[39m\u001b[39mError\u001b[39m\u001b[39m\"\u001b[39m)\n",
      "\u001b[1;31mZeroDivisionError\u001b[0m: division by zero"
     ]
    }
   ],
   "source": [
    "# 0 으로 나눌 때 ZeroDivisionError 말고 딴걸 쓴다면\n",
    "for i in range(10):\n",
    "    try:\n",
    "        print(10/i)\n",
    "    except ValueError: # 에러 발생\n",
    "        print(\"Error\")\n",
    "        print(\"Not divided by 0\")"
   ]
  },
  {
   "cell_type": "code",
   "execution_count": 18,
   "metadata": {},
   "outputs": [],
   "source": [
    "# Built-in Exception: 기본적으로 제공하는 예외\n",
    "\n",
    "# IndexError\n",
    "# NameError\n",
    "# ZeroDivisionError\n",
    "# ValueError\n",
    "# FileNotFoundError\n",
    "# 등등"
   ]
  },
  {
   "cell_type": "code",
   "execution_count": 19,
   "metadata": {},
   "outputs": [
    {
     "name": "stdout",
     "output_type": "stream",
     "text": [
      "Error\n",
      "Not divided by 0\n",
      "1 10\n",
      "2\n",
      "name 'v' is not defined\n",
      "2 5\n",
      "3\n",
      "name 'v' is not defined\n",
      "3 3\n",
      "4\n",
      "name 'v' is not defined\n",
      "4 2\n",
      "5\n",
      "name 'v' is not defined\n",
      "5 2\n",
      "list index out of range\n",
      "6 1\n",
      "list index out of range\n",
      "7 1\n",
      "list index out of range\n",
      "8 1\n",
      "list index out of range\n",
      "9 1\n",
      "list index out of range\n"
     ]
    }
   ],
   "source": [
    "# IndexError, Exception\n",
    "\n",
    "a = [1, 2, 3, 4, 5]\n",
    "for i in range(10):\n",
    "    try:\n",
    "        print(i, 10 // i)\n",
    "        print(a[i])\n",
    "        print(v)\n",
    "    except ZeroDivisionError: \n",
    "        print(\"Error\")\n",
    "        print(\"Not divided by 0\")\n",
    "    except IndexError as e:\n",
    "        print(e)\n",
    "    except Exception as e: # 포괄적인 에러 : 특별히 지정 안해도 에러를 잡는다, 권장 X\n",
    "        print(e)"
   ]
  },
  {
   "cell_type": "code",
   "execution_count": 20,
   "metadata": {},
   "outputs": [],
   "source": [
    "# else 구문\n",
    "\n",
    "# try:\n",
    "# 예외 발생 가능 코드\n",
    "# except <Exception Type>:\n",
    "# 에외 발생 시 동작하는 코드\n",
    "# else:\n",
    "# 예외가 발생하지 않을 때 동작하는 코드"
   ]
  },
  {
   "cell_type": "code",
   "execution_count": 21,
   "metadata": {},
   "outputs": [
    {
     "name": "stdout",
     "output_type": "stream",
     "text": [
      "Not divided by 0\n",
      "10\n",
      "5\n",
      "3\n",
      "2\n",
      "2\n",
      "1\n",
      "1\n",
      "1\n",
      "1\n"
     ]
    }
   ],
   "source": [
    "for i in range(10):\n",
    "    try:\n",
    "        result = 10 // i\n",
    "    except ZeroDivisionError:\n",
    "        print(\"Not divided by 0\")\n",
    "    else:\n",
    "        print(result)"
   ]
  },
  {
   "cell_type": "code",
   "execution_count": 22,
   "metadata": {},
   "outputs": [],
   "source": [
    "# finally 구문\n",
    "# ~try ~except ~finally\n",
    "\n",
    "# try:\n",
    "# 예외 발생 가능 코드\n",
    "# except <Exception Type>:\n",
    "# 에외 발생 시 동작하는 코드\n",
    "# finally\n",
    "# 예외 발생 여부와 상관없이 실행"
   ]
  },
  {
   "cell_type": "code",
   "execution_count": 23,
   "metadata": {},
   "outputs": [
    {
     "name": "stdout",
     "output_type": "stream",
     "text": [
      "10\n",
      "5\n",
      "3\n",
      "2\n",
      "2\n",
      "1\n",
      "1\n",
      "1\n",
      "1\n",
      "종료되었습니다.\n"
     ]
    }
   ],
   "source": [
    "try:\n",
    "    for i in range(1, 10):\n",
    "        result = 10 // i\n",
    "        print(result)\n",
    "except ZeroDivisionError:\n",
    "    print(\"Not divided by 0\")\n",
    "else:\n",
    "    print(\"종료되었습니다.\")"
   ]
  },
  {
   "cell_type": "code",
   "execution_count": 24,
   "metadata": {},
   "outputs": [
    {
     "ename": "ValueError",
     "evalue": "숫자값을 입력하지 않았습니다",
     "output_type": "error",
     "traceback": [
      "\u001b[1;31m---------------------------------------------------------------------------\u001b[0m",
      "\u001b[1;31mValueError\u001b[0m                                Traceback (most recent call last)",
      "\u001b[1;32mc:\\Users\\gih54\\Documents\\ai study\\boostcourse\\인공지능(AI) 기초 다지기\\file_exception_heandling_logging.ipynb Cell 14'\u001b[0m in \u001b[0;36m<cell line: 6>\u001b[1;34m()\u001b[0m\n\u001b[0;32m      <a href='vscode-notebook-cell:/c%3A/Users/gih54/Documents/ai%20study/boostcourse/%EC%9D%B8%EA%B3%B5%EC%A7%80%EB%8A%A5%28AI%29%20%EA%B8%B0%EC%B4%88%20%EB%8B%A4%EC%A7%80%EA%B8%B0/file_exception_heandling_logging.ipynb#ch0000013?line=5'>6</a>\u001b[0m \u001b[39mfor\u001b[39;00m digit \u001b[39min\u001b[39;00m value:\n\u001b[0;32m      <a href='vscode-notebook-cell:/c%3A/Users/gih54/Documents/ai%20study/boostcourse/%EC%9D%B8%EA%B3%B5%EC%A7%80%EB%8A%A5%28AI%29%20%EA%B8%B0%EC%B4%88%20%EB%8B%A4%EC%A7%80%EA%B8%B0/file_exception_heandling_logging.ipynb#ch0000013?line=6'>7</a>\u001b[0m     \u001b[39mif\u001b[39;00m digit \u001b[39mnot\u001b[39;00m \u001b[39min\u001b[39;00m \u001b[39m\"\u001b[39m\u001b[39m0123456789\u001b[39m\u001b[39m\"\u001b[39m:\n\u001b[1;32m----> <a href='vscode-notebook-cell:/c%3A/Users/gih54/Documents/ai%20study/boostcourse/%EC%9D%B8%EA%B3%B5%EC%A7%80%EB%8A%A5%28AI%29%20%EA%B8%B0%EC%B4%88%20%EB%8B%A4%EC%A7%80%EA%B8%B0/file_exception_heandling_logging.ipynb#ch0000013?line=7'>8</a>\u001b[0m         \u001b[39mraise\u001b[39;00m \u001b[39mValueError\u001b[39;00m(\u001b[39m\"\u001b[39m\u001b[39m숫자값을 입력하지 않았습니다\u001b[39m\u001b[39m\"\u001b[39m)\n\u001b[0;32m      <a href='vscode-notebook-cell:/c%3A/Users/gih54/Documents/ai%20study/boostcourse/%EC%9D%B8%EA%B3%B5%EC%A7%80%EB%8A%A5%28AI%29%20%EA%B8%B0%EC%B4%88%20%EB%8B%A4%EC%A7%80%EA%B8%B0/file_exception_heandling_logging.ipynb#ch0000013?line=8'>9</a>\u001b[0m \u001b[39mprint\u001b[39m(\u001b[39m\"\u001b[39m\u001b[39m정수값으로 변환된 숫자 :\u001b[39m\u001b[39m\"\u001b[39m, \u001b[39mint\u001b[39m(value))\n",
      "\u001b[1;31mValueError\u001b[0m: 숫자값을 입력하지 않았습니다"
     ]
    }
   ],
   "source": [
    "# raise 구문\n",
    "# 필요에 따라 강제로 Exception을 발생\n",
    "\n",
    "# raise <Excepiton Type>(예외정보)\n",
    "value = input(\"변환할 정수 값을 입력해주세요\")\n",
    "for digit in value:\n",
    "    if digit not in \"0123456789\":\n",
    "        raise ValueError(\"숫자값을 입력하지 않았습니다\")\n",
    "print(\"정수값으로 변환된 숫자 :\", int(value))"
   ]
  },
  {
   "cell_type": "code",
   "execution_count": 25,
   "metadata": {},
   "outputs": [
    {
     "ename": "AssertionError",
     "evalue": "",
     "output_type": "error",
     "traceback": [
      "\u001b[1;31m---------------------------------------------------------------------------\u001b[0m",
      "\u001b[1;31mAssertionError\u001b[0m                            Traceback (most recent call last)",
      "\u001b[1;32mc:\\Users\\gih54\\Documents\\ai study\\boostcourse\\인공지능(AI) 기초 다지기\\file_exception_heandling_logging.ipynb Cell 15'\u001b[0m in \u001b[0;36m<cell line: 8>\u001b[1;34m()\u001b[0m\n\u001b[0;32m      <a href='vscode-notebook-cell:/c%3A/Users/gih54/Documents/ai%20study/boostcourse/%EC%9D%B8%EA%B3%B5%EC%A7%80%EB%8A%A5%28AI%29%20%EA%B8%B0%EC%B4%88%20%EB%8B%A4%EC%A7%80%EA%B8%B0/file_exception_heandling_logging.ipynb#ch0000014?line=4'>5</a>\u001b[0m     \u001b[39massert\u001b[39;00m \u001b[39misinstance\u001b[39m(decimal_number, \u001b[39mint\u001b[39m) \u001b[39m# decimal_number 가 int 조건이 아니면 예외 발생시킴\u001b[39;00m\n\u001b[0;32m      <a href='vscode-notebook-cell:/c%3A/Users/gih54/Documents/ai%20study/boostcourse/%EC%9D%B8%EA%B3%B5%EC%A7%80%EB%8A%A5%28AI%29%20%EA%B8%B0%EC%B4%88%20%EB%8B%A4%EC%A7%80%EA%B8%B0/file_exception_heandling_logging.ipynb#ch0000014?line=5'>6</a>\u001b[0m     \u001b[39mreturn\u001b[39;00m \u001b[39mbin\u001b[39m(decimal_number)\n\u001b[1;32m----> <a href='vscode-notebook-cell:/c%3A/Users/gih54/Documents/ai%20study/boostcourse/%EC%9D%B8%EA%B3%B5%EC%A7%80%EB%8A%A5%28AI%29%20%EA%B8%B0%EC%B4%88%20%EB%8B%A4%EC%A7%80%EA%B8%B0/file_exception_heandling_logging.ipynb#ch0000014?line=7'>8</a>\u001b[0m \u001b[39mprint\u001b[39m(get_binary_number(\u001b[39m10.0\u001b[39;49m))\n",
      "\u001b[1;32mc:\\Users\\gih54\\Documents\\ai study\\boostcourse\\인공지능(AI) 기초 다지기\\file_exception_heandling_logging.ipynb Cell 15'\u001b[0m in \u001b[0;36mget_binary_number\u001b[1;34m(decimal_number)\u001b[0m\n\u001b[0;32m      <a href='vscode-notebook-cell:/c%3A/Users/gih54/Documents/ai%20study/boostcourse/%EC%9D%B8%EA%B3%B5%EC%A7%80%EB%8A%A5%28AI%29%20%EA%B8%B0%EC%B4%88%20%EB%8B%A4%EC%A7%80%EA%B8%B0/file_exception_heandling_logging.ipynb#ch0000014?line=3'>4</a>\u001b[0m \u001b[39mdef\u001b[39;00m \u001b[39mget_binary_number\u001b[39m(decimal_number):\n\u001b[1;32m----> <a href='vscode-notebook-cell:/c%3A/Users/gih54/Documents/ai%20study/boostcourse/%EC%9D%B8%EA%B3%B5%EC%A7%80%EB%8A%A5%28AI%29%20%EA%B8%B0%EC%B4%88%20%EB%8B%A4%EC%A7%80%EA%B8%B0/file_exception_heandling_logging.ipynb#ch0000014?line=4'>5</a>\u001b[0m     \u001b[39massert\u001b[39;00m \u001b[39misinstance\u001b[39m(decimal_number, \u001b[39mint\u001b[39m) \u001b[39m# decimal_number 가 int 조건이 아니면 예외 발생시킴\u001b[39;00m\n\u001b[0;32m      <a href='vscode-notebook-cell:/c%3A/Users/gih54/Documents/ai%20study/boostcourse/%EC%9D%B8%EA%B3%B5%EC%A7%80%EB%8A%A5%28AI%29%20%EA%B8%B0%EC%B4%88%20%EB%8B%A4%EC%A7%80%EA%B8%B0/file_exception_heandling_logging.ipynb#ch0000014?line=5'>6</a>\u001b[0m     \u001b[39mreturn\u001b[39;00m \u001b[39mbin\u001b[39m(decimal_number)\n",
      "\u001b[1;31mAssertionError\u001b[0m: "
     ]
    }
   ],
   "source": [
    "# assert 구문\n",
    "# 특정 조건에 만족하지 않을 경우 예외 발생\n",
    "\n",
    "def get_binary_number(decimal_number):\n",
    "    assert isinstance(decimal_number, int) # decimal_number 가 int 조건이 아니면 예외 발생시킴\n",
    "    return bin(decimal_number)\n",
    "\n",
    "print(get_binary_number(10.0))"
   ]
  },
  {
   "cell_type": "code",
   "execution_count": 26,
   "metadata": {},
   "outputs": [],
   "source": [
    "# File handling"
   ]
  },
  {
   "cell_type": "code",
   "execution_count": 27,
   "metadata": {},
   "outputs": [],
   "source": [
    "# 파일의 종류\n",
    "\n",
    "# 기본적인 파일 종류로 text 파일과 binary 파일로 나눔\n",
    "# 컴퓨터는 text 파일을 처리하기 위에 binary 파일로 변환시킴\n",
    "# ASCII/Unicode 문자열 집합으로 저장되어 사람이 읽을 수 있음"
   ]
  },
  {
   "cell_type": "code",
   "execution_count": 28,
   "metadata": {},
   "outputs": [],
   "source": [
    "# Python File I/O\n",
    "\n",
    "# 파이썬은 파일 처리를 위해 \"open\"키워드 사용\n",
    "# f = open(\"<파일이름>\", \"접근모드\")\n",
    "# f.close()"
   ]
  },
  {
   "cell_type": "code",
   "execution_count": 29,
   "metadata": {},
   "outputs": [
    {
     "name": "stdout",
     "output_type": "stream",
     "text": [
      "i have a dream\n",
      "12345\n",
      "67890\n"
     ]
    }
   ],
   "source": [
    "# 파이썬의 File Read\n",
    "\n",
    "# read() txt 파일 안에 있는 내용을 문자열로 변한\n",
    "f = open(\"i_have_a_dream.txt\", \"r\") # 주소를 읽은 후 파일을 연다\n",
    "contents = f.read() # 내용을 읽는다\n",
    "print(contents)\n",
    "f.close() # 파일을 닫는다"
   ]
  },
  {
   "cell_type": "code",
   "execution_count": 30,
   "metadata": {},
   "outputs": [
    {
     "name": "stdout",
     "output_type": "stream",
     "text": [
      "i have a dream\n",
      "12345\n",
      "67890\n"
     ]
    }
   ],
   "source": [
    "# with 구문과 함께 사용하기\n",
    "with open(\"i_have_a_dream.txt\", \"r\") as my_file:\n",
    "    contents = my_file.read()\n",
    "    print(contents)"
   ]
  },
  {
   "cell_type": "code",
   "execution_count": 31,
   "metadata": {},
   "outputs": [
    {
     "name": "stdout",
     "output_type": "stream",
     "text": [
      "<class 'list'>\n",
      "['i have a dream\\n', '12345\\n', '67890']\n"
     ]
    }
   ],
   "source": [
    "# 한 줄씩 읽어 List Type 으로 반환\n",
    "with open(\"i_have_a_dream.txt\", \"r\") as my_file:\n",
    "    contents_list = my_file.readlines() # 파일 전체를 읽어서 list 로 반환\n",
    "    print(type(contents_list)) # Type 확인\n",
    "    print(contents_list) # 리스트 값 출력"
   ]
  },
  {
   "cell_type": "code",
   "execution_count": 32,
   "metadata": {},
   "outputs": [
    {
     "name": "stdout",
     "output_type": "stream",
     "text": [
      "0 === i have a dream\n",
      "1 === 12345\n",
      "2 === 67890\n"
     ]
    }
   ],
   "source": [
    "# 실행 시 마다 한 줄 씩 읽어 오기\n",
    "with open(\"i_have_a_dream.txt\", \"r\") as my_file:\n",
    "    i = 0\n",
    "    while True:\n",
    "        line = my_file.readline() # 한 줄 씩 읽어 메모리에 올림\n",
    "        if not line:\n",
    "            break\n",
    "        print(str(i) + \" === \" + line.replace(\"\\n\", \"\")) # 한줄씩 값 출력\n",
    "        i = i + 1"
   ]
  },
  {
   "cell_type": "code",
   "execution_count": 33,
   "metadata": {},
   "outputs": [
    {
     "name": "stdout",
     "output_type": "stream",
     "text": [
      "Total Number of Characters :  26\n",
      "Total Number of Words :  4\n",
      "Total Number of Lines :  3\n"
     ]
    }
   ],
   "source": [
    "# 단어 통계 정보 산출\n",
    "with open(\"i_have_a_dream.txt\", \"r\") as my_file:\n",
    "    contents = my_file.read()\n",
    "    word_list = contents.split(\" \")\n",
    "    # 반칸 기준으로 단어를 분리 리스트\n",
    "    line_list = contents.split(\"\\n\")\n",
    "\n",
    "print(\"Total Number of Characters : \", len(contents))\n",
    "print(\"Total Number of Words : \", len(word_list))\n",
    "print(\"Total Number of Lines : \", len(line_list))"
   ]
  },
  {
   "cell_type": "code",
   "execution_count": 34,
   "metadata": {},
   "outputs": [],
   "source": [
    "# 파이썬 File Write\n",
    "\n",
    "# mode 는 \"w\", encoding=\"urf8\"\n",
    "f = open(\"count_log.txt\", \"w\", encoding=\"utf8\")\n",
    "for i in range(1, 11):\n",
    "    data = f\"{i}번째 줄입니다.\\n\"\n",
    "    f.write(data)\n",
    "f.close()"
   ]
  },
  {
   "cell_type": "code",
   "execution_count": 35,
   "metadata": {},
   "outputs": [],
   "source": [
    "# mode \"a\" 는 추가 모드 : a: append\n",
    "with open(\"count_log.txt\", \"a\", encoding=\"utf8\") as f:\n",
    "    for i in range(11, 21):\n",
    "        data = f\"{i}번째 줄입니다.\\n\"\n",
    "        f.write(data)"
   ]
  },
  {
   "cell_type": "code",
   "execution_count": 36,
   "metadata": {},
   "outputs": [],
   "source": [
    "# 파이썬 directory 다루기\n",
    "\n",
    "# OS 모듈을 사용하여 Directory 다루기\n",
    "# import os\n",
    "# os.mkdir(\"log\") # log 하위폴더 만들기\n",
    "\n",
    "# 디렉토리가 있는지 확인하기\n",
    "# if not os.path.isdir(\"log\"):\n",
    "#     os.mkdir(\"log\")"
   ]
  },
  {
   "cell_type": "code",
   "execution_count": 37,
   "metadata": {},
   "outputs": [
    {
     "name": "stdout",
     "output_type": "stream",
     "text": [
      "Already created\n"
     ]
    }
   ],
   "source": [
    "import os\n",
    "try:\n",
    "    os.mkdir(\"log\")\n",
    "except FileExistsError as e:\n",
    "    print(\"Already created\")"
   ]
  },
  {
   "cell_type": "code",
   "execution_count": 38,
   "metadata": {},
   "outputs": [
    {
     "data": {
      "text/plain": [
       "True"
      ]
     },
     "execution_count": 38,
     "metadata": {},
     "output_type": "execute_result"
    }
   ],
   "source": [
    "# 폴더 있는지 확인할 떄\n",
    "os.path.exists(\"log\")"
   ]
  },
  {
   "cell_type": "code",
   "execution_count": 39,
   "metadata": {},
   "outputs": [
    {
     "data": {
      "text/plain": [
       "True"
      ]
     },
     "execution_count": 39,
     "metadata": {},
     "output_type": "execute_result"
    }
   ],
   "source": [
    "os.path.isfile(\"file_exception_heandling_logging.ipynb\")"
   ]
  },
  {
   "cell_type": "code",
   "execution_count": 40,
   "metadata": {},
   "outputs": [],
   "source": [
    "# 파일 옮기기\n",
    "# import shutil\n",
    "\n",
    "# source = \"file.ipynb\"\n",
    "# dest = os.path.join(\"abc\", \"file.ipynb\") # join : 두 개의 디렉토리를 합친다\n",
    "\n",
    "# shutil.copy(source, dest) # 파일 복사 함수"
   ]
  },
  {
   "cell_type": "code",
   "execution_count": 41,
   "metadata": {},
   "outputs": [
    {
     "data": {
      "text/plain": [
       "WindowsPath('c:/Users/gih54/Documents/ai study/boostcourse/인공지능(AI) 기초 다지기')"
      ]
     },
     "execution_count": 41,
     "metadata": {},
     "output_type": "execute_result"
    }
   ],
   "source": [
    "# 최근에는 pathlib 모듈을 사용하여 path 를 객체로 다룬다\n",
    "# 윈도우즈, 맥에 따라 path 가 다른데 이를 동일하게 다룰수 있는 장점이 있다\n",
    "# 객체로 접근하기 때문에 디렉토리를 다루기 좀 더 용이하다\n",
    "\n",
    "import pathlib\n",
    "\n",
    "cwd = pathlib.Path.cwd()\n",
    "cwd\n"
   ]
  },
  {
   "cell_type": "code",
   "execution_count": 42,
   "metadata": {},
   "outputs": [
    {
     "data": {
      "text/plain": [
       "WindowsPath('c:/Users/gih54/Documents/ai study/boostcourse')"
      ]
     },
     "execution_count": 42,
     "metadata": {},
     "output_type": "execute_result"
    }
   ],
   "source": [
    "cwd.parent"
   ]
  },
  {
   "cell_type": "code",
   "execution_count": 43,
   "metadata": {},
   "outputs": [
    {
     "data": {
      "text/plain": [
       "[WindowsPath('c:/Users/gih54/Documents/ai study/boostcourse'),\n",
       " WindowsPath('c:/Users/gih54/Documents/ai study'),\n",
       " WindowsPath('c:/Users/gih54/Documents'),\n",
       " WindowsPath('c:/Users/gih54'),\n",
       " WindowsPath('c:/Users'),\n",
       " WindowsPath('c:/')]"
      ]
     },
     "execution_count": 43,
     "metadata": {},
     "output_type": "execute_result"
    }
   ],
   "source": [
    "list(cwd.parents)\n",
    "# list(cwd.glob(\"*\"))"
   ]
  },
  {
   "cell_type": "code",
   "execution_count": 44,
   "metadata": {},
   "outputs": [],
   "source": [
    "# Log 파일 생성하기\n",
    "# 인터넷에 찾아보면 많이 나온다"
   ]
  },
  {
   "cell_type": "code",
   "execution_count": 45,
   "metadata": {},
   "outputs": [],
   "source": [
    "# 디렉토리가 있는지, 파일이 있는지 확인 후\n",
    "import os\n",
    "if not os.path.isdir(\"log\"):\n",
    "    os.mkdir(\"log\")\n",
    "if not os.path.exists(\"log/count_log.txt\"):\n",
    "    f = open(\"log/count_log.txt\", \"w\", encoding=\"utf8\")\n",
    "    f.write(\"기록이 시작됩니다\\n\")\n",
    "    f.close()\n",
    "\n",
    "with open(\"log/count_log.txt\", \"a\", encoding=\"utf8\") as f:\n",
    "    import random, datetime\n",
    "    for i in range(1, 11):\n",
    "        stamp = str(datetime.datetime.now())\n",
    "        value = random.random() * 100000\n",
    "        log_line = stamp + \"\\t\" + str(value) + \"값이 생성되었습니다\" + \"\\n\"\n",
    "        f.write(log_line)\n"
   ]
  },
  {
   "cell_type": "code",
   "execution_count": 46,
   "metadata": {},
   "outputs": [],
   "source": [
    "# Pickle"
   ]
  },
  {
   "cell_type": "code",
   "execution_count": 47,
   "metadata": {},
   "outputs": [],
   "source": [
    "# 파이썬의 객체를 영속화(persistence) 하는 built-in 객체\n",
    "# 객체는 메모리에 있음 : 영속화 하면 이 객체를 저장한다\n",
    "# 데이터, object 등 실행중 정보를 저장 -> 불러와서 사용\n",
    "# 저장해야 하는 정보, 계산 결과(모델) 등 활용이 많음\n",
    "# Pickle 은 파이썬을 위한 바이너리 파일"
   ]
  },
  {
   "cell_type": "code",
   "execution_count": 48,
   "metadata": {},
   "outputs": [],
   "source": [
    "import pickle\n",
    "\n",
    "f = open(\"list.pickle\", \"wb\")\n",
    "test = [1, 2, 3, 4, 5]\n",
    "pickle.dump(test, f)\n",
    "f.close()"
   ]
  },
  {
   "cell_type": "code",
   "execution_count": 49,
   "metadata": {},
   "outputs": [
    {
     "name": "stdout",
     "output_type": "stream",
     "text": [
      "[1, 2, 3, 4, 5]\n"
     ]
    }
   ],
   "source": [
    "f = open(\"list.pickle\", \"rb\") # read binary\n",
    "test_pickle = pickle.load(f)\n",
    "print(test_pickle)\n",
    "f.close()"
   ]
  },
  {
   "cell_type": "code",
   "execution_count": 50,
   "metadata": {},
   "outputs": [],
   "source": [
    "class Multiply():\n",
    "    def __init__(self, multiplier):\n",
    "        self.multiplier = multiplier\n",
    "    \n",
    "    def multiply(self, number):\n",
    "        return number * self.multiplier"
   ]
  },
  {
   "cell_type": "code",
   "execution_count": 52,
   "metadata": {},
   "outputs": [],
   "source": [
    "multiply = Multiply(5)\n",
    "multiply.multiply(10)\n",
    "\n",
    "f = open(\"multiply_object.pickle\", \"wb\")\n",
    "pickle.dump(multiply, f)\n",
    "f.close()"
   ]
  },
  {
   "cell_type": "code",
   "execution_count": 53,
   "metadata": {},
   "outputs": [
    {
     "data": {
      "text/plain": [
       "25"
      ]
     },
     "execution_count": 53,
     "metadata": {},
     "output_type": "execute_result"
    }
   ],
   "source": [
    "f = open(\"multiply_object.pickle\", \"rb\")\n",
    "multiply_pickle = pickle.load(f)\n",
    "multiply_pickle.multiply(5)"
   ]
  },
  {
   "cell_type": "code",
   "execution_count": null,
   "metadata": {},
   "outputs": [],
   "source": [
    "# Logging Handling\n",
    "# 로그 남기기"
   ]
  },
  {
   "cell_type": "code",
   "execution_count": null,
   "metadata": {},
   "outputs": [],
   "source": [
    "# 프로그램이 실행되는 동안 일어나는 정보를 기록으로 남기기\n",
    "# 유저의 접근, 프로그램의 Exception, 특정 함수의 사용\n",
    "# Console 화면에 출력, 파일에 남기기, DB에 남기기\n",
    "# 기록된 로그를 분석하여 의미 있는 결과를 도출 할 수 있음\n",
    "# 실행시점에 남겨야 하는 기록(유저 분석), 개발시점에 남겨야 하는 기록(디버깅 위함)"
   ]
  },
  {
   "cell_type": "code",
   "execution_count": 54,
   "metadata": {},
   "outputs": [
    {
     "name": "stderr",
     "output_type": "stream",
     "text": [
      "WARNING:root:경고\n",
      "ERROR:root:에러\n",
      "CRITICAL:root:프로그램이 예기치 못하게 종료되었음\n"
     ]
    }
   ],
   "source": [
    "# logging 모듈\n",
    "# Python 의 기본 관리 모듈\n",
    "\n",
    "import logging\n",
    "\n",
    "logging.debug(\"디버그\")\n",
    "logging.info(\"정보\")\n",
    "logging.warning(\"경고\")\n",
    "logging.error(\"에러\")\n",
    "logging.critical(\"프로그램이 예기치 못하게 종료되었음\")"
   ]
  },
  {
   "cell_type": "code",
   "execution_count": null,
   "metadata": {},
   "outputs": [],
   "source": [
    "# logging level\n",
    "\n",
    "# 프로그램의 진행 상황에 따라 다른 레벨의 로그를 출력\n",
    "# 개발 시점, 운영 시점마다 다른 로그가 남을 수 있도록 지원\n",
    "# Debug > Info > Warning > Error > Critical\n",
    "# 로그 관리 시 가장 기본이 되는 설정 정보"
   ]
  },
  {
   "cell_type": "code",
   "execution_count": 55,
   "metadata": {},
   "outputs": [],
   "source": [
    "logger = logging.getLogger(\"main\") # logger 선언\n",
    "stream_hander = logging.StreamHandler() # logger 의 output 방법 선언\n",
    "logger.addHandler(stream_hander) # logger 의 output 등록\n",
    "logging.basicConfig(level=logging.DEBUG) # 기본 세팅"
   ]
  },
  {
   "cell_type": "code",
   "execution_count": 64,
   "metadata": {},
   "outputs": [
    {
     "name": "stderr",
     "output_type": "stream",
     "text": [
      "WARNING:root:경고\n",
      "ERROR:root:에러\n",
      "CRITICAL:root:프로그램이 예기치 못하게 종료되었음\n"
     ]
    }
   ],
   "source": [
    "logger.setLevel(logging.DEBUG)\n",
    "logging.debug(\"디버그\")\n",
    "logging.info(\"정보\")\n",
    "logging.warning(\"경고\")\n",
    "logging.error(\"에러\")\n",
    "logging.critical(\"프로그램이 예기치 못하게 종료되었음\")"
   ]
  },
  {
   "cell_type": "code",
   "execution_count": 66,
   "metadata": {},
   "outputs": [],
   "source": [
    "# 실제 프로그램 실행 시 여러 설정이 필요\n",
    "# 이러한 정보를 설정해 줄 방법이 필요\n",
    "# configparser : 파일에\n",
    "# argparser : 실행시점에"
   ]
  },
  {
   "cell_type": "code",
   "execution_count": 67,
   "metadata": {},
   "outputs": [],
   "source": [
    "# configparser\n",
    "# 프로그램의 실행 설정을 file 에 저장\n",
    "# section, key, value 값의 형태로 설정된 설정 파일을 사용\n",
    "# 설정 파일을 Dict Type 으로 호출 후 사용"
   ]
  },
  {
   "cell_type": "code",
   "execution_count": 68,
   "metadata": {},
   "outputs": [
    {
     "name": "stdout",
     "output_type": "stream",
     "text": [
      "status\n",
      "name\n",
      "value\n",
      "age\n",
      "single\n"
     ]
    },
    {
     "data": {
      "text/plain": [
       "'Single'"
      ]
     },
     "execution_count": 68,
     "metadata": {},
     "output_type": "execute_result"
    }
   ],
   "source": [
    "import configparser\n",
    "config = configparser.ConfigParser()\n",
    "config.sections()\n",
    "\n",
    "config.read(\"example.cfg\")\n",
    "config.sections()\n",
    "\n",
    "for key in config[\"SectionOne\"]:\n",
    "    print(key)\n",
    "\n",
    "config[\"SectionOne\"][\"status\"]"
   ]
  },
  {
   "cell_type": "code",
   "execution_count": null,
   "metadata": {},
   "outputs": [],
   "source": [
    "# argparser\n",
    "\n",
    "# Console 창에서 프로그램 실행 시 Setting 정보를 저장\n",
    "# 거의 모든 Consile 기반 Python 프로그램 기본으로 제공\n",
    "# 특수 모듈도 많이 존재하지만(TF), 일반적으로 argparse 를 사용\n",
    "# Command-Line Opiton 이라고 부름"
   ]
  },
  {
   "cell_type": "code",
   "execution_count": null,
   "metadata": {},
   "outputs": [],
   "source": [
    "# is -help "
   ]
  },
  {
   "cell_type": "code",
   "execution_count": null,
   "metadata": {},
   "outputs": [],
   "source": [
    "import argparse\n",
    "\n",
    "parser = argparse.ArgumentParser(description='Sum two integers.')\n",
    "\n",
    "# 짧은 이름, 긴 이름, 표시명, Help 설명, Argument Type\n",
    "parser.add_argument('-a', \"--a_value\", dest=”A_value\", help=\"A integers\", type=int)\n",
    "parser.add_argument('-b', \"--b_value\", dest=”B_value\", help=\"B integers\", type=int)\n",
    "\n",
    "args = parser.parse_args()\n",
    "print(args)\n",
    "print(args.a)\n",
    "print(args.b)\n",
    "print(args.a + args.b)"
   ]
  },
  {
   "cell_type": "code",
   "execution_count": null,
   "metadata": {},
   "outputs": [],
   "source": [
    "# logging 적용하기\n",
    "formatter = logging.Formatter('%(asctime)s %(levelname)s %(process)d %(message)s')"
   ]
  }
 ],
 "metadata": {
  "kernelspec": {
   "display_name": "Python 3.9.12 ('ml_scratch')",
   "language": "python",
   "name": "python3"
  },
  "language_info": {
   "codemirror_mode": {
    "name": "ipython",
    "version": 3
   },
   "file_extension": ".py",
   "mimetype": "text/x-python",
   "name": "python",
   "nbconvert_exporter": "python",
   "pygments_lexer": "ipython3",
   "version": "3.9.12"
  },
  "orig_nbformat": 4,
  "vscode": {
   "interpreter": {
    "hash": "8e490d1025af6f1d897f25b8886f0ffd0fa448a925aa087970166c6ca66cf580"
   }
  }
 },
 "nbformat": 4,
 "nbformat_minor": 2
}
