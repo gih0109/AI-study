{
 "cells": [
  {
   "cell_type": "code",
   "execution_count": 19,
   "metadata": {},
   "outputs": [],
   "source": [
    "# Exception / File / Log Handling\n",
    "# 예외 처리 및 파일 다루기"
   ]
  },
  {
   "cell_type": "code",
   "execution_count": 20,
   "metadata": {},
   "outputs": [],
   "source": [
    "# Exception\n",
    "# 1) 예상 가능한 예외\n",
    "# 2) 예상 불가능한 예외"
   ]
  },
  {
   "cell_type": "code",
   "execution_count": 21,
   "metadata": {},
   "outputs": [],
   "source": [
    "# 예상 가능한 예외\n",
    "# - 발생 여부를 사전에 인지할 수 있는 예외\n",
    "# - 사용자의 잘못된 입력, 파일 호출 시 파일 없음\n",
    "# - 개발자가 반드시 명시적으로 정의해야함"
   ]
  },
  {
   "cell_type": "code",
   "execution_count": 22,
   "metadata": {},
   "outputs": [],
   "source": [
    "# 예상 불가능한 예외\n",
    "# - 인터프리터 과정에서 발생하는 예외, 개발자 실수\n",
    "# - 리스트의 범위를 넘어가는 값 호출, 정수 0 으로 나눔\n",
    "# - 수행 불가 시 인터프리터가 자동으로 호출\n",
    "\n",
    "# 모든 잘못된 상황에 대처가 필요\n",
    "# Exception Handling"
   ]
  },
  {
   "cell_type": "code",
   "execution_count": 23,
   "metadata": {},
   "outputs": [],
   "source": [
    "# Exception Handling\n",
    "\n",
    "# ~try ~except 문법\n",
    "# try:\n",
    "# 예외 발생 가능 코드\n",
    "# except <Excetion Type>\n",
    "# 예외 발생 시 대응하는 코드"
   ]
  },
  {
   "cell_type": "code",
   "execution_count": 24,
   "metadata": {},
   "outputs": [
    {
     "name": "stdout",
     "output_type": "stream",
     "text": [
      "Error\n",
      "Not divided by 0\n",
      "10.0\n",
      "5.0\n",
      "3.3333333333333335\n",
      "2.5\n",
      "2.0\n",
      "1.6666666666666667\n",
      "1.4285714285714286\n",
      "1.25\n",
      "1.1111111111111112\n"
     ]
    }
   ],
   "source": [
    "# 0으로 숫자로 나눌 때 예외처리하기\n",
    "for i in range(10):\n",
    "    try:\n",
    "        print(10/i)\n",
    "    except ZeroDivisionError: # built in error (미리 정의된 에러)\n",
    "        print(\"Error\")\n",
    "        print(\"Not divided by 0\")"
   ]
  },
  {
   "cell_type": "code",
   "execution_count": 25,
   "metadata": {},
   "outputs": [
    {
     "ename": "ZeroDivisionError",
     "evalue": "division by zero",
     "output_type": "error",
     "traceback": [
      "\u001b[1;31m---------------------------------------------------------------------------\u001b[0m",
      "\u001b[1;31mZeroDivisionError\u001b[0m                         Traceback (most recent call last)",
      "\u001b[1;32mc:\\Users\\gih54\\Documents\\ai study\\boostcourse\\인공지능(AI) 기초 다지기\\file_exception_heandling_logging.ipynb Cell 7'\u001b[0m in \u001b[0;36m<cell line: 2>\u001b[1;34m()\u001b[0m\n\u001b[0;32m      <a href='vscode-notebook-cell:/c%3A/Users/gih54/Documents/ai%20study/boostcourse/%EC%9D%B8%EA%B3%B5%EC%A7%80%EB%8A%A5%28AI%29%20%EA%B8%B0%EC%B4%88%20%EB%8B%A4%EC%A7%80%EA%B8%B0/file_exception_heandling_logging.ipynb#ch0000006?line=1'>2</a>\u001b[0m \u001b[39mfor\u001b[39;00m i \u001b[39min\u001b[39;00m \u001b[39mrange\u001b[39m(\u001b[39m10\u001b[39m):\n\u001b[0;32m      <a href='vscode-notebook-cell:/c%3A/Users/gih54/Documents/ai%20study/boostcourse/%EC%9D%B8%EA%B3%B5%EC%A7%80%EB%8A%A5%28AI%29%20%EA%B8%B0%EC%B4%88%20%EB%8B%A4%EC%A7%80%EA%B8%B0/file_exception_heandling_logging.ipynb#ch0000006?line=2'>3</a>\u001b[0m     \u001b[39mtry\u001b[39;00m:\n\u001b[1;32m----> <a href='vscode-notebook-cell:/c%3A/Users/gih54/Documents/ai%20study/boostcourse/%EC%9D%B8%EA%B3%B5%EC%A7%80%EB%8A%A5%28AI%29%20%EA%B8%B0%EC%B4%88%20%EB%8B%A4%EC%A7%80%EA%B8%B0/file_exception_heandling_logging.ipynb#ch0000006?line=3'>4</a>\u001b[0m         \u001b[39mprint\u001b[39m(\u001b[39m10\u001b[39;49m\u001b[39m/\u001b[39;49mi)\n\u001b[0;32m      <a href='vscode-notebook-cell:/c%3A/Users/gih54/Documents/ai%20study/boostcourse/%EC%9D%B8%EA%B3%B5%EC%A7%80%EB%8A%A5%28AI%29%20%EA%B8%B0%EC%B4%88%20%EB%8B%A4%EC%A7%80%EA%B8%B0/file_exception_heandling_logging.ipynb#ch0000006?line=4'>5</a>\u001b[0m     \u001b[39mexcept\u001b[39;00m \u001b[39mValueError\u001b[39;00m: \u001b[39m# 에러 발생\u001b[39;00m\n\u001b[0;32m      <a href='vscode-notebook-cell:/c%3A/Users/gih54/Documents/ai%20study/boostcourse/%EC%9D%B8%EA%B3%B5%EC%A7%80%EB%8A%A5%28AI%29%20%EA%B8%B0%EC%B4%88%20%EB%8B%A4%EC%A7%80%EA%B8%B0/file_exception_heandling_logging.ipynb#ch0000006?line=5'>6</a>\u001b[0m         \u001b[39mprint\u001b[39m(\u001b[39m\"\u001b[39m\u001b[39mError\u001b[39m\u001b[39m\"\u001b[39m)\n",
      "\u001b[1;31mZeroDivisionError\u001b[0m: division by zero"
     ]
    }
   ],
   "source": [
    "# 0 으로 나눌 때 ZeroDivisionError 말고 딴걸 쓴다면\n",
    "for i in range(10):\n",
    "    try:\n",
    "        print(10/i)\n",
    "    except ValueError: # 에러 발생\n",
    "        print(\"Error\")\n",
    "        print(\"Not divided by 0\")"
   ]
  },
  {
   "cell_type": "code",
   "execution_count": 26,
   "metadata": {},
   "outputs": [],
   "source": [
    "# Built-in Exception: 기본적으로 제공하는 예외\n",
    "\n",
    "# IndexError\n",
    "# NameError\n",
    "# ZeroDivisionError\n",
    "# ValueError\n",
    "# FileNotFoundError\n",
    "# 등등"
   ]
  },
  {
   "cell_type": "code",
   "execution_count": 27,
   "metadata": {},
   "outputs": [
    {
     "name": "stdout",
     "output_type": "stream",
     "text": [
      "Error\n",
      "Not divided by 0\n",
      "1 10\n",
      "2\n",
      "name 'v' is not defined\n",
      "2 5\n",
      "3\n",
      "name 'v' is not defined\n",
      "3 3\n",
      "4\n",
      "name 'v' is not defined\n",
      "4 2\n",
      "5\n",
      "name 'v' is not defined\n",
      "5 2\n",
      "list index out of range\n",
      "6 1\n",
      "list index out of range\n",
      "7 1\n",
      "list index out of range\n",
      "8 1\n",
      "list index out of range\n",
      "9 1\n",
      "list index out of range\n"
     ]
    }
   ],
   "source": [
    "# IndexError, Exception\n",
    "\n",
    "a = [1, 2, 3, 4, 5]\n",
    "for i in range(10):\n",
    "    try:\n",
    "        print(i, 10 // i)\n",
    "        print(a[i])\n",
    "        print(v)\n",
    "    except ZeroDivisionError: \n",
    "        print(\"Error\")\n",
    "        print(\"Not divided by 0\")\n",
    "    except IndexError as e:\n",
    "        print(e)\n",
    "    except Exception as e: # 포괄적인 에러 : 특별히 지정 안해도 에러를 잡는다, 권장 X\n",
    "        print(e)"
   ]
  },
  {
   "cell_type": "code",
   "execution_count": 28,
   "metadata": {},
   "outputs": [],
   "source": [
    "# else 구문\n",
    "\n",
    "# try:\n",
    "# 예외 발생 가능 코드\n",
    "# except <Exception Type>:\n",
    "# 에외 발생 시 동작하는 코드\n",
    "# else:\n",
    "# 예외가 발생하지 않을 때 동작하는 코드"
   ]
  },
  {
   "cell_type": "code",
   "execution_count": 29,
   "metadata": {},
   "outputs": [
    {
     "name": "stdout",
     "output_type": "stream",
     "text": [
      "Not divided by 0\n",
      "10\n",
      "5\n",
      "3\n",
      "2\n",
      "2\n",
      "1\n",
      "1\n",
      "1\n",
      "1\n"
     ]
    }
   ],
   "source": [
    "for i in range(10):\n",
    "    try:\n",
    "        result = 10 // i\n",
    "    except ZeroDivisionError:\n",
    "        print(\"Not divided by 0\")\n",
    "    else:\n",
    "        print(result)"
   ]
  },
  {
   "cell_type": "code",
   "execution_count": 30,
   "metadata": {},
   "outputs": [],
   "source": [
    "# finally 구문\n",
    "# ~try ~except ~finally\n",
    "\n",
    "# try:\n",
    "# 예외 발생 가능 코드\n",
    "# except <Exception Type>:\n",
    "# 에외 발생 시 동작하는 코드\n",
    "# finally\n",
    "# 예외 발생 여부와 상관없이 실행"
   ]
  },
  {
   "cell_type": "code",
   "execution_count": 31,
   "metadata": {},
   "outputs": [
    {
     "name": "stdout",
     "output_type": "stream",
     "text": [
      "10\n",
      "5\n",
      "3\n",
      "2\n",
      "2\n",
      "1\n",
      "1\n",
      "1\n",
      "1\n",
      "종료되었습니다.\n"
     ]
    }
   ],
   "source": [
    "try:\n",
    "    for i in range(1, 10):\n",
    "        result = 10 // i\n",
    "        print(result)\n",
    "except ZeroDivisionError:\n",
    "    print(\"Not divided by 0\")\n",
    "else:\n",
    "    print(\"종료되었습니다.\")"
   ]
  },
  {
   "cell_type": "code",
   "execution_count": 32,
   "metadata": {},
   "outputs": [
    {
     "ename": "ValueError",
     "evalue": "숫자값을 입력하지 않았습니다",
     "output_type": "error",
     "traceback": [
      "\u001b[1;31m---------------------------------------------------------------------------\u001b[0m",
      "\u001b[1;31mValueError\u001b[0m                                Traceback (most recent call last)",
      "\u001b[1;32mc:\\Users\\gih54\\Documents\\ai study\\boostcourse\\인공지능(AI) 기초 다지기\\file_exception_heandling_logging.ipynb Cell 14'\u001b[0m in \u001b[0;36m<cell line: 6>\u001b[1;34m()\u001b[0m\n\u001b[0;32m      <a href='vscode-notebook-cell:/c%3A/Users/gih54/Documents/ai%20study/boostcourse/%EC%9D%B8%EA%B3%B5%EC%A7%80%EB%8A%A5%28AI%29%20%EA%B8%B0%EC%B4%88%20%EB%8B%A4%EC%A7%80%EA%B8%B0/file_exception_heandling_logging.ipynb#ch0000013?line=5'>6</a>\u001b[0m \u001b[39mfor\u001b[39;00m digit \u001b[39min\u001b[39;00m value:\n\u001b[0;32m      <a href='vscode-notebook-cell:/c%3A/Users/gih54/Documents/ai%20study/boostcourse/%EC%9D%B8%EA%B3%B5%EC%A7%80%EB%8A%A5%28AI%29%20%EA%B8%B0%EC%B4%88%20%EB%8B%A4%EC%A7%80%EA%B8%B0/file_exception_heandling_logging.ipynb#ch0000013?line=6'>7</a>\u001b[0m     \u001b[39mif\u001b[39;00m digit \u001b[39mnot\u001b[39;00m \u001b[39min\u001b[39;00m \u001b[39m\"\u001b[39m\u001b[39m0123456789\u001b[39m\u001b[39m\"\u001b[39m:\n\u001b[1;32m----> <a href='vscode-notebook-cell:/c%3A/Users/gih54/Documents/ai%20study/boostcourse/%EC%9D%B8%EA%B3%B5%EC%A7%80%EB%8A%A5%28AI%29%20%EA%B8%B0%EC%B4%88%20%EB%8B%A4%EC%A7%80%EA%B8%B0/file_exception_heandling_logging.ipynb#ch0000013?line=7'>8</a>\u001b[0m         \u001b[39mraise\u001b[39;00m \u001b[39mValueError\u001b[39;00m(\u001b[39m\"\u001b[39m\u001b[39m숫자값을 입력하지 않았습니다\u001b[39m\u001b[39m\"\u001b[39m)\n\u001b[0;32m      <a href='vscode-notebook-cell:/c%3A/Users/gih54/Documents/ai%20study/boostcourse/%EC%9D%B8%EA%B3%B5%EC%A7%80%EB%8A%A5%28AI%29%20%EA%B8%B0%EC%B4%88%20%EB%8B%A4%EC%A7%80%EA%B8%B0/file_exception_heandling_logging.ipynb#ch0000013?line=8'>9</a>\u001b[0m \u001b[39mprint\u001b[39m(\u001b[39m\"\u001b[39m\u001b[39m정수값으로 변환된 숫자 :\u001b[39m\u001b[39m\"\u001b[39m, \u001b[39mint\u001b[39m(value))\n",
      "\u001b[1;31mValueError\u001b[0m: 숫자값을 입력하지 않았습니다"
     ]
    }
   ],
   "source": [
    "# raise 구문\n",
    "# 필요에 따라 강제로 Exception을 발생\n",
    "\n",
    "# raise <Excepiton Type>(예외정보)\n",
    "value = input(\"변환할 정수 값을 입력해주세요\")\n",
    "for digit in value:\n",
    "    if digit not in \"0123456789\":\n",
    "        raise ValueError(\"숫자값을 입력하지 않았습니다\")\n",
    "print(\"정수값으로 변환된 숫자 :\", int(value))"
   ]
  },
  {
   "cell_type": "code",
   "execution_count": 33,
   "metadata": {},
   "outputs": [
    {
     "ename": "AssertionError",
     "evalue": "",
     "output_type": "error",
     "traceback": [
      "\u001b[1;31m---------------------------------------------------------------------------\u001b[0m",
      "\u001b[1;31mAssertionError\u001b[0m                            Traceback (most recent call last)",
      "\u001b[1;32mc:\\Users\\gih54\\Documents\\ai study\\boostcourse\\인공지능(AI) 기초 다지기\\file_exception_heandling_logging.ipynb Cell 15'\u001b[0m in \u001b[0;36m<cell line: 8>\u001b[1;34m()\u001b[0m\n\u001b[0;32m      <a href='vscode-notebook-cell:/c%3A/Users/gih54/Documents/ai%20study/boostcourse/%EC%9D%B8%EA%B3%B5%EC%A7%80%EB%8A%A5%28AI%29%20%EA%B8%B0%EC%B4%88%20%EB%8B%A4%EC%A7%80%EA%B8%B0/file_exception_heandling_logging.ipynb#ch0000015?line=4'>5</a>\u001b[0m     \u001b[39massert\u001b[39;00m \u001b[39misinstance\u001b[39m(decimal_number, \u001b[39mint\u001b[39m) \u001b[39m# decimal_number 가 int 조건이 아니면 예외 발생시킴\u001b[39;00m\n\u001b[0;32m      <a href='vscode-notebook-cell:/c%3A/Users/gih54/Documents/ai%20study/boostcourse/%EC%9D%B8%EA%B3%B5%EC%A7%80%EB%8A%A5%28AI%29%20%EA%B8%B0%EC%B4%88%20%EB%8B%A4%EC%A7%80%EA%B8%B0/file_exception_heandling_logging.ipynb#ch0000015?line=5'>6</a>\u001b[0m     \u001b[39mreturn\u001b[39;00m \u001b[39mbin\u001b[39m(decimal_number)\n\u001b[1;32m----> <a href='vscode-notebook-cell:/c%3A/Users/gih54/Documents/ai%20study/boostcourse/%EC%9D%B8%EA%B3%B5%EC%A7%80%EB%8A%A5%28AI%29%20%EA%B8%B0%EC%B4%88%20%EB%8B%A4%EC%A7%80%EA%B8%B0/file_exception_heandling_logging.ipynb#ch0000015?line=7'>8</a>\u001b[0m \u001b[39mprint\u001b[39m(get_binary_number(\u001b[39m10.0\u001b[39;49m))\n",
      "\u001b[1;32mc:\\Users\\gih54\\Documents\\ai study\\boostcourse\\인공지능(AI) 기초 다지기\\file_exception_heandling_logging.ipynb Cell 15'\u001b[0m in \u001b[0;36mget_binary_number\u001b[1;34m(decimal_number)\u001b[0m\n\u001b[0;32m      <a href='vscode-notebook-cell:/c%3A/Users/gih54/Documents/ai%20study/boostcourse/%EC%9D%B8%EA%B3%B5%EC%A7%80%EB%8A%A5%28AI%29%20%EA%B8%B0%EC%B4%88%20%EB%8B%A4%EC%A7%80%EA%B8%B0/file_exception_heandling_logging.ipynb#ch0000015?line=3'>4</a>\u001b[0m \u001b[39mdef\u001b[39;00m \u001b[39mget_binary_number\u001b[39m(decimal_number):\n\u001b[1;32m----> <a href='vscode-notebook-cell:/c%3A/Users/gih54/Documents/ai%20study/boostcourse/%EC%9D%B8%EA%B3%B5%EC%A7%80%EB%8A%A5%28AI%29%20%EA%B8%B0%EC%B4%88%20%EB%8B%A4%EC%A7%80%EA%B8%B0/file_exception_heandling_logging.ipynb#ch0000015?line=4'>5</a>\u001b[0m     \u001b[39massert\u001b[39;00m \u001b[39misinstance\u001b[39m(decimal_number, \u001b[39mint\u001b[39m) \u001b[39m# decimal_number 가 int 조건이 아니면 예외 발생시킴\u001b[39;00m\n\u001b[0;32m      <a href='vscode-notebook-cell:/c%3A/Users/gih54/Documents/ai%20study/boostcourse/%EC%9D%B8%EA%B3%B5%EC%A7%80%EB%8A%A5%28AI%29%20%EA%B8%B0%EC%B4%88%20%EB%8B%A4%EC%A7%80%EA%B8%B0/file_exception_heandling_logging.ipynb#ch0000015?line=5'>6</a>\u001b[0m     \u001b[39mreturn\u001b[39;00m \u001b[39mbin\u001b[39m(decimal_number)\n",
      "\u001b[1;31mAssertionError\u001b[0m: "
     ]
    }
   ],
   "source": [
    "# assert 구문\n",
    "# 특정 조건에 만족하지 않을 경우 예외 발생\n",
    "\n",
    "def get_binary_number(decimal_number):\n",
    "    assert isinstance(decimal_number, int) # decimal_number 가 int 조건이 아니면 예외 발생시킴\n",
    "    return bin(decimal_number)\n",
    "\n",
    "print(get_binary_number(10.0))"
   ]
  },
  {
   "cell_type": "code",
   "execution_count": 34,
   "metadata": {},
   "outputs": [],
   "source": [
    "# File handling"
   ]
  },
  {
   "cell_type": "code",
   "execution_count": 35,
   "metadata": {},
   "outputs": [],
   "source": [
    "# 파일의 종류\n",
    "\n",
    "# 기본적인 파일 종류로 text 파일과 binary 파일로 나눔\n",
    "# 컴퓨터는 text 파일을 처리하기 위에 binary 파일로 변환시킴\n",
    "# ASCII/Unicode 문자열 집합으로 저장되어 사람이 읽을 수 있음"
   ]
  },
  {
   "cell_type": "code",
   "execution_count": 36,
   "metadata": {},
   "outputs": [],
   "source": [
    "# Python File I/O\n",
    "\n",
    "# 파이썬은 파일 처리를 위해 \"open\"키워드 사용\n",
    "# f = open(\"<파일이름>\", \"접근모드\")\n",
    "# f.close()"
   ]
  },
  {
   "cell_type": "code",
   "execution_count": 42,
   "metadata": {},
   "outputs": [
    {
     "name": "stdout",
     "output_type": "stream",
     "text": [
      "i have a dream\n",
      "12345\n",
      "67890\n"
     ]
    }
   ],
   "source": [
    "# 파이썬의 File Read\n",
    "\n",
    "# read() txt 파일 안에 있는 내용을 문자열로 변한\n",
    "f = open(\"i_have_a_dream.txt\", \"r\") # 주소를 읽은 후 파일을 연다\n",
    "contents = f.read() # 내용을 읽는다\n",
    "print(contents)\n",
    "f.close() # 파일을 닫는다"
   ]
  },
  {
   "cell_type": "code",
   "execution_count": 43,
   "metadata": {},
   "outputs": [
    {
     "name": "stdout",
     "output_type": "stream",
     "text": [
      "i have a dream\n",
      "12345\n",
      "67890\n"
     ]
    }
   ],
   "source": [
    "# with 구문과 함께 사용하기\n",
    "with open(\"i_have_a_dream.txt\", \"r\") as my_file:\n",
    "    contents = my_file.read()\n",
    "    print(contents)"
   ]
  },
  {
   "cell_type": "code",
   "execution_count": 44,
   "metadata": {},
   "outputs": [
    {
     "name": "stdout",
     "output_type": "stream",
     "text": [
      "<class 'list'>\n",
      "['i have a dream\\n', '12345\\n', '67890']\n"
     ]
    }
   ],
   "source": [
    "# 한 줄씩 읽어 List Type 으로 반환\n",
    "with open(\"i_have_a_dream.txt\", \"r\") as my_file:\n",
    "    contents_list = my_file.readlines() # 파일 전체를 읽어서 list 로 반환\n",
    "    print(type(contents_list)) # Type 확인\n",
    "    print(contents_list) # 리스트 값 출력"
   ]
  },
  {
   "cell_type": "code",
   "execution_count": 47,
   "metadata": {},
   "outputs": [
    {
     "name": "stdout",
     "output_type": "stream",
     "text": [
      "0 === i have a dream\n",
      "1 === 12345\n",
      "2 === 67890\n"
     ]
    }
   ],
   "source": [
    "# 실행 시 마다 한 줄 씩 읽어 오기\n",
    "with open(\"i_have_a_dream.txt\", \"r\") as my_file:\n",
    "    i = 0\n",
    "    while True:\n",
    "        line = my_file.readline() # 한 줄 씩 읽어 메모리에 올림\n",
    "        if not line:\n",
    "            break\n",
    "        print(str(i) + \" === \" + line.replace(\"\\n\", \"\")) # 한줄씩 값 출력\n",
    "        i = i + 1"
   ]
  },
  {
   "cell_type": "code",
   "execution_count": 48,
   "metadata": {},
   "outputs": [
    {
     "name": "stdout",
     "output_type": "stream",
     "text": [
      "Total Number of Characters :  26\n",
      "Total Number of Words :  4\n",
      "Total Number of Lines :  3\n"
     ]
    }
   ],
   "source": [
    "# 단어 통계 정보 산출\n",
    "with open(\"i_have_a_dream.txt\", \"r\") as my_file:\n",
    "    contents = my_file.read()\n",
    "    word_list = contents.split(\" \")\n",
    "    # 반칸 기준으로 단어를 분리 리스트\n",
    "    line_list = contents.split(\"\\n\")\n",
    "\n",
    "print(\"Total Number of Characters : \", len(contents))\n",
    "print(\"Total Number of Words : \", len(word_list))\n",
    "print(\"Total Number of Lines : \", len(line_list))"
   ]
  },
  {
   "cell_type": "code",
   "execution_count": 49,
   "metadata": {},
   "outputs": [],
   "source": [
    "# 파이썬 File Write\n",
    "\n",
    "# mode 는 \"w\", encoding=\"urf8\"\n",
    "f = open(\"count_log.txt\", \"w\", encoding=\"utf8\")\n",
    "for i in range(1, 11):\n",
    "    data = \"%d번째 줄입니다.\\n\" % i\n",
    "    f.write(data)\n",
    "f.close()"
   ]
  },
  {
   "cell_type": "code",
   "execution_count": 50,
   "metadata": {},
   "outputs": [],
   "source": [
    "# mode \"a\" 는 추가 모드\n",
    "with open(\"count_log.txt\", \"a\", encoding=\"utf8\") as f:\n",
    "    for i in range(1, 11):\n",
    "        data = \"%d번째 줄입니다.\\n\" % i\n",
    "        f.write(data)"
   ]
  },
  {
   "cell_type": "code",
   "execution_count": null,
   "metadata": {},
   "outputs": [],
   "source": []
  }
 ],
 "metadata": {
  "kernelspec": {
   "display_name": "Python 3.9.12 ('ml_scratch')",
   "language": "python",
   "name": "python3"
  },
  "language_info": {
   "codemirror_mode": {
    "name": "ipython",
    "version": 3
   },
   "file_extension": ".py",
   "mimetype": "text/x-python",
   "name": "python",
   "nbconvert_exporter": "python",
   "pygments_lexer": "ipython3",
   "version": "3.9.12"
  },
  "orig_nbformat": 4,
  "vscode": {
   "interpreter": {
    "hash": "8e490d1025af6f1d897f25b8886f0ffd0fa448a925aa087970166c6ca66cf580"
   }
  }
 },
 "nbformat": 4,
 "nbformat_minor": 2
}
