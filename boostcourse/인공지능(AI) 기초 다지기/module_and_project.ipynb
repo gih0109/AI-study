{
 "cells": [
  {
   "cell_type": "code",
   "execution_count": null,
   "metadata": {},
   "outputs": [],
   "source": [
    "# 모듈과 패키지"
   ]
  },
  {
   "cell_type": "code",
   "execution_count": null,
   "metadata": {},
   "outputs": [],
   "source": [
    "# 모듈\n",
    "# 프로그램에서는 작은 프로그램 조각, 즉 모듈을 모아서 하나의 큰 프로그램 개발\n",
    "# 프로그램을 모듈화 시키면 다른 프로그램이 사용하기 쉬움"
   ]
  },
  {
   "cell_type": "code",
   "execution_count": null,
   "metadata": {},
   "outputs": [],
   "source": [
    "# 모듈 만들기\n",
    "# 파이썬의 Module == py 파일을 의미\n",
    "# 같은 폴더에 Module 에 해당하는 .py 파일과 사용하는 .py 파일을 저장한 후\n",
    "# import 로 호출"
   ]
  },
  {
   "cell_type": "code",
   "execution_count": null,
   "metadata": {},
   "outputs": [],
   "source": [
    "# fah_convertoer.py 만들고\n",
    "# def convert_c_to_f(celcius_value):\n",
    "#     return celcius_value * 9.0 / 5 + 32\n",
    "\n",
    "# module_ex.py 에서\n",
    "# import fah_converter # 모듈 불러오기\n",
    "# print(\"Enter a celsius vale: \")\n",
    "# celsius = float(input())\n",
    "# fahrenheit = fah_converter.convert_c_to_f(celsius)\n",
    "# print(f\"That's {fahrenheit} degrees Fahrenheit\")"
   ]
  },
  {
   "cell_type": "code",
   "execution_count": null,
   "metadata": {},
   "outputs": [],
   "source": [
    "# pycache 폴더가 생긴다\n",
    "# 미리 컴파일된 파이썬 파일이 저장됨"
   ]
  },
  {
   "cell_type": "code",
   "execution_count": null,
   "metadata": {},
   "outputs": [],
   "source": [
    "# namespace\n",
    "# 모듈을 호출할 때 범위 정하는 방법\n",
    "# 모듈 안에는 함수와 클래스 등이 존재 가능\n",
    "# 필요한 내용만 골라서 호출 가능\n",
    "# 메모리 절약\n",
    "# from ~ import ~ as ~"
   ]
  },
  {
   "cell_type": "code",
   "execution_count": null,
   "metadata": {},
   "outputs": [],
   "source": [
    "# Alias 설정하기 : 모듈 별칭 설정\n",
    "# import fah_conveter as fah \n",
    "# fah.convert_to_f()\n",
    "# 가장 많이 쓰인다. 가독성이 좋다\n",
    "\n",
    "# 모듈에서 특정 함수 또는 클래스만 호출\n",
    "# from fah_conveter import convert_c_to_f\n",
    "# print(convert_c_to_f(40))\n",
    "\n",
    "# 모듈에서 모든 함수 또는 클래스 호출하기\n",
    "# form foh_converter import *\n",
    "# print(convert_c_to_f(40))"
   ]
  },
  {
   "cell_type": "code",
   "execution_count": 3,
   "metadata": {},
   "outputs": [
    {
     "name": "stdout",
     "output_type": "stream",
     "text": [
      "99\n",
      "0.6870690847784074\n",
      "time.struct_time(tm_year=2022, tm_mon=6, tm_mday=27, tm_hour=16, tm_min=38, tm_sec=16, tm_wday=0, tm_yday=178, tm_isdst=0)\n"
     ]
    }
   ],
   "source": [
    "# Built-in Module\n",
    "# 파이썬이 기본적으로 제공하는 모듈\n",
    "\n",
    "import random\n",
    "print(random.randint(1, 100)) # 1 ~ 100 난수 생성\n",
    "print(random.random()) # 일반적인 난수 생성\n",
    "\n",
    "import time\n",
    "print(time.localtime()) # 현재 시간 출력\n",
    "\n",
    "# 웹 \n",
    "import urllib.request\n",
    "# response = urllib.request.urlopen(\"http://thetemlab.io\")\n",
    "# print(response.read())\n"
   ]
  },
  {
   "cell_type": "code",
   "execution_count": null,
   "metadata": {},
   "outputs": [],
   "source": [
    "# 모듈 찾기\n",
    "# 구글에서 찾아보자"
   ]
  },
  {
   "cell_type": "code",
   "execution_count": null,
   "metadata": {},
   "outputs": [],
   "source": [
    "# 패키지\n",
    "\n",
    "# 하나의 대형 프로젝트를 만드는 코드의 묶음\n",
    "# 다양한 모듈들의 합, 폴더로 연결됨\n",
    "# __init__, __main__ 등 키워드 파일명 사용\n",
    "# 다양한 오픈소스들이 모두 패키지로 관리됨"
   ]
  },
  {
   "cell_type": "code",
   "execution_count": null,
   "metadata": {},
   "outputs": [],
   "source": [
    "# 폴더별로 __init__.py 구성하기\n",
    "# 현재 폴더가 패키지임을 알리는 초기화 스크립트\n",
    "# 3.3 부터는 없어도 됨\n",
    "# 하위 톨더와 py 폴더를 포함하는것을 의미"
   ]
  },
  {
   "cell_type": "code",
   "execution_count": null,
   "metadata": {},
   "outputs": [],
   "source": [
    "# Package 내에서 다른 폴더의 모듈을 부를 때 \n",
    "# 상대참조로 호출하는 방법\n",
    "\n",
    "# from game.graphic.render import render_test() # 절대참조\n",
    "# from .render import render_test() # . : 현재 디렉토리 기준\n",
    "# ..sound.echo import echo_test() # .. : 부모 디렉토리 기준"
   ]
  }
 ],
 "metadata": {
  "kernelspec": {
   "display_name": "Python 3.9.12 ('ml_scratch')",
   "language": "python",
   "name": "python3"
  },
  "language_info": {
   "codemirror_mode": {
    "name": "ipython",
    "version": 3
   },
   "file_extension": ".py",
   "mimetype": "text/x-python",
   "name": "python",
   "nbconvert_exporter": "python",
   "pygments_lexer": "ipython3",
   "version": "3.9.12"
  },
  "orig_nbformat": 4,
  "vscode": {
   "interpreter": {
    "hash": "8e490d1025af6f1d897f25b8886f0ffd0fa448a925aa087970166c6ca66cf580"
   }
  }
 },
 "nbformat": 4,
 "nbformat_minor": 2
}
