{
 "cells": [
  {
   "cell_type": "code",
   "execution_count": 2,
   "metadata": {},
   "outputs": [],
   "source": [
    "# OOP"
   ]
  },
  {
   "cell_type": "code",
   "execution_count": 3,
   "metadata": {},
   "outputs": [],
   "source": [
    "# 축구선수정보를 class 로 구현하기\n",
    "class SoccerPlayer(object): # class에는 CamelCase 변수명 형식을 쓴다 띄워쓰기 부분에 대문자\n",
    "    def __init__(self, name: str, position: str, back_number: int):\n",
    "        self.name = name\n",
    "        self.position = position\n",
    "        self.back_number = back_number\n",
    "\n",
    "    def change_back_number(self, new_number: int):\n",
    "        print(f\"선수의 등번호를 변경합니다: From {self.back_number} to {new_number}\")\n",
    "        self.back_number = new_number\n",
    "    \n",
    "    # __ 는 특수한 예약 함수나 변수, 함수병 변경(맨글링)으로 사용\n",
    "    # 매직 매소드\n",
    "    # __str__ : print 함수 사용시 아래 내용을 출력\n",
    "    def __str__(self):\n",
    "        return f\"Hello, My name is {self.name}. I play in {self.position} in center. My backnumber is {self.back_number} \"\n",
    "\n",
    "    # __add__ : 두개를 더해준다\n",
    "    def __add__(self, other):\n",
    "        return self.name + other.name"
   ]
  },
  {
   "cell_type": "code",
   "execution_count": 4,
   "metadata": {},
   "outputs": [
    {
     "name": "stdout",
     "output_type": "stream",
     "text": [
      "Hello, My name is Jinhyun. I play in MF in center. My backnumber is 10 \n"
     ]
    }
   ],
   "source": [
    "jinhyun = SoccerPlayer(\"Jinhyun\", \"MF\", 10)\n",
    "print(jinhyun)"
   ]
  },
  {
   "cell_type": "code",
   "execution_count": 5,
   "metadata": {},
   "outputs": [
    {
     "data": {
      "text/plain": [
       "'JinhyunPark'"
      ]
     },
     "execution_count": 5,
     "metadata": {},
     "output_type": "execute_result"
    }
   ],
   "source": [
    "park = SoccerPlayer(\"Park\", \"WF\", 13)\n",
    "jinhyun + park"
   ]
  },
  {
   "cell_type": "code",
   "execution_count": 6,
   "metadata": {},
   "outputs": [
    {
     "name": "stdout",
     "output_type": "stream",
     "text": [
      "선수의 등번호를 변경합니다: From 10 to 7\n",
      "Hello, My name is Jinhyun. I play in MF in center. My backnumber is 7 \n"
     ]
    }
   ],
   "source": [
    "jinhyun.change_back_number(7)\n",
    "print(jinhyun)"
   ]
  },
  {
   "cell_type": "code",
   "execution_count": 7,
   "metadata": {},
   "outputs": [
    {
     "name": "stdout",
     "output_type": "stream",
     "text": [
      "Hello, My name is Jinhyun. I play in MF in center. My backnumber is 20 \n"
     ]
    }
   ],
   "source": [
    "jinhyun.back_number = 20\n",
    "print(jinhyun)"
   ]
  },
  {
   "cell_type": "code",
   "execution_count": 8,
   "metadata": {},
   "outputs": [],
   "source": [
    "# OOP 구현해보기\n",
    "\n",
    "# Note를 정리하는 프로그램\n",
    "# 사용자는 Note에 뭔가를 적을 수 있다\n",
    "# Note에는 Content가 있고, 내용을 제거할 수 있다 -> content 는 str 타입\n",
    "# 두 개의 노트북을 합쳐 하나로 만들 수 있다\n",
    "# Note는 Notebook에 삽입된다\n",
    "# Noteboot은 Note가 삽입 될 때 페이지를 생성하며, 최고 300페이지까지 저장 가능하다\n",
    "# 300페이지가 넘으면 더 이상 노트를 삽입하지 못한다"
   ]
  },
  {
   "cell_type": "code",
   "execution_count": 9,
   "metadata": {},
   "outputs": [],
   "source": [
    "class Note():\n",
    "    def __init__(self, content: None):\n",
    "        self.content = content\n",
    "\n",
    "    def write_content(self, content):\n",
    "        self.content = content\n",
    "\n",
    "    def remove_all(self):\n",
    "        self.content = \"\"\n",
    "\n",
    "    def __add__(self, other):\n",
    "        return self.content + other.content\n",
    "\n",
    "    def __str__(self):\n",
    "        return f\"노트에 적힌 내용입니다: {self.content}\""
   ]
  },
  {
   "cell_type": "code",
   "execution_count": 10,
   "metadata": {},
   "outputs": [],
   "source": [
    "class NoteBook():\n",
    "    def __init__(self, title):\n",
    "        self.title = title\n",
    "        self.page_number = 1\n",
    "        self.notes = {}\n",
    "\n",
    "    def add_note(self, note, page = 0):\n",
    "        if self.page_number < 300:\n",
    "            # page 변수가 0 일 경우 차례대로 적는다\n",
    "            if page == 0:\n",
    "                self.notes[self.page_number] = note\n",
    "                self.page_number += 1\n",
    "            # page 변수가 0 이 아닌 특정 숫자일 시 특정 숫자의 page에 적는다\n",
    "            else:\n",
    "                self.notes = {page: note}\n",
    "                self.page_number += 1\n",
    "        else:\n",
    "            print(\"Page가 모두 채워졌습니다\")\n",
    "\n",
    "    def remove_note(self, page_number):\n",
    "        if page_number in self.notes.keys():\n",
    "            return self.notes.pop(page_number)\n",
    "        else:\n",
    "            print(\"해당 Page는 존재하지 않습니다\")\n",
    "            \n",
    "    def get_number_of_pages(self):\n",
    "        return len(self.notes.keys())"
   ]
  },
  {
   "cell_type": "code",
   "execution_count": 11,
   "metadata": {},
   "outputs": [
    {
     "data": {
      "text/plain": [
       "<__main__.NoteBook at 0x1e10e138850>"
      ]
     },
     "execution_count": 11,
     "metadata": {},
     "output_type": "execute_result"
    }
   ],
   "source": [
    "my_notebook = NoteBook(\"팀랩 강의노트\")\n",
    "my_notebook"
   ]
  },
  {
   "cell_type": "code",
   "execution_count": 12,
   "metadata": {},
   "outputs": [
    {
     "data": {
      "text/plain": [
       "'팀랩 강의노트'"
      ]
     },
     "execution_count": 12,
     "metadata": {},
     "output_type": "execute_result"
    }
   ],
   "source": [
    "my_notebook.title"
   ]
  },
  {
   "cell_type": "code",
   "execution_count": 13,
   "metadata": {},
   "outputs": [
    {
     "name": "stdout",
     "output_type": "stream",
     "text": [
      "노트에 적힌 내용입니다: 아 수업하기 싫다\n"
     ]
    }
   ],
   "source": [
    "new_note = Note(\"아 수업하기 싫다\")\n",
    "print(new_note)"
   ]
  },
  {
   "cell_type": "code",
   "execution_count": 14,
   "metadata": {},
   "outputs": [
    {
     "name": "stdout",
     "output_type": "stream",
     "text": [
      "노트에 적힌 내용입니다: 파이썬 강의\n"
     ]
    }
   ],
   "source": [
    "new_note_2 = Note(\"파이썬 강의\")\n",
    "print(new_note_2)"
   ]
  },
  {
   "cell_type": "code",
   "execution_count": 15,
   "metadata": {},
   "outputs": [],
   "source": [
    "my_notebook.add_note(new_note)\n",
    "my_notebook.add_note(new_note_2, 100)"
   ]
  },
  {
   "cell_type": "code",
   "execution_count": 16,
   "metadata": {},
   "outputs": [
    {
     "data": {
      "text/plain": [
       "{100: <__main__.Note at 0x1e10e12c0a0>}"
      ]
     },
     "execution_count": 16,
     "metadata": {},
     "output_type": "execute_result"
    }
   ],
   "source": [
    "my_notebook.notes"
   ]
  },
  {
   "cell_type": "code",
   "execution_count": 18,
   "metadata": {},
   "outputs": [],
   "source": [
    "# print(my_notebook.notes[1])"
   ]
  },
  {
   "cell_type": "code",
   "execution_count": 19,
   "metadata": {},
   "outputs": [
    {
     "name": "stdout",
     "output_type": "stream",
     "text": [
      "노트에 적힌 내용입니다: 파이썬 강의\n"
     ]
    }
   ],
   "source": [
    "print(my_notebook.notes[100])"
   ]
  },
  {
   "cell_type": "code",
   "execution_count": 20,
   "metadata": {},
   "outputs": [
    {
     "data": {
      "text/plain": [
       "1"
      ]
     },
     "execution_count": 20,
     "metadata": {},
     "output_type": "execute_result"
    }
   ],
   "source": [
    "my_notebook.get_number_of_pages()"
   ]
  },
  {
   "cell_type": "code",
   "execution_count": 22,
   "metadata": {},
   "outputs": [
    {
     "name": "stdout",
     "output_type": "stream",
     "text": [
      "노트에 적힌 내용입니다: 안녕\n"
     ]
    }
   ],
   "source": [
    "my_notebook.notes[2] = Note(\"안녕\")\n",
    "print(my_notebook.notes[2])"
   ]
  },
  {
   "cell_type": "code",
   "execution_count": null,
   "metadata": {},
   "outputs": [],
   "source": [
    "# OOP 특징"
   ]
  },
  {
   "cell_type": "code",
   "execution_count": 38,
   "metadata": {},
   "outputs": [],
   "source": [
    "# 상속\n",
    "class Person():\n",
    "    def __init__(self, name, age, gender):\n",
    "        self.name = name\n",
    "        self.age = age\n",
    "        self.gender = gender\n",
    "\n",
    "    def __str__(self):\n",
    "        return f\"저의 이름은 {self.name} 입니다. 나이는 {self.age} 입니다.\""
   ]
  },
  {
   "cell_type": "code",
   "execution_count": 39,
   "metadata": {},
   "outputs": [],
   "source": [
    "class Korean(Person):\n",
    "    pass"
   ]
  },
  {
   "cell_type": "code",
   "execution_count": 40,
   "metadata": {},
   "outputs": [
    {
     "name": "stdout",
     "output_type": "stream",
     "text": [
      "저의 이름은 Sungchul 입니다. 나이는 35 입니다.\n"
     ]
    }
   ],
   "source": [
    "first_korean = Korean(\"Sungchul\", 35, \"male\")\n",
    "print(first_korean)"
   ]
  },
  {
   "cell_type": "code",
   "execution_count": 41,
   "metadata": {},
   "outputs": [],
   "source": [
    "class Employee(Person):\n",
    "    def __init__(self, name, age, gender, salary, hire_date):\n",
    "        super().__init__(name, age, gender) # super() : 부모객체 사용\n",
    "        self.salary = salary\n",
    "        self.hire_date = hire_date\n",
    "\n",
    "    def do_work(self): # 새로운 메소드 추가\n",
    "        print(\"열심히 일을 합니다\")\n",
    "\n",
    "    def __str__(self): # 부모 클래스 함수 재정의\n",
    "        super().__str__() # 부모 클래스 함수 사용\n",
    "        return f\"제 급여는 {self.salary} 원 이고, 제 입사일은 {self.hire_date} 입니다.\""
   ]
  },
  {
   "cell_type": "code",
   "execution_count": 45,
   "metadata": {},
   "outputs": [
    {
     "name": "stdout",
     "output_type": "stream",
     "text": [
      "저의 이름은 John 입니다. 나이는 34 입니다.\n",
      "제 급여는 300000 원 이고, 제 입사일은 2012/03/02 입니다.\n"
     ]
    }
   ],
   "source": [
    "myPerson = Person(\"John\", 34, \"Male\")\n",
    "myEmployee = Employee(\"Deaho\", 34, \"Male\", 300000, \"2012/03/02\")\n",
    "print(myPerson)\n",
    "print(myEmployee)"
   ]
  },
  {
   "cell_type": "code",
   "execution_count": null,
   "metadata": {},
   "outputs": [],
   "source": [
    "# 다형성\n",
    "# 같은 이름 메소드의 내부 로직을 다르게 작성"
   ]
  },
  {
   "cell_type": "code",
   "execution_count": 46,
   "metadata": {},
   "outputs": [],
   "source": [
    "class Animal:\n",
    "    def __init__(self, name: str):\n",
    "        self.name = name\n",
    "    \n",
    "    def talk(self): # Abstract method, defined by convetion only\n",
    "        raise NotImplementedError(\"Subclass must implement abstract method\")"
   ]
  },
  {
   "cell_type": "code",
   "execution_count": 47,
   "metadata": {},
   "outputs": [],
   "source": [
    "class Cat(Animal):\n",
    "    def talk(self):\n",
    "        return \"Meow!\"\n",
    "\n",
    "class Dog(Animal):\n",
    "    def talk(self):\n",
    "        return \"Woof! Woof!\"\n"
   ]
  },
  {
   "cell_type": "code",
   "execution_count": 48,
   "metadata": {},
   "outputs": [
    {
     "name": "stdout",
     "output_type": "stream",
     "text": [
      "Missy: Meow!\n",
      "Mr. Mistoffelees: Meow!\n",
      "Lassie: Woof! Woof!\n"
     ]
    }
   ],
   "source": [
    "animals = [Cat('Missy'), Cat('Mr. Mistoffelees'), Dog(\"Lassie\")]\n",
    "\n",
    "for animal in animals:\n",
    "    print(animal.name + \": \" + animal.talk())"
   ]
  },
  {
   "cell_type": "code",
   "execution_count": null,
   "metadata": {},
   "outputs": [],
   "source": [
    "# 가시성\n",
    "# 객체의 정보를 볼 수 있는 레벨을 조절하는 것\n",
    "# 누구나 객체 안에 모든 변수를 볼 필요가 없음\n",
    "\n",
    "# 캡슐화(Encapsulaiton) 또는 정보 은닉"
   ]
  },
  {
   "cell_type": "code",
   "execution_count": null,
   "metadata": {},
   "outputs": [],
   "source": [
    "# 예시\n",
    "# Product 객체를 Inventory 객체에 추가\n",
    "# Inventory 에는 오직 Product 객체만 들어감\n",
    "# Inventory 에 Product가 몇 개인지 확인이 필요\n",
    "# Inventory 에 Product items는 직접 접근이 불가"
   ]
  },
  {
   "cell_type": "code",
   "execution_count": 1,
   "metadata": {},
   "outputs": [],
   "source": [
    "class Product():\n",
    "    pass"
   ]
  },
  {
   "cell_type": "code",
   "execution_count": 21,
   "metadata": {},
   "outputs": [],
   "source": [
    "class Inventory():\n",
    "    def __init__(self):\n",
    "        self.__items = [] # Private 변수로 선언 타 객체가 접근 못함\n",
    "\n",
    "    def add_new_item(self, product):\n",
    "        if type(product) == Product:\n",
    "            self.__items.append(product)\n",
    "            print(\"New Item added\")\n",
    "        else:\n",
    "            raise ValueError(\"Invalid Item\")\n",
    "\n",
    "    def get_number_of_item(self):\n",
    "        return len(self.__items)"
   ]
  },
  {
   "cell_type": "code",
   "execution_count": 7,
   "metadata": {},
   "outputs": [
    {
     "name": "stdout",
     "output_type": "stream",
     "text": [
      "New Item added\n",
      "New Item added\n"
     ]
    },
    {
     "data": {
      "text/plain": [
       "<__main__.Inventory at 0x255e7f97f10>"
      ]
     },
     "execution_count": 7,
     "metadata": {},
     "output_type": "execute_result"
    }
   ],
   "source": [
    "my_inventory = Inventory()\n",
    "my_inventory.add_new_item(Product())\n",
    "my_inventory.add_new_item(Product())\n",
    "my_inventory"
   ]
  },
  {
   "cell_type": "code",
   "execution_count": 9,
   "metadata": {},
   "outputs": [
    {
     "ename": "AttributeError",
     "evalue": "'Inventory' object has no attribute '__items'",
     "output_type": "error",
     "traceback": [
      "\u001b[1;31m---------------------------------------------------------------------------\u001b[0m",
      "\u001b[1;31mAttributeError\u001b[0m                            Traceback (most recent call last)",
      "\u001b[1;32mc:\\Users\\gih54\\Documents\\ai study\\boostcourse\\인공지능(AI) 기초 다지기\\OOP.ipynb Cell 8'\u001b[0m in \u001b[0;36m<cell line: 1>\u001b[1;34m()\u001b[0m\n\u001b[1;32m----> <a href='vscode-notebook-cell:/c%3A/Users/gih54/Documents/ai%20study/boostcourse/%EC%9D%B8%EA%B3%B5%EC%A7%80%EB%8A%A5%28AI%29%20%EA%B8%B0%EC%B4%88%20%EB%8B%A4%EC%A7%80%EA%B8%B0/OOP.ipynb#ch0000007?line=0'>1</a>\u001b[0m my_inventory\u001b[39m.\u001b[39;49m__items\u001b[39m.\u001b[39mappend(\u001b[39m\"\u001b[39m\u001b[39mabc\u001b[39m\u001b[39m\"\u001b[39m)\n",
      "\u001b[1;31mAttributeError\u001b[0m: 'Inventory' object has no attribute '__items'"
     ]
    }
   ],
   "source": [
    "my_inventory.__items.append(\"abc\")\n"
   ]
  },
  {
   "cell_type": "code",
   "execution_count": 22,
   "metadata": {},
   "outputs": [],
   "source": [
    "class Inventory():\n",
    "    def __init__(self):\n",
    "        self.__items = [] # Private 변수로 선언 타 객체가 접근 못함\n",
    "\n",
    "    @property\n",
    "    def items(self):\n",
    "        return self.__items\n",
    "\n",
    "    def add_new_item(self, product):\n",
    "        if type(product) == Product:\n",
    "            self.__items.append(product)\n",
    "            print(\"New Item added\")\n",
    "        else:\n",
    "            raise ValueError(\"Invalid Item\")\n",
    "\n",
    "    def get_number_of_item(self):\n",
    "        return len(self.__items)\n"
   ]
  },
  {
   "cell_type": "code",
   "execution_count": 23,
   "metadata": {},
   "outputs": [
    {
     "name": "stdout",
     "output_type": "stream",
     "text": [
      "New Item added\n",
      "New Item added\n"
     ]
    },
    {
     "data": {
      "text/plain": [
       "<__main__.Inventory at 0x255e7eeb130>"
      ]
     },
     "execution_count": 23,
     "metadata": {},
     "output_type": "execute_result"
    }
   ],
   "source": [
    "my_inventory = Inventory()\n",
    "my_inventory.add_new_item(Product())\n",
    "my_inventory.add_new_item(Product())\n",
    "my_inventory"
   ]
  },
  {
   "cell_type": "code",
   "execution_count": 25,
   "metadata": {},
   "outputs": [
    {
     "data": {
      "text/plain": [
       "[<__main__.Product at 0x255e7f3b1f0>, <__main__.Product at 0x255e6c3fd60>]"
      ]
     },
     "execution_count": 25,
     "metadata": {},
     "output_type": "execute_result"
    }
   ],
   "source": [
    "items = my_inventory.items\n",
    "items"
   ]
  },
  {
   "cell_type": "code",
   "execution_count": 26,
   "metadata": {},
   "outputs": [],
   "source": [
    "my_inventory.items.append(\"a\")"
   ]
  },
  {
   "cell_type": "code",
   "execution_count": null,
   "metadata": {},
   "outputs": [],
   "source": [
    "# 데코레이터"
   ]
  },
  {
   "cell_type": "code",
   "execution_count": null,
   "metadata": {},
   "outputs": [],
   "source": [
    "# 일급 객체\n",
    "# 이너펑션\n",
    "# 데코레이터"
   ]
  },
  {
   "cell_type": "code",
   "execution_count": null,
   "metadata": {},
   "outputs": [],
   "source": [
    "# 일등함수 또는 일급객체\n",
    "# 변수나 데이터 구조에 할당이 가능한 객체\n",
    "# 파라메터로 전달이 가능 + 리턴 값으로 사용\n",
    "\n",
    "# 파이썬 함수는 일급함수"
   ]
  },
  {
   "cell_type": "code",
   "execution_count": 28,
   "metadata": {},
   "outputs": [
    {
     "data": {
      "text/plain": [
       "25"
      ]
     },
     "execution_count": 28,
     "metadata": {},
     "output_type": "execute_result"
    }
   ],
   "source": [
    "# 일급함수\n",
    "def square(x):\n",
    "    return x * x\n",
    "\n",
    "f = square\n",
    "\n",
    "f(5)"
   ]
  },
  {
   "cell_type": "code",
   "execution_count": 29,
   "metadata": {},
   "outputs": [],
   "source": [
    "def cube(x):\n",
    "    return x * x * x\n",
    "\n",
    "def fumular(method, argument_list): # 함수를 파라메터로 이용\n",
    "    return [method(value) for value in argument_list]"
   ]
  },
  {
   "cell_type": "code",
   "execution_count": 31,
   "metadata": {},
   "outputs": [
    {
     "name": "stdout",
     "output_type": "stream",
     "text": [
      "hello_Python\n"
     ]
    }
   ],
   "source": [
    "# Inner funciton\n",
    "# 함수 내에 또 다른 함수가 존재\n",
    "\n",
    "def print_msg(msg):\n",
    "    def printer():\n",
    "        print(msg)\n",
    "    return printer # 파인터는 일급객체라 함수가 리턴됨, 클로저\n",
    "\n",
    "another = print_msg(\"hello_Python\")\n",
    "another()"
   ]
  },
  {
   "cell_type": "code",
   "execution_count": 34,
   "metadata": {},
   "outputs": [
    {
     "name": "stdout",
     "output_type": "stream",
     "text": [
      "<function tag_func.<locals>.inner_func at 0x00000255E87BB160>\n",
      "<function tag_func.<locals>.inner_func at 0x00000255E887DEE0>\n"
     ]
    }
   ],
   "source": [
    "def tag_func(tag, text):\n",
    "    text = text\n",
    "    tag = tag\n",
    "\n",
    "    def inner_func():\n",
    "        return \"<{0}>{1}<{0}>\".format(tag, text)\n",
    "\n",
    "    return inner_func\n",
    "\n",
    "h1_func = tag_func(\"title\", \"This is Python Class\")\n",
    "p_func = tag_func(\"p\", \"Data Academy\")\n",
    "print(h1_func)\n",
    "print(p_func)"
   ]
  },
  {
   "cell_type": "code",
   "execution_count": 35,
   "metadata": {},
   "outputs": [
    {
     "name": "stdout",
     "output_type": "stream",
     "text": [
      "******************************\n",
      "Hello\n",
      "******************************\n"
     ]
    }
   ],
   "source": [
    "# 복잡한 클로져 함수를 간단하게!\n",
    "def star(func):\n",
    "    def inner(*args, **kwargs):\n",
    "        print(\"*\" * 30)\n",
    "        func(*args, **kwargs)\n",
    "        print(\"*\" * 30)\n",
    "\n",
    "    return inner\n",
    "\n",
    "@star\n",
    "def printer(msg):\n",
    "    print(msg)\n",
    "printer(\"Hello\")"
   ]
  },
  {
   "cell_type": "code",
   "execution_count": 36,
   "metadata": {},
   "outputs": [
    {
     "name": "stdout",
     "output_type": "stream",
     "text": [
      "562949953421312\n"
     ]
    }
   ],
   "source": [
    "# decorator funtion\n",
    "\n",
    "def generate_power(exponent):\n",
    "    def wrapper(f):\n",
    "        def inner(*args):\n",
    "            result = f(*args)\n",
    "            return exponent ** result\n",
    "        return inner\n",
    "    return wrapper\n",
    "\n",
    "@generate_power(2)\n",
    "def raise_two(n):\n",
    "    return n ** 2\n",
    "\n",
    "print(raise_two(7))"
   ]
  },
  {
   "cell_type": "code",
   "execution_count": 37,
   "metadata": {},
   "outputs": [
    {
     "data": {
      "text/plain": [
       "562949953421312"
      ]
     },
     "execution_count": 37,
     "metadata": {},
     "output_type": "execute_result"
    }
   ],
   "source": [
    "2 ** 49"
   ]
  }
 ],
 "metadata": {
  "kernelspec": {
   "display_name": "Python 3.9.12 ('ml_scratch')",
   "language": "python",
   "name": "python3"
  },
  "language_info": {
   "codemirror_mode": {
    "name": "ipython",
    "version": 3
   },
   "file_extension": ".py",
   "mimetype": "text/x-python",
   "name": "python",
   "nbconvert_exporter": "python",
   "pygments_lexer": "ipython3",
   "version": "3.9.12"
  },
  "orig_nbformat": 4,
  "vscode": {
   "interpreter": {
    "hash": "8e490d1025af6f1d897f25b8886f0ffd0fa448a925aa087970166c6ca66cf580"
   }
  }
 },
 "nbformat": 4,
 "nbformat_minor": 2
}
