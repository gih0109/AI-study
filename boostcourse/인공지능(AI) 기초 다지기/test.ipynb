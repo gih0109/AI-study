{
 "cells": [
  {
   "cell_type": "code",
   "execution_count": null,
   "metadata": {},
   "outputs": [],
   "source": []
  }
 ],
 "metadata": {
  "kernelspec": {
   "display_name": "Python 3.9.12 ('ml_scratch')",
   "language": "python",
   "name": "python3"
  },
  "language_info": {
   "name": "python",
   "version": "3.9.12"
  },
  "orig_nbformat": 4,
  "vscode": {
   "interpreter": {
    "hash": "8e490d1025af6f1d897f25b8886f0ffd0fa448a925aa087970166c6ca66cf580"
   }
  }
 },
 "nbformat": 4,
 "nbformat_minor": 2
}
