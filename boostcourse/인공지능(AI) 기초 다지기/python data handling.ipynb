{
 "cells": [
  {
   "cell_type": "code",
   "execution_count": null,
   "metadata": {},
   "outputs": [],
   "source": [
    "# Python data handling"
   ]
  },
  {
   "cell_type": "code",
   "execution_count": null,
   "metadata": {},
   "outputs": [],
   "source": [
    "# 데이터 타입들\n",
    "# CSV, Html, XML, JSON"
   ]
  },
  {
   "cell_type": "code",
   "execution_count": 2,
   "metadata": {},
   "outputs": [],
   "source": [
    "# Comma Separate Values (CSV)\n",
    "\n",
    "# 필드를 쉼표(,) 로 구분한 텍스트 파일\n",
    "# 엑셀 양식의 데이터를 손쉽게 공유하기 위해서 만든 데이터 형식\n",
    "# 탭(TSV), 빈칸(SSV) 등으로 구분해서 만들기도 한다"
   ]
  },
  {
   "cell_type": "code",
   "execution_count": 7,
   "metadata": {},
   "outputs": [
    {
     "name": "stdout",
     "output_type": "stream",
     "text": [
      "Header :\t ['customerNumber', 'customerName', 'contactLastName', 'contactFirstName', 'phone', 'addressLine1', 'addressLine2', 'city', 'state', 'postalCode', 'country', 'salesRepEmployeeNumber', 'creditLimit\\n']\n",
      "Data 0 :\t\t ['103', '\"Atelier graphique\"', 'Schmitt', '\"Carine \"', '40.32.2555', '\"54', ' rue Royale\"', 'NULL', 'Nantes', 'NULL', '44000', 'France', '1370', '21000\\n']\n",
      "Data 1 :\t\t ['112', '\"Signal Gift Stores\"', 'King', 'Jean', '7025551838', '\"8489 Strong St.\"', 'NULL', '\"Las Vegas\"', 'NV', '83030', 'USA', '1166', '71800\\n']\n",
      "Data 2 :\t\t ['114', '\"Australian Collectors', ' Co.\"', 'Ferguson', 'Peter', '\"03 9520 4555\"', '\"636 St Kilda Road\"', '\"Level 3\"', 'Melbourne', 'Victoria', '3004', 'Australia', '1611', '117300\\n']\n",
      "Data 3 :\t\t ['119', '\"La Rochelle Gifts\"', 'Labrune', '\"Janine \"', '40.67.8555', '\"67', ' rue des Cinquante Otages\"', 'NULL', 'Nantes', 'NULL', '44000', 'France', '1370', '118200\\n']\n",
      "Data 4 :\t\t ['121', '\"Baane Mini Imports\"', 'Bergulfsen', '\"Jonas \"', '\"07-98 9555\"', '\"Erling Skakkes gate 78\"', 'NULL', 'Stavern', 'NULL', '4110', 'Norway', '1504', '81700\\n']\n",
      "Data 5 :\t\t ['124', '\"Mini Gifts Distributors Ltd.\"', 'Nelson', 'Susan', '4155551450', '\"5677 Strong St.\"', 'NULL', '\"San Rafael\"', 'CA', '97562', 'USA', '1165', '210500\\n']\n",
      "Data 6 :\t\t ['125', '\"Havel & Zbyszek Co\"', 'Piestrzeniewicz', '\"Zbyszek \"', '\"(26) 642-7555\"', '\"ul. Filtrowa 68\"', 'NULL', 'Warszawa', 'NULL', '01-012', 'Poland', 'NULL', '0\\n']\n",
      "Data 7 :\t\t ['128', '\"Blauer See Auto', ' Co.\"', 'Keitel', 'Roland', '\"+49 69 66 90 2555\"', '\"Lyonerstr. 34\"', 'NULL', 'Frankfurt', 'NULL', '60528', 'Germany', '1504', '59700\\n']\n",
      "Data 8 :\t\t ['129', '\"Mini Wheels Co.\"', 'Murphy', 'Julie', '6505555787', '\"5557 North Pendale Street\"', 'NULL', '\"San Francisco\"', 'CA', '94217', 'USA', '1165', '64600\\n']\n",
      "Data 9 :\t\t ['131', '\"Land of Toys Inc.\"', 'Lee', 'Kwai', '2125557818', '\"897 Long Airport Avenue\"', 'NULL', 'NYC', 'NY', '10022', 'USA', '1323', '114900\\n']\n",
      "122\n"
     ]
    }
   ],
   "source": [
    "# CSV 파일 읽기\n",
    "\n",
    "line_counter = 0 # 파일의 총 줄수를 세는 변수\n",
    "data_header = [] # data 의 필드값을 저장하는 list\n",
    "customer_list = [] # customer 개별 list 를 저장하는 list\n",
    "\n",
    "# customer.csv 파일을  customer_data 객체에 저장\n",
    "with open(r\"C:\\Users\\gih54\\Documents\\ai study\\boostcourse\\인공지능(AI) 기초 다지기\\datahandling\\csv\\customers.csv\") as customer_data:\n",
    "\n",
    "    while True:\n",
    "        data = customer_data.readline() # data 변수에 customer.csv 한줄씩 저장\n",
    "        \n",
    "        # 데이터가 없을 때, 루프 종료\n",
    "        if not data:\n",
    "            break\n",
    "        \n",
    "        # 첫 번째 데이터는 데이터의 필드\n",
    "        if line_counter == 0: \n",
    "            data_header = data.split(\",\") # 데이터 저장 시 \",\" 로 분리\n",
    "        \n",
    "        # 일반 데이터는 customer_list 객체에 저장\n",
    "        else:\n",
    "            customer_list.append(data.split(\",\"))\n",
    "\n",
    "        line_counter += 1\n",
    "\n",
    "print(\"Header :\\t\", data_header) # 데이터 필드 값 출력\n",
    "for i in range(10):\n",
    "    print(\"Data\", i, \":\\t\\t\", customer_list[i]) # 데이터 출력, 10개만\n",
    "print(len(customer_list)) # 전체 데이터 크기 출력"
   ]
  },
  {
   "cell_type": "code",
   "execution_count": null,
   "metadata": {},
   "outputs": [],
   "source": [
    "# CSV 객체로 CSV 처리\n",
    "\n",
    "# TEXT 파일 형태로 데이터 처리 시 문장 내에 들어가 있는 \",\"등에 대해 전처리 과정 필요\n",
    "# 파이썬에서는 간단히 CSV 파일을 처리하기 위해 CSV 객체를 제공\n"
   ]
  },
  {
   "cell_type": "code",
   "execution_count": null,
   "metadata": {},
   "outputs": [],
   "source": [
    "import csv\n",
    "reader = csv.reader(f, delimiter=',', quotechar='\"', quoting=csv.QUOTE_ALL)\n",
    "\n",
    "# Attribute \n",
    "# delimiter : 글자를 나누는 기준 (default : ,)\n",
    "# lineterminator : 줄 바꿈 기준 (default : \\r\\n)\n",
    "# quotechar : 문자열을 둘러싸는 신호 문자 (default : \")\n",
    "# quoting : 데이터를 나누는 기준이 quotechar 에 둘러쌓인 레벨 (default : QUOTE_MINIMAL) \n"
   ]
  },
  {
   "cell_type": "code",
   "execution_count": null,
   "metadata": {},
   "outputs": [],
   "source": [
    "# 공공데이터 포털 접속 안됨\n",
    "\n",
    "import csv\n",
    "\n",
    "seoung_nam_data = []\n",
    "header = []\n",
    "rownum = 0\n",
    "\n",
    "with open(\"korea_floating_population_data.csv\",\"r\", encoding=\"cp949\") as p_file:\n",
    "    # csv 객체를 이용해서 csv_data 읽기\n",
    "    csv_data = csv.reader(p_file)\n",
    "\n",
    "    # 읽어온 데이터를 한 줄씩 처리\n",
    "    for row in csv_data:\n",
    "        if rownum == 0:\n",
    "            header = row # 첫 번째 줄은 데이터 필드로 따로 저장\n",
    "\n",
    "        location = row[7] # “행정구역”필드 데이터 추출, 한글 처리로 유니코드 데이터를 cp949로 변환\n",
    "    \n",
    "    if location.find(u\"성남시\") != -1:\n",
    "        seoung_nam_data.append(row) # ”행정구역” 데이터에 성남시가 들어가 있으면 seoung_nam_data List에 추가\n",
    "\n",
    "    rownum +=1\n",
    "\n",
    "with open(\"seoung_nam_floating_population_data.csv\",\"w\", encoding=\"utf8\") as s_p_file:\n",
    "    # csv.writer를 사용해서 csv 파일 만들기 delimiter 필드 구분자\n",
    "    writer = csv.writer(s_p_file, delimiter='\\t', quotechar=\"'\", quoting=csv.QUOTE_ALL) # quotechar는 필드 각 데이터는 묶는 문자, quoting는 묶는 범위\n",
    "    # 제목 필드 파일에 쓰기\n",
    "    writer.writerow(header)\n",
    "\n",
    "    for row in seoung_nam_data:\n",
    "        writer.writerow(row) # seoung_nam_data에 있는 정보 list에 쓰기\n"
   ]
  },
  {
   "cell_type": "code",
   "execution_count": null,
   "metadata": {},
   "outputs": [],
   "source": [
    "# WEB"
   ]
  },
  {
   "cell_type": "code",
   "execution_count": null,
   "metadata": {},
   "outputs": [],
   "source": [
    "# HTML (Hyper Text Markup Language)\n",
    "\n",
    "# 웹 상의 정보를 구조적으로 표현하기 위한 언어\n",
    "# 제목, 단락, 링크 등의 요소 표시를 위해 \"Tag\" 를 사용\n",
    "# 모든 요소들은 꺾쇠 괄호 안에 둘러쌓여 있음\n",
    "# <Title> Hello, World </Title> # 제목 요소, 값은 Hello, World\n",
    "# 모든 HTML 은 트리 모양의 포함관계를 가짐\n",
    "# 일반적으로 웹 페이지의 HTML 소스파일은 컴퓨터가 다운로드 받은 후 웹 브라우저가 표시/해석"
   ]
  },
  {
   "cell_type": "code",
   "execution_count": null,
   "metadata": {},
   "outputs": [],
   "source": [
    "# HTML 구조\n",
    "# <html> – <head> – <title> – <body> – <p>\n",
    "\n",
    "# Element, Attribute Value 이루어짐\n",
    "# <tag attribute1=＂att_value1\" attribute2=\"att_value1 \">\n",
    "# 보이는 내용(Value)\n",
    "# </tag>"
   ]
  },
  {
   "cell_type": "markdown",
   "metadata": {},
   "source": [
    "<!doctype html>\n",
    "<html>\n",
    "    <head>\n",
    "        <title>Hello HTML</title>\n",
    "    </head>\n",
    "    <body>\n",
    "        <p>Hello World!</p>\n",
    "    </body>\n",
    "</html>"
   ]
  },
  {
   "cell_type": "code",
   "execution_count": null,
   "metadata": {},
   "outputs": [],
   "source": [
    "# 왜 웹을 알아야 하는가?\n",
    "\n",
    "# 많은 데이터들이 웹을 통해 공유됨\n",
    "# HTML 도 일종의 프로그램, 페이지 생성 규칙이 있음\n",
    "# 규칙을 분석하여 데이터의 추출이 가능\n",
    "# 추출된 데이터를 바탕으로 다양한 분석이 가능"
   ]
  },
  {
   "cell_type": "code",
   "execution_count": null,
   "metadata": {},
   "outputs": [],
   "source": [
    "# 정규식 (regular expression)\n",
    "\n",
    "# 정규 표현식, regexp 또는 regex 등으로 불림\n",
    "# 복잡한 문자열 패턴을 정의하는 문자 표현 공식\n",
    "# 특정한 규칙을 가진 문자열의 집합을 추출\n",
    "\n",
    "# 010-000-0000 ^\\d{3}\\-^\\d{4}\\-\\d{4}$\n",
    "# 203.252.101.40 ^\\d{1,3}\\.\\d{1,3}\\.\\d{1,3}\\.\\d{1,3}$"
   ]
  },
  {
   "cell_type": "code",
   "execution_count": null,
   "metadata": {},
   "outputs": [],
   "source": [
    "# 문법 자체는 매우 방대, 스스로 찾아서 학습이 필요\n",
    "\n",
    "# 기본문법 1\n",
    "\n",
    "# 문자 클래스 [ ]: [ 와 ] 사이의 문자들과 매치라는 의미\n",
    "# 예) [abc]  해당 글자가 a,b,c중 하나가 있다.\n",
    "# “a”, “before”, “deep” , “dud”, “sunset”\n",
    "\n",
    "# “-“를 사용 범위를 지정할 수 있음\n",
    "# 예) [a-zA-z] – 알파벳 전체, [0-9] – 숫자 전체"
   ]
  }
 ],
 "metadata": {
  "kernelspec": {
   "display_name": "Python 3.9.12 ('ml_scratch')",
   "language": "python",
   "name": "python3"
  },
  "language_info": {
   "codemirror_mode": {
    "name": "ipython",
    "version": 3
   },
   "file_extension": ".py",
   "mimetype": "text/x-python",
   "name": "python",
   "nbconvert_exporter": "python",
   "pygments_lexer": "ipython3",
   "version": "3.9.12"
  },
  "orig_nbformat": 4,
  "vscode": {
   "interpreter": {
    "hash": "8e490d1025af6f1d897f25b8886f0ffd0fa448a925aa087970166c6ca66cf580"
   }
  }
 },
 "nbformat": 4,
 "nbformat_minor": 2
}
